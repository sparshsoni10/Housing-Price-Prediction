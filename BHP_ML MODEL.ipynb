{
 "cells": [
  {
   "cell_type": "code",
   "execution_count": 1,
   "id": "0e431069",
   "metadata": {
    "execution": {
     "iopub.execute_input": "2025-03-07T10:42:20.025814Z",
     "iopub.status.busy": "2025-03-07T10:42:20.025418Z",
     "iopub.status.idle": "2025-03-07T10:42:22.715536Z",
     "shell.execute_reply": "2025-03-07T10:42:22.714276Z"
    },
    "papermill": {
     "duration": 2.711078,
     "end_time": "2025-03-07T10:42:22.717710",
     "exception": false,
     "start_time": "2025-03-07T10:42:20.006632",
     "status": "completed"
    },
    "tags": []
   },
   "outputs": [],
   "source": [
    "import matplotlib.pyplot as plt\n",
    "import seaborn as sns\n",
    "import re\n",
    "\n",
    "import warnings\n",
    "warnings.filterwarnings('ignore')"
   ]
  },
  {
   "cell_type": "code",
   "execution_count": 2,
   "id": "9274be29",
   "metadata": {
    "execution": {
     "iopub.execute_input": "2025-03-07T10:42:22.758789Z",
     "iopub.status.busy": "2025-03-07T10:42:22.757801Z",
     "iopub.status.idle": "2025-03-07T10:42:22.771285Z",
     "shell.execute_reply": "2025-03-07T10:42:22.770099Z"
    },
    "papermill": {
     "duration": 0.038395,
     "end_time": "2025-03-07T10:42:22.773765",
     "exception": false,
     "start_time": "2025-03-07T10:42:22.735370",
     "status": "completed"
    },
    "tags": []
   },
   "outputs": [
    {
     "name": "stdout",
     "output_type": "stream",
     "text": [
      "/kaggle/input/bangalore-housing-prices/BHP.csv\n"
     ]
    }
   ],
   "source": [
    "# This Python 3 environment comes with many helpful analytics libraries installed\n",
    "# It is defined by the kaggle/python Docker image: https://github.com/kaggle/docker-python\n",
    "# For example, here's several helpful packages to load\n",
    "\n",
    "import numpy as np # linear algebra\n",
    "import pandas as pd # data processing, CSV file I/O (e.g. pd.read_csv)\n",
    "\n",
    "# Input data files are available in the read-only \"../input/\" directory\n",
    "# For example, running this (by clicking run or pressing Shift+Enter) will list all files under the input directory\n",
    "\n",
    "import os\n",
    "for dirname, _, filenames in os.walk('/kaggle/input'):\n",
    "    for filename in filenames:\n",
    "        print(os.path.join(dirname, filename))\n",
    "\n",
    "# You can write up to 20GB to the current directory (/kaggle/working/) that gets preserved as output when you create a version using \"Save & Run All\" \n",
    "# You can also write temporary files to /kaggle/temp/, but they won't be saved outside of the current session\n"
   ]
  },
  {
   "cell_type": "markdown",
   "id": "519270a7",
   "metadata": {
    "papermill": {
     "duration": 0.022049,
     "end_time": "2025-03-07T10:42:22.823105",
     "exception": false,
     "start_time": "2025-03-07T10:42:22.801056",
     "status": "completed"
    },
    "tags": []
   },
   "source": [
    "## Importing data"
   ]
  },
  {
   "cell_type": "code",
   "execution_count": 3,
   "id": "95313512",
   "metadata": {
    "execution": {
     "iopub.execute_input": "2025-03-07T10:42:22.866984Z",
     "iopub.status.busy": "2025-03-07T10:42:22.866499Z",
     "iopub.status.idle": "2025-03-07T10:42:22.927402Z",
     "shell.execute_reply": "2025-03-07T10:42:22.926122Z"
    },
    "papermill": {
     "duration": 0.081376,
     "end_time": "2025-03-07T10:42:22.929811",
     "exception": false,
     "start_time": "2025-03-07T10:42:22.848435",
     "status": "completed"
    },
    "tags": []
   },
   "outputs": [],
   "source": [
    "df = pd.read_csv('/kaggle/input/bangalore-housing-prices/BHP.csv')"
   ]
  },
  {
   "cell_type": "code",
   "execution_count": 4,
   "id": "a0143448",
   "metadata": {
    "execution": {
     "iopub.execute_input": "2025-03-07T10:42:22.970490Z",
     "iopub.status.busy": "2025-03-07T10:42:22.970002Z",
     "iopub.status.idle": "2025-03-07T10:42:22.999997Z",
     "shell.execute_reply": "2025-03-07T10:42:22.998885Z"
    },
    "papermill": {
     "duration": 0.050885,
     "end_time": "2025-03-07T10:42:23.001744",
     "exception": false,
     "start_time": "2025-03-07T10:42:22.950859",
     "status": "completed"
    },
    "tags": []
   },
   "outputs": [
    {
     "data": {
      "text/html": [
       "<div>\n",
       "<style scoped>\n",
       "    .dataframe tbody tr th:only-of-type {\n",
       "        vertical-align: middle;\n",
       "    }\n",
       "\n",
       "    .dataframe tbody tr th {\n",
       "        vertical-align: top;\n",
       "    }\n",
       "\n",
       "    .dataframe thead th {\n",
       "        text-align: right;\n",
       "    }\n",
       "</style>\n",
       "<table border=\"1\" class=\"dataframe\">\n",
       "  <thead>\n",
       "    <tr style=\"text-align: right;\">\n",
       "      <th></th>\n",
       "      <th>area_type</th>\n",
       "      <th>availability</th>\n",
       "      <th>location</th>\n",
       "      <th>size</th>\n",
       "      <th>society</th>\n",
       "      <th>total_sqft</th>\n",
       "      <th>bath</th>\n",
       "      <th>balcony</th>\n",
       "      <th>price</th>\n",
       "    </tr>\n",
       "  </thead>\n",
       "  <tbody>\n",
       "    <tr>\n",
       "      <th>0</th>\n",
       "      <td>Super built-up  Area</td>\n",
       "      <td>19-Dec</td>\n",
       "      <td>Electronic City Phase II</td>\n",
       "      <td>2 BHK</td>\n",
       "      <td>Coomee</td>\n",
       "      <td>1056</td>\n",
       "      <td>2.0</td>\n",
       "      <td>1.0</td>\n",
       "      <td>39.07</td>\n",
       "    </tr>\n",
       "    <tr>\n",
       "      <th>1</th>\n",
       "      <td>Plot  Area</td>\n",
       "      <td>Ready To Move</td>\n",
       "      <td>Chikka Tirupathi</td>\n",
       "      <td>4 Bedroom</td>\n",
       "      <td>Theanmp</td>\n",
       "      <td>2600</td>\n",
       "      <td>5.0</td>\n",
       "      <td>3.0</td>\n",
       "      <td>120.00</td>\n",
       "    </tr>\n",
       "    <tr>\n",
       "      <th>2</th>\n",
       "      <td>Built-up  Area</td>\n",
       "      <td>Ready To Move</td>\n",
       "      <td>Uttarahalli</td>\n",
       "      <td>3 BHK</td>\n",
       "      <td>NaN</td>\n",
       "      <td>1440</td>\n",
       "      <td>2.0</td>\n",
       "      <td>3.0</td>\n",
       "      <td>62.00</td>\n",
       "    </tr>\n",
       "    <tr>\n",
       "      <th>3</th>\n",
       "      <td>Super built-up  Area</td>\n",
       "      <td>Ready To Move</td>\n",
       "      <td>Lingadheeranahalli</td>\n",
       "      <td>3 BHK</td>\n",
       "      <td>Soiewre</td>\n",
       "      <td>1521</td>\n",
       "      <td>3.0</td>\n",
       "      <td>1.0</td>\n",
       "      <td>95.00</td>\n",
       "    </tr>\n",
       "    <tr>\n",
       "      <th>4</th>\n",
       "      <td>Super built-up  Area</td>\n",
       "      <td>Ready To Move</td>\n",
       "      <td>Kothanur</td>\n",
       "      <td>2 BHK</td>\n",
       "      <td>NaN</td>\n",
       "      <td>1200</td>\n",
       "      <td>2.0</td>\n",
       "      <td>1.0</td>\n",
       "      <td>51.00</td>\n",
       "    </tr>\n",
       "    <tr>\n",
       "      <th>...</th>\n",
       "      <td>...</td>\n",
       "      <td>...</td>\n",
       "      <td>...</td>\n",
       "      <td>...</td>\n",
       "      <td>...</td>\n",
       "      <td>...</td>\n",
       "      <td>...</td>\n",
       "      <td>...</td>\n",
       "      <td>...</td>\n",
       "    </tr>\n",
       "    <tr>\n",
       "      <th>13315</th>\n",
       "      <td>Built-up  Area</td>\n",
       "      <td>Ready To Move</td>\n",
       "      <td>Whitefield</td>\n",
       "      <td>5 Bedroom</td>\n",
       "      <td>ArsiaEx</td>\n",
       "      <td>3453</td>\n",
       "      <td>4.0</td>\n",
       "      <td>0.0</td>\n",
       "      <td>231.00</td>\n",
       "    </tr>\n",
       "    <tr>\n",
       "      <th>13316</th>\n",
       "      <td>Super built-up  Area</td>\n",
       "      <td>Ready To Move</td>\n",
       "      <td>Richards Town</td>\n",
       "      <td>4 BHK</td>\n",
       "      <td>NaN</td>\n",
       "      <td>3600</td>\n",
       "      <td>5.0</td>\n",
       "      <td>NaN</td>\n",
       "      <td>400.00</td>\n",
       "    </tr>\n",
       "    <tr>\n",
       "      <th>13317</th>\n",
       "      <td>Built-up  Area</td>\n",
       "      <td>Ready To Move</td>\n",
       "      <td>Raja Rajeshwari Nagar</td>\n",
       "      <td>2 BHK</td>\n",
       "      <td>Mahla T</td>\n",
       "      <td>1141</td>\n",
       "      <td>2.0</td>\n",
       "      <td>1.0</td>\n",
       "      <td>60.00</td>\n",
       "    </tr>\n",
       "    <tr>\n",
       "      <th>13318</th>\n",
       "      <td>Super built-up  Area</td>\n",
       "      <td>18-Jun</td>\n",
       "      <td>Padmanabhanagar</td>\n",
       "      <td>4 BHK</td>\n",
       "      <td>SollyCl</td>\n",
       "      <td>4689</td>\n",
       "      <td>4.0</td>\n",
       "      <td>1.0</td>\n",
       "      <td>488.00</td>\n",
       "    </tr>\n",
       "    <tr>\n",
       "      <th>13319</th>\n",
       "      <td>Super built-up  Area</td>\n",
       "      <td>Ready To Move</td>\n",
       "      <td>Doddathoguru</td>\n",
       "      <td>1 BHK</td>\n",
       "      <td>NaN</td>\n",
       "      <td>550</td>\n",
       "      <td>1.0</td>\n",
       "      <td>1.0</td>\n",
       "      <td>17.00</td>\n",
       "    </tr>\n",
       "  </tbody>\n",
       "</table>\n",
       "<p>13320 rows × 9 columns</p>\n",
       "</div>"
      ],
      "text/plain": [
       "                  area_type   availability                  location  \\\n",
       "0      Super built-up  Area         19-Dec  Electronic City Phase II   \n",
       "1                Plot  Area  Ready To Move          Chikka Tirupathi   \n",
       "2            Built-up  Area  Ready To Move               Uttarahalli   \n",
       "3      Super built-up  Area  Ready To Move        Lingadheeranahalli   \n",
       "4      Super built-up  Area  Ready To Move                  Kothanur   \n",
       "...                     ...            ...                       ...   \n",
       "13315        Built-up  Area  Ready To Move                Whitefield   \n",
       "13316  Super built-up  Area  Ready To Move             Richards Town   \n",
       "13317        Built-up  Area  Ready To Move     Raja Rajeshwari Nagar   \n",
       "13318  Super built-up  Area         18-Jun           Padmanabhanagar   \n",
       "13319  Super built-up  Area  Ready To Move              Doddathoguru   \n",
       "\n",
       "            size  society total_sqft  bath  balcony   price  \n",
       "0          2 BHK  Coomee        1056   2.0      1.0   39.07  \n",
       "1      4 Bedroom  Theanmp       2600   5.0      3.0  120.00  \n",
       "2          3 BHK      NaN       1440   2.0      3.0   62.00  \n",
       "3          3 BHK  Soiewre       1521   3.0      1.0   95.00  \n",
       "4          2 BHK      NaN       1200   2.0      1.0   51.00  \n",
       "...          ...      ...        ...   ...      ...     ...  \n",
       "13315  5 Bedroom  ArsiaEx       3453   4.0      0.0  231.00  \n",
       "13316      4 BHK      NaN       3600   5.0      NaN  400.00  \n",
       "13317      2 BHK  Mahla T       1141   2.0      1.0   60.00  \n",
       "13318      4 BHK  SollyCl       4689   4.0      1.0  488.00  \n",
       "13319      1 BHK      NaN        550   1.0      1.0   17.00  \n",
       "\n",
       "[13320 rows x 9 columns]"
      ]
     },
     "execution_count": 4,
     "metadata": {},
     "output_type": "execute_result"
    }
   ],
   "source": [
    "df"
   ]
  },
  {
   "cell_type": "markdown",
   "id": "151dac18",
   "metadata": {
    "papermill": {
     "duration": 0.016191,
     "end_time": "2025-03-07T10:42:23.034690",
     "exception": false,
     "start_time": "2025-03-07T10:42:23.018499",
     "status": "completed"
    },
    "tags": []
   },
   "source": [
    "## Checking Duplicates"
   ]
  },
  {
   "cell_type": "code",
   "execution_count": 5,
   "id": "a20fcf8c",
   "metadata": {
    "execution": {
     "iopub.execute_input": "2025-03-07T10:42:23.069072Z",
     "iopub.status.busy": "2025-03-07T10:42:23.068606Z",
     "iopub.status.idle": "2025-03-07T10:42:23.092974Z",
     "shell.execute_reply": "2025-03-07T10:42:23.091721Z"
    },
    "papermill": {
     "duration": 0.04402,
     "end_time": "2025-03-07T10:42:23.095097",
     "exception": false,
     "start_time": "2025-03-07T10:42:23.051077",
     "status": "completed"
    },
    "tags": []
   },
   "outputs": [
    {
     "data": {
      "text/plain": [
       "529"
      ]
     },
     "execution_count": 5,
     "metadata": {},
     "output_type": "execute_result"
    }
   ],
   "source": [
    "df.duplicated().sum()"
   ]
  },
  {
   "cell_type": "code",
   "execution_count": 6,
   "id": "f0d7e2e7",
   "metadata": {
    "execution": {
     "iopub.execute_input": "2025-03-07T10:42:23.131013Z",
     "iopub.status.busy": "2025-03-07T10:42:23.130536Z",
     "iopub.status.idle": "2025-03-07T10:42:23.159473Z",
     "shell.execute_reply": "2025-03-07T10:42:23.158168Z"
    },
    "papermill": {
     "duration": 0.048989,
     "end_time": "2025-03-07T10:42:23.161515",
     "exception": false,
     "start_time": "2025-03-07T10:42:23.112526",
     "status": "completed"
    },
    "tags": []
   },
   "outputs": [
    {
     "data": {
      "text/html": [
       "<div>\n",
       "<style scoped>\n",
       "    .dataframe tbody tr th:only-of-type {\n",
       "        vertical-align: middle;\n",
       "    }\n",
       "\n",
       "    .dataframe tbody tr th {\n",
       "        vertical-align: top;\n",
       "    }\n",
       "\n",
       "    .dataframe thead th {\n",
       "        text-align: right;\n",
       "    }\n",
       "</style>\n",
       "<table border=\"1\" class=\"dataframe\">\n",
       "  <thead>\n",
       "    <tr style=\"text-align: right;\">\n",
       "      <th></th>\n",
       "      <th>area_type</th>\n",
       "      <th>availability</th>\n",
       "      <th>location</th>\n",
       "      <th>size</th>\n",
       "      <th>society</th>\n",
       "      <th>total_sqft</th>\n",
       "      <th>bath</th>\n",
       "      <th>balcony</th>\n",
       "      <th>price</th>\n",
       "    </tr>\n",
       "  </thead>\n",
       "  <tbody>\n",
       "    <tr>\n",
       "      <th>971</th>\n",
       "      <td>Super built-up  Area</td>\n",
       "      <td>Ready To Move</td>\n",
       "      <td>Haralur Road</td>\n",
       "      <td>3 BHK</td>\n",
       "      <td>NRowse</td>\n",
       "      <td>1464</td>\n",
       "      <td>3.0</td>\n",
       "      <td>2.0</td>\n",
       "      <td>56.0</td>\n",
       "    </tr>\n",
       "    <tr>\n",
       "      <th>1115</th>\n",
       "      <td>Super built-up  Area</td>\n",
       "      <td>Ready To Move</td>\n",
       "      <td>Haralur Road</td>\n",
       "      <td>2 BHK</td>\n",
       "      <td>NaN</td>\n",
       "      <td>1027</td>\n",
       "      <td>2.0</td>\n",
       "      <td>2.0</td>\n",
       "      <td>44.0</td>\n",
       "    </tr>\n",
       "    <tr>\n",
       "      <th>1143</th>\n",
       "      <td>Super built-up  Area</td>\n",
       "      <td>Ready To Move</td>\n",
       "      <td>Vittasandra</td>\n",
       "      <td>2 BHK</td>\n",
       "      <td>Prlla C</td>\n",
       "      <td>1246</td>\n",
       "      <td>2.0</td>\n",
       "      <td>1.0</td>\n",
       "      <td>64.5</td>\n",
       "    </tr>\n",
       "    <tr>\n",
       "      <th>1290</th>\n",
       "      <td>Super built-up  Area</td>\n",
       "      <td>Ready To Move</td>\n",
       "      <td>Haralur Road</td>\n",
       "      <td>2 BHK</td>\n",
       "      <td>NaN</td>\n",
       "      <td>1194</td>\n",
       "      <td>2.0</td>\n",
       "      <td>2.0</td>\n",
       "      <td>47.0</td>\n",
       "    </tr>\n",
       "    <tr>\n",
       "      <th>1394</th>\n",
       "      <td>Super built-up  Area</td>\n",
       "      <td>Ready To Move</td>\n",
       "      <td>Haralur Road</td>\n",
       "      <td>2 BHK</td>\n",
       "      <td>NaN</td>\n",
       "      <td>1027</td>\n",
       "      <td>2.0</td>\n",
       "      <td>2.0</td>\n",
       "      <td>44.0</td>\n",
       "    </tr>\n",
       "  </tbody>\n",
       "</table>\n",
       "</div>"
      ],
      "text/plain": [
       "                 area_type   availability      location   size  society  \\\n",
       "971   Super built-up  Area  Ready To Move  Haralur Road  3 BHK  NRowse    \n",
       "1115  Super built-up  Area  Ready To Move  Haralur Road  2 BHK      NaN   \n",
       "1143  Super built-up  Area  Ready To Move   Vittasandra  2 BHK  Prlla C   \n",
       "1290  Super built-up  Area  Ready To Move  Haralur Road  2 BHK      NaN   \n",
       "1394  Super built-up  Area  Ready To Move  Haralur Road  2 BHK      NaN   \n",
       "\n",
       "     total_sqft  bath  balcony  price  \n",
       "971        1464   3.0      2.0   56.0  \n",
       "1115       1027   2.0      2.0   44.0  \n",
       "1143       1246   2.0      1.0   64.5  \n",
       "1290       1194   2.0      2.0   47.0  \n",
       "1394       1027   2.0      2.0   44.0  "
      ]
     },
     "execution_count": 6,
     "metadata": {},
     "output_type": "execute_result"
    }
   ],
   "source": [
    "df[df.duplicated()].head()"
   ]
  },
  {
   "cell_type": "code",
   "execution_count": 7,
   "id": "73ba1d1f",
   "metadata": {
    "execution": {
     "iopub.execute_input": "2025-03-07T10:42:23.219469Z",
     "iopub.status.busy": "2025-03-07T10:42:23.218777Z",
     "iopub.status.idle": "2025-03-07T10:42:23.236505Z",
     "shell.execute_reply": "2025-03-07T10:42:23.235434Z"
    },
    "papermill": {
     "duration": 0.05132,
     "end_time": "2025-03-07T10:42:23.238676",
     "exception": false,
     "start_time": "2025-03-07T10:42:23.187356",
     "status": "completed"
    },
    "tags": []
   },
   "outputs": [],
   "source": [
    "df = df.drop_duplicates(keep='first')"
   ]
  },
  {
   "cell_type": "code",
   "execution_count": 8,
   "id": "b049a884",
   "metadata": {
    "execution": {
     "iopub.execute_input": "2025-03-07T10:42:23.275009Z",
     "iopub.status.busy": "2025-03-07T10:42:23.274559Z",
     "iopub.status.idle": "2025-03-07T10:42:23.289594Z",
     "shell.execute_reply": "2025-03-07T10:42:23.288493Z"
    },
    "papermill": {
     "duration": 0.035032,
     "end_time": "2025-03-07T10:42:23.291045",
     "exception": false,
     "start_time": "2025-03-07T10:42:23.256013",
     "status": "completed"
    },
    "tags": []
   },
   "outputs": [
    {
     "data": {
      "text/html": [
       "<div>\n",
       "<style scoped>\n",
       "    .dataframe tbody tr th:only-of-type {\n",
       "        vertical-align: middle;\n",
       "    }\n",
       "\n",
       "    .dataframe tbody tr th {\n",
       "        vertical-align: top;\n",
       "    }\n",
       "\n",
       "    .dataframe thead th {\n",
       "        text-align: right;\n",
       "    }\n",
       "</style>\n",
       "<table border=\"1\" class=\"dataframe\">\n",
       "  <thead>\n",
       "    <tr style=\"text-align: right;\">\n",
       "      <th></th>\n",
       "      <th>area_type</th>\n",
       "      <th>availability</th>\n",
       "      <th>location</th>\n",
       "      <th>size</th>\n",
       "      <th>society</th>\n",
       "      <th>total_sqft</th>\n",
       "      <th>bath</th>\n",
       "      <th>balcony</th>\n",
       "      <th>price</th>\n",
       "    </tr>\n",
       "  </thead>\n",
       "  <tbody>\n",
       "    <tr>\n",
       "      <th>0</th>\n",
       "      <td>Super built-up  Area</td>\n",
       "      <td>19-Dec</td>\n",
       "      <td>Electronic City Phase II</td>\n",
       "      <td>2 BHK</td>\n",
       "      <td>Coomee</td>\n",
       "      <td>1056</td>\n",
       "      <td>2.0</td>\n",
       "      <td>1.0</td>\n",
       "      <td>39.07</td>\n",
       "    </tr>\n",
       "    <tr>\n",
       "      <th>1</th>\n",
       "      <td>Plot  Area</td>\n",
       "      <td>Ready To Move</td>\n",
       "      <td>Chikka Tirupathi</td>\n",
       "      <td>4 Bedroom</td>\n",
       "      <td>Theanmp</td>\n",
       "      <td>2600</td>\n",
       "      <td>5.0</td>\n",
       "      <td>3.0</td>\n",
       "      <td>120.00</td>\n",
       "    </tr>\n",
       "    <tr>\n",
       "      <th>2</th>\n",
       "      <td>Built-up  Area</td>\n",
       "      <td>Ready To Move</td>\n",
       "      <td>Uttarahalli</td>\n",
       "      <td>3 BHK</td>\n",
       "      <td>NaN</td>\n",
       "      <td>1440</td>\n",
       "      <td>2.0</td>\n",
       "      <td>3.0</td>\n",
       "      <td>62.00</td>\n",
       "    </tr>\n",
       "    <tr>\n",
       "      <th>3</th>\n",
       "      <td>Super built-up  Area</td>\n",
       "      <td>Ready To Move</td>\n",
       "      <td>Lingadheeranahalli</td>\n",
       "      <td>3 BHK</td>\n",
       "      <td>Soiewre</td>\n",
       "      <td>1521</td>\n",
       "      <td>3.0</td>\n",
       "      <td>1.0</td>\n",
       "      <td>95.00</td>\n",
       "    </tr>\n",
       "    <tr>\n",
       "      <th>4</th>\n",
       "      <td>Super built-up  Area</td>\n",
       "      <td>Ready To Move</td>\n",
       "      <td>Kothanur</td>\n",
       "      <td>2 BHK</td>\n",
       "      <td>NaN</td>\n",
       "      <td>1200</td>\n",
       "      <td>2.0</td>\n",
       "      <td>1.0</td>\n",
       "      <td>51.00</td>\n",
       "    </tr>\n",
       "  </tbody>\n",
       "</table>\n",
       "</div>"
      ],
      "text/plain": [
       "              area_type   availability                  location       size  \\\n",
       "0  Super built-up  Area         19-Dec  Electronic City Phase II      2 BHK   \n",
       "1            Plot  Area  Ready To Move          Chikka Tirupathi  4 Bedroom   \n",
       "2        Built-up  Area  Ready To Move               Uttarahalli      3 BHK   \n",
       "3  Super built-up  Area  Ready To Move        Lingadheeranahalli      3 BHK   \n",
       "4  Super built-up  Area  Ready To Move                  Kothanur      2 BHK   \n",
       "\n",
       "   society total_sqft  bath  balcony   price  \n",
       "0  Coomee        1056   2.0      1.0   39.07  \n",
       "1  Theanmp       2600   5.0      3.0  120.00  \n",
       "2      NaN       1440   2.0      3.0   62.00  \n",
       "3  Soiewre       1521   3.0      1.0   95.00  \n",
       "4      NaN       1200   2.0      1.0   51.00  "
      ]
     },
     "execution_count": 8,
     "metadata": {},
     "output_type": "execute_result"
    }
   ],
   "source": [
    "df.head()"
   ]
  },
  {
   "cell_type": "markdown",
   "id": "54befb0a",
   "metadata": {
    "papermill": {
     "duration": 0.016679,
     "end_time": "2025-03-07T10:42:23.325465",
     "exception": false,
     "start_time": "2025-03-07T10:42:23.308786",
     "status": "completed"
    },
    "tags": []
   },
   "source": [
    "## Data exploration and cleaning"
   ]
  },
  {
   "cell_type": "code",
   "execution_count": 9,
   "id": "974a4575",
   "metadata": {
    "execution": {
     "iopub.execute_input": "2025-03-07T10:42:23.361782Z",
     "iopub.status.busy": "2025-03-07T10:42:23.361197Z",
     "iopub.status.idle": "2025-03-07T10:42:23.384019Z",
     "shell.execute_reply": "2025-03-07T10:42:23.382751Z"
    },
    "papermill": {
     "duration": 0.04342,
     "end_time": "2025-03-07T10:42:23.385727",
     "exception": false,
     "start_time": "2025-03-07T10:42:23.342307",
     "status": "completed"
    },
    "tags": []
   },
   "outputs": [
    {
     "name": "stdout",
     "output_type": "stream",
     "text": [
      "<class 'pandas.core.frame.DataFrame'>\n",
      "Index: 12791 entries, 0 to 13318\n",
      "Data columns (total 9 columns):\n",
      " #   Column        Non-Null Count  Dtype  \n",
      "---  ------        --------------  -----  \n",
      " 0   area_type     12791 non-null  object \n",
      " 1   availability  12791 non-null  object \n",
      " 2   location      12790 non-null  object \n",
      " 3   size          12775 non-null  object \n",
      " 4   society       7463 non-null   object \n",
      " 5   total_sqft    12791 non-null  object \n",
      " 6   bath          12718 non-null  float64\n",
      " 7   balcony       12186 non-null  float64\n",
      " 8   price         12791 non-null  float64\n",
      "dtypes: float64(3), object(6)\n",
      "memory usage: 999.3+ KB\n"
     ]
    }
   ],
   "source": [
    "df.info()"
   ]
  },
  {
   "cell_type": "code",
   "execution_count": 10,
   "id": "c3e61bb7",
   "metadata": {
    "execution": {
     "iopub.execute_input": "2025-03-07T10:42:23.421196Z",
     "iopub.status.busy": "2025-03-07T10:42:23.420824Z",
     "iopub.status.idle": "2025-03-07T10:42:23.433658Z",
     "shell.execute_reply": "2025-03-07T10:42:23.432499Z"
    },
    "papermill": {
     "duration": 0.032355,
     "end_time": "2025-03-07T10:42:23.435351",
     "exception": false,
     "start_time": "2025-03-07T10:42:23.402996",
     "status": "completed"
    },
    "tags": []
   },
   "outputs": [
    {
     "data": {
      "text/plain": [
       "area_type        0.000000\n",
       "availability     0.000000\n",
       "location         0.007818\n",
       "size             0.125088\n",
       "society         41.654288\n",
       "total_sqft       0.000000\n",
       "bath             0.570714\n",
       "balcony          4.729888\n",
       "price            0.000000\n",
       "dtype: float64"
      ]
     },
     "execution_count": 10,
     "metadata": {},
     "output_type": "execute_result"
    }
   ],
   "source": [
    "df.isna().sum()/len(df)*100"
   ]
  },
  {
   "cell_type": "code",
   "execution_count": 11,
   "id": "a9eb74c3",
   "metadata": {
    "execution": {
     "iopub.execute_input": "2025-03-07T10:42:23.471045Z",
     "iopub.status.busy": "2025-03-07T10:42:23.470686Z",
     "iopub.status.idle": "2025-03-07T10:42:23.478228Z",
     "shell.execute_reply": "2025-03-07T10:42:23.477114Z"
    },
    "papermill": {
     "duration": 0.027259,
     "end_time": "2025-03-07T10:42:23.479881",
     "exception": false,
     "start_time": "2025-03-07T10:42:23.452622",
     "status": "completed"
    },
    "tags": []
   },
   "outputs": [],
   "source": [
    "# As society has more than 41% of data missing so we can drop it\n",
    "df.drop(columns='society',inplace=True)"
   ]
  },
  {
   "cell_type": "code",
   "execution_count": 12,
   "id": "87a6b8d2",
   "metadata": {
    "execution": {
     "iopub.execute_input": "2025-03-07T10:42:23.515243Z",
     "iopub.status.busy": "2025-03-07T10:42:23.514868Z",
     "iopub.status.idle": "2025-03-07T10:42:23.540017Z",
     "shell.execute_reply": "2025-03-07T10:42:23.538793Z"
    },
    "papermill": {
     "duration": 0.044773,
     "end_time": "2025-03-07T10:42:23.541735",
     "exception": false,
     "start_time": "2025-03-07T10:42:23.496962",
     "status": "completed"
    },
    "tags": []
   },
   "outputs": [
    {
     "data": {
      "text/html": [
       "<div>\n",
       "<style scoped>\n",
       "    .dataframe tbody tr th:only-of-type {\n",
       "        vertical-align: middle;\n",
       "    }\n",
       "\n",
       "    .dataframe tbody tr th {\n",
       "        vertical-align: top;\n",
       "    }\n",
       "\n",
       "    .dataframe thead th {\n",
       "        text-align: right;\n",
       "    }\n",
       "</style>\n",
       "<table border=\"1\" class=\"dataframe\">\n",
       "  <thead>\n",
       "    <tr style=\"text-align: right;\">\n",
       "      <th></th>\n",
       "      <th>count</th>\n",
       "      <th>mean</th>\n",
       "      <th>std</th>\n",
       "      <th>min</th>\n",
       "      <th>25%</th>\n",
       "      <th>50%</th>\n",
       "      <th>75%</th>\n",
       "      <th>max</th>\n",
       "    </tr>\n",
       "  </thead>\n",
       "  <tbody>\n",
       "    <tr>\n",
       "      <th>bath</th>\n",
       "      <td>12718.0</td>\n",
       "      <td>2.708602</td>\n",
       "      <td>1.357764</td>\n",
       "      <td>1.0</td>\n",
       "      <td>2.0</td>\n",
       "      <td>2.0</td>\n",
       "      <td>3.0</td>\n",
       "      <td>40.0</td>\n",
       "    </tr>\n",
       "    <tr>\n",
       "      <th>balcony</th>\n",
       "      <td>12186.0</td>\n",
       "      <td>1.582308</td>\n",
       "      <td>0.822536</td>\n",
       "      <td>0.0</td>\n",
       "      <td>1.0</td>\n",
       "      <td>2.0</td>\n",
       "      <td>2.0</td>\n",
       "      <td>3.0</td>\n",
       "    </tr>\n",
       "    <tr>\n",
       "      <th>price</th>\n",
       "      <td>12791.0</td>\n",
       "      <td>114.317646</td>\n",
       "      <td>151.480310</td>\n",
       "      <td>8.0</td>\n",
       "      <td>50.0</td>\n",
       "      <td>73.0</td>\n",
       "      <td>121.0</td>\n",
       "      <td>3600.0</td>\n",
       "    </tr>\n",
       "  </tbody>\n",
       "</table>\n",
       "</div>"
      ],
      "text/plain": [
       "           count        mean         std  min   25%   50%    75%     max\n",
       "bath     12718.0    2.708602    1.357764  1.0   2.0   2.0    3.0    40.0\n",
       "balcony  12186.0    1.582308    0.822536  0.0   1.0   2.0    2.0     3.0\n",
       "price    12791.0  114.317646  151.480310  8.0  50.0  73.0  121.0  3600.0"
      ]
     },
     "execution_count": 12,
     "metadata": {},
     "output_type": "execute_result"
    }
   ],
   "source": [
    "df.describe().T\n",
    "#can see bath has some missing values and outliers, which we can deal in later stages."
   ]
  },
  {
   "cell_type": "code",
   "execution_count": 13,
   "id": "819153d5",
   "metadata": {
    "execution": {
     "iopub.execute_input": "2025-03-07T10:42:23.578959Z",
     "iopub.status.busy": "2025-03-07T10:42:23.578451Z",
     "iopub.status.idle": "2025-03-07T10:42:23.595082Z",
     "shell.execute_reply": "2025-03-07T10:42:23.593717Z"
    },
    "papermill": {
     "duration": 0.037552,
     "end_time": "2025-03-07T10:42:23.596730",
     "exception": false,
     "start_time": "2025-03-07T10:42:23.559178",
     "status": "completed"
    },
    "tags": []
   },
   "outputs": [
    {
     "name": "stdout",
     "output_type": "stream",
     "text": [
      "['Super built-up  Area' 'Plot  Area' 'Built-up  Area' 'Carpet  Area']\n",
      "availability\n",
      "Ready To Move    10172\n",
      "18-May             292\n",
      "18-Dec             284\n",
      "18-Apr             269\n",
      "18-Aug             187\n",
      "Name: count, dtype: int64\n"
     ]
    }
   ],
   "source": [
    "print(df['area_type'].unique())\n",
    "print(df['availability'].value_counts().head())\n",
    "df['ready_to_move'] = np.where(df['availability']== 'Ready To Move',1,0)\n",
    "#most of the values are -ready to move, we can just make it a categorical variable for now, and further can see if its \n",
    "#significant or not\n",
    "df.drop(columns= 'availability',inplace=True)"
   ]
  },
  {
   "cell_type": "code",
   "execution_count": 14,
   "id": "ba9d6f11",
   "metadata": {
    "execution": {
     "iopub.execute_input": "2025-03-07T10:42:23.633487Z",
     "iopub.status.busy": "2025-03-07T10:42:23.633097Z",
     "iopub.status.idle": "2025-03-07T10:42:23.667947Z",
     "shell.execute_reply": "2025-03-07T10:42:23.666837Z"
    },
    "papermill": {
     "duration": 0.055495,
     "end_time": "2025-03-07T10:42:23.669669",
     "exception": false,
     "start_time": "2025-03-07T10:42:23.614174",
     "status": "completed"
    },
    "tags": []
   },
   "outputs": [
    {
     "name": "stdout",
     "output_type": "stream",
     "text": [
      "1305\n"
     ]
    },
    {
     "data": {
      "text/plain": [
       "location\n",
       "other              3571\n",
       "Whitefield          523\n",
       "Sarjapur  Road      379\n",
       "Electronic City     287\n",
       "Kanakpura Road      249\n",
       "                   ... \n",
       "Varthur Road         15\n",
       "Benson Town          15\n",
       "Chamrajpet           15\n",
       "Nagavarapalya        15\n",
       "Kodihalli            15\n",
       "Name: count, Length: 184, dtype: int64"
      ]
     },
     "execution_count": 14,
     "metadata": {},
     "output_type": "execute_result"
    }
   ],
   "source": [
    "print(df['location'].nunique())\n",
    "loc_ = df['location'].value_counts() \n",
    "loc_50 = loc_[loc_<15]\n",
    "loc_50\n",
    "df['location'] = df['location'].apply(lambda x:'other' if x in loc_50 else x)\n",
    "df['location'].value_counts()"
   ]
  },
  {
   "cell_type": "code",
   "execution_count": 15,
   "id": "fde6ba1b",
   "metadata": {
    "execution": {
     "iopub.execute_input": "2025-03-07T10:42:23.705439Z",
     "iopub.status.busy": "2025-03-07T10:42:23.705054Z",
     "iopub.status.idle": "2025-03-07T10:42:23.712681Z",
     "shell.execute_reply": "2025-03-07T10:42:23.711487Z"
    },
    "papermill": {
     "duration": 0.027275,
     "end_time": "2025-03-07T10:42:23.714267",
     "exception": false,
     "start_time": "2025-03-07T10:42:23.686992",
     "status": "completed"
    },
    "tags": []
   },
   "outputs": [
    {
     "name": "stdout",
     "output_type": "stream",
     "text": [
      "184\n"
     ]
    }
   ],
   "source": [
    "print(df['location'].nunique())\n",
    "df['location'].fillna('other',inplace=True)"
   ]
  },
  {
   "cell_type": "code",
   "execution_count": 16,
   "id": "103f1c07",
   "metadata": {
    "execution": {
     "iopub.execute_input": "2025-03-07T10:42:23.750460Z",
     "iopub.status.busy": "2025-03-07T10:42:23.750028Z",
     "iopub.status.idle": "2025-03-07T10:42:23.756068Z",
     "shell.execute_reply": "2025-03-07T10:42:23.754807Z"
    },
    "papermill": {
     "duration": 0.02614,
     "end_time": "2025-03-07T10:42:23.757904",
     "exception": false,
     "start_time": "2025-03-07T10:42:23.731764",
     "status": "completed"
    },
    "tags": []
   },
   "outputs": [
    {
     "name": "stdout",
     "output_type": "stream",
     "text": [
      "['2 BHK' '4 Bedroom' '3 BHK' '4 BHK' '6 Bedroom' '3 Bedroom' '1 BHK'\n",
      " '1 RK' '1 Bedroom' '8 Bedroom' '2 Bedroom' '7 Bedroom' '5 BHK' '7 BHK'\n",
      " '6 BHK' '5 Bedroom' '11 BHK' '9 BHK' nan '9 Bedroom' '27 BHK'\n",
      " '10 Bedroom' '11 Bedroom' '10 BHK' '19 BHK' '16 BHK' '43 Bedroom'\n",
      " '14 BHK' '8 BHK' '12 Bedroom' '13 BHK' '18 Bedroom']\n"
     ]
    }
   ],
   "source": [
    "print(df['size'].unique())\n",
    "#as there are some strings in the data so we have to remove it (we can consider bhk=bedroom)"
   ]
  },
  {
   "cell_type": "code",
   "execution_count": 17,
   "id": "9e078e5d",
   "metadata": {
    "execution": {
     "iopub.execute_input": "2025-03-07T10:42:23.794505Z",
     "iopub.status.busy": "2025-03-07T10:42:23.794113Z",
     "iopub.status.idle": "2025-03-07T10:42:23.816284Z",
     "shell.execute_reply": "2025-03-07T10:42:23.815471Z"
    },
    "papermill": {
     "duration": 0.042335,
     "end_time": "2025-03-07T10:42:23.818079",
     "exception": false,
     "start_time": "2025-03-07T10:42:23.775744",
     "status": "completed"
    },
    "tags": []
   },
   "outputs": [],
   "source": [
    "df['size'] = df['size'].str.split().str.get(0)\n",
    "df['size'] = df['size'].astype(float)"
   ]
  },
  {
   "cell_type": "code",
   "execution_count": 18,
   "id": "d14ba5f2",
   "metadata": {
    "execution": {
     "iopub.execute_input": "2025-03-07T10:42:23.856049Z",
     "iopub.status.busy": "2025-03-07T10:42:23.855665Z",
     "iopub.status.idle": "2025-03-07T10:42:23.860585Z",
     "shell.execute_reply": "2025-03-07T10:42:23.859133Z"
    },
    "papermill": {
     "duration": 0.026045,
     "end_time": "2025-03-07T10:42:23.862565",
     "exception": false,
     "start_time": "2025-03-07T10:42:23.836520",
     "status": "completed"
    },
    "tags": []
   },
   "outputs": [],
   "source": [
    "def convrt(a):\n",
    "    try:\n",
    "        float(a)\n",
    "        return True\n",
    "    except:\n",
    "        return False"
   ]
  },
  {
   "cell_type": "code",
   "execution_count": 19,
   "id": "67640d60",
   "metadata": {
    "execution": {
     "iopub.execute_input": "2025-03-07T10:42:23.898743Z",
     "iopub.status.busy": "2025-03-07T10:42:23.898332Z",
     "iopub.status.idle": "2025-03-07T10:42:23.921246Z",
     "shell.execute_reply": "2025-03-07T10:42:23.920079Z"
    },
    "papermill": {
     "duration": 0.042882,
     "end_time": "2025-03-07T10:42:23.923084",
     "exception": false,
     "start_time": "2025-03-07T10:42:23.880202",
     "status": "completed"
    },
    "tags": []
   },
   "outputs": [
    {
     "data": {
      "text/html": [
       "<div>\n",
       "<style scoped>\n",
       "    .dataframe tbody tr th:only-of-type {\n",
       "        vertical-align: middle;\n",
       "    }\n",
       "\n",
       "    .dataframe tbody tr th {\n",
       "        vertical-align: top;\n",
       "    }\n",
       "\n",
       "    .dataframe thead th {\n",
       "        text-align: right;\n",
       "    }\n",
       "</style>\n",
       "<table border=\"1\" class=\"dataframe\">\n",
       "  <thead>\n",
       "    <tr style=\"text-align: right;\">\n",
       "      <th></th>\n",
       "      <th>area_type</th>\n",
       "      <th>location</th>\n",
       "      <th>size</th>\n",
       "      <th>total_sqft</th>\n",
       "      <th>bath</th>\n",
       "      <th>balcony</th>\n",
       "      <th>price</th>\n",
       "      <th>ready_to_move</th>\n",
       "    </tr>\n",
       "  </thead>\n",
       "  <tbody>\n",
       "    <tr>\n",
       "      <th>30</th>\n",
       "      <td>Super built-up  Area</td>\n",
       "      <td>Yelahanka</td>\n",
       "      <td>4.0</td>\n",
       "      <td>2100 - 2850</td>\n",
       "      <td>4.0</td>\n",
       "      <td>0.0</td>\n",
       "      <td>186.000</td>\n",
       "      <td>0</td>\n",
       "    </tr>\n",
       "    <tr>\n",
       "      <th>56</th>\n",
       "      <td>Built-up  Area</td>\n",
       "      <td>Devanahalli</td>\n",
       "      <td>4.0</td>\n",
       "      <td>3010 - 3410</td>\n",
       "      <td>NaN</td>\n",
       "      <td>NaN</td>\n",
       "      <td>192.000</td>\n",
       "      <td>0</td>\n",
       "    </tr>\n",
       "    <tr>\n",
       "      <th>81</th>\n",
       "      <td>Built-up  Area</td>\n",
       "      <td>Hennur Road</td>\n",
       "      <td>4.0</td>\n",
       "      <td>2957 - 3450</td>\n",
       "      <td>NaN</td>\n",
       "      <td>NaN</td>\n",
       "      <td>224.500</td>\n",
       "      <td>0</td>\n",
       "    </tr>\n",
       "    <tr>\n",
       "      <th>122</th>\n",
       "      <td>Super built-up  Area</td>\n",
       "      <td>Hebbal</td>\n",
       "      <td>4.0</td>\n",
       "      <td>3067 - 8156</td>\n",
       "      <td>4.0</td>\n",
       "      <td>0.0</td>\n",
       "      <td>477.000</td>\n",
       "      <td>0</td>\n",
       "    </tr>\n",
       "    <tr>\n",
       "      <th>137</th>\n",
       "      <td>Super built-up  Area</td>\n",
       "      <td>8th Phase JP Nagar</td>\n",
       "      <td>2.0</td>\n",
       "      <td>1042 - 1105</td>\n",
       "      <td>2.0</td>\n",
       "      <td>0.0</td>\n",
       "      <td>54.005</td>\n",
       "      <td>0</td>\n",
       "    </tr>\n",
       "    <tr>\n",
       "      <th>165</th>\n",
       "      <td>Super built-up  Area</td>\n",
       "      <td>Sarjapur</td>\n",
       "      <td>2.0</td>\n",
       "      <td>1145 - 1340</td>\n",
       "      <td>2.0</td>\n",
       "      <td>0.0</td>\n",
       "      <td>43.490</td>\n",
       "      <td>0</td>\n",
       "    </tr>\n",
       "    <tr>\n",
       "      <th>188</th>\n",
       "      <td>Super built-up  Area</td>\n",
       "      <td>KR Puram</td>\n",
       "      <td>2.0</td>\n",
       "      <td>1015 - 1540</td>\n",
       "      <td>2.0</td>\n",
       "      <td>0.0</td>\n",
       "      <td>56.800</td>\n",
       "      <td>1</td>\n",
       "    </tr>\n",
       "    <tr>\n",
       "      <th>224</th>\n",
       "      <td>Super built-up  Area</td>\n",
       "      <td>Devanahalli</td>\n",
       "      <td>3.0</td>\n",
       "      <td>1520 - 1740</td>\n",
       "      <td>NaN</td>\n",
       "      <td>NaN</td>\n",
       "      <td>74.820</td>\n",
       "      <td>0</td>\n",
       "    </tr>\n",
       "    <tr>\n",
       "      <th>410</th>\n",
       "      <td>Super built-up  Area</td>\n",
       "      <td>Kengeri</td>\n",
       "      <td>1.0</td>\n",
       "      <td>34.46Sq. Meter</td>\n",
       "      <td>1.0</td>\n",
       "      <td>0.0</td>\n",
       "      <td>18.500</td>\n",
       "      <td>1</td>\n",
       "    </tr>\n",
       "    <tr>\n",
       "      <th>549</th>\n",
       "      <td>Super built-up  Area</td>\n",
       "      <td>Hennur Road</td>\n",
       "      <td>2.0</td>\n",
       "      <td>1195 - 1440</td>\n",
       "      <td>2.0</td>\n",
       "      <td>0.0</td>\n",
       "      <td>63.770</td>\n",
       "      <td>0</td>\n",
       "    </tr>\n",
       "    <tr>\n",
       "      <th>579</th>\n",
       "      <td>Plot  Area</td>\n",
       "      <td>Sarjapur  Road</td>\n",
       "      <td>NaN</td>\n",
       "      <td>1200 - 2400</td>\n",
       "      <td>NaN</td>\n",
       "      <td>NaN</td>\n",
       "      <td>34.185</td>\n",
       "      <td>0</td>\n",
       "    </tr>\n",
       "    <tr>\n",
       "      <th>648</th>\n",
       "      <td>Built-up  Area</td>\n",
       "      <td>Arekere</td>\n",
       "      <td>9.0</td>\n",
       "      <td>4125Perch</td>\n",
       "      <td>9.0</td>\n",
       "      <td>NaN</td>\n",
       "      <td>265.000</td>\n",
       "      <td>1</td>\n",
       "    </tr>\n",
       "    <tr>\n",
       "      <th>661</th>\n",
       "      <td>Super built-up  Area</td>\n",
       "      <td>Yelahanka</td>\n",
       "      <td>2.0</td>\n",
       "      <td>1120 - 1145</td>\n",
       "      <td>2.0</td>\n",
       "      <td>0.0</td>\n",
       "      <td>48.130</td>\n",
       "      <td>1</td>\n",
       "    </tr>\n",
       "    <tr>\n",
       "      <th>669</th>\n",
       "      <td>Super built-up  Area</td>\n",
       "      <td>JP Nagar</td>\n",
       "      <td>5.0</td>\n",
       "      <td>4400 - 6640</td>\n",
       "      <td>NaN</td>\n",
       "      <td>NaN</td>\n",
       "      <td>375.000</td>\n",
       "      <td>0</td>\n",
       "    </tr>\n",
       "    <tr>\n",
       "      <th>672</th>\n",
       "      <td>Built-up  Area</td>\n",
       "      <td>other</td>\n",
       "      <td>4.0</td>\n",
       "      <td>3090 - 5002</td>\n",
       "      <td>4.0</td>\n",
       "      <td>0.0</td>\n",
       "      <td>445.000</td>\n",
       "      <td>0</td>\n",
       "    </tr>\n",
       "    <tr>\n",
       "      <th>702</th>\n",
       "      <td>Super built-up  Area</td>\n",
       "      <td>JP Nagar</td>\n",
       "      <td>5.0</td>\n",
       "      <td>4400 - 6800</td>\n",
       "      <td>NaN</td>\n",
       "      <td>NaN</td>\n",
       "      <td>548.500</td>\n",
       "      <td>0</td>\n",
       "    </tr>\n",
       "    <tr>\n",
       "      <th>772</th>\n",
       "      <td>Super built-up  Area</td>\n",
       "      <td>Banashankari Stage VI</td>\n",
       "      <td>2.0</td>\n",
       "      <td>1160 - 1195</td>\n",
       "      <td>2.0</td>\n",
       "      <td>0.0</td>\n",
       "      <td>59.935</td>\n",
       "      <td>0</td>\n",
       "    </tr>\n",
       "    <tr>\n",
       "      <th>775</th>\n",
       "      <td>Built-up  Area</td>\n",
       "      <td>other</td>\n",
       "      <td>1.0</td>\n",
       "      <td>1000Sq. Meter</td>\n",
       "      <td>2.0</td>\n",
       "      <td>1.0</td>\n",
       "      <td>93.000</td>\n",
       "      <td>1</td>\n",
       "    </tr>\n",
       "    <tr>\n",
       "      <th>801</th>\n",
       "      <td>Super built-up  Area</td>\n",
       "      <td>JP Nagar</td>\n",
       "      <td>4.0</td>\n",
       "      <td>4000 - 5249</td>\n",
       "      <td>NaN</td>\n",
       "      <td>NaN</td>\n",
       "      <td>453.000</td>\n",
       "      <td>0</td>\n",
       "    </tr>\n",
       "    <tr>\n",
       "      <th>850</th>\n",
       "      <td>Super built-up  Area</td>\n",
       "      <td>Bannerghatta Road</td>\n",
       "      <td>2.0</td>\n",
       "      <td>1115 - 1130</td>\n",
       "      <td>2.0</td>\n",
       "      <td>0.0</td>\n",
       "      <td>58.935</td>\n",
       "      <td>0</td>\n",
       "    </tr>\n",
       "  </tbody>\n",
       "</table>\n",
       "</div>"
      ],
      "text/plain": [
       "                area_type               location  size      total_sqft  bath  \\\n",
       "30   Super built-up  Area              Yelahanka   4.0     2100 - 2850   4.0   \n",
       "56         Built-up  Area            Devanahalli   4.0     3010 - 3410   NaN   \n",
       "81         Built-up  Area            Hennur Road   4.0     2957 - 3450   NaN   \n",
       "122  Super built-up  Area                 Hebbal   4.0     3067 - 8156   4.0   \n",
       "137  Super built-up  Area     8th Phase JP Nagar   2.0     1042 - 1105   2.0   \n",
       "165  Super built-up  Area               Sarjapur   2.0     1145 - 1340   2.0   \n",
       "188  Super built-up  Area               KR Puram   2.0     1015 - 1540   2.0   \n",
       "224  Super built-up  Area            Devanahalli   3.0     1520 - 1740   NaN   \n",
       "410  Super built-up  Area                Kengeri   1.0  34.46Sq. Meter   1.0   \n",
       "549  Super built-up  Area            Hennur Road   2.0     1195 - 1440   2.0   \n",
       "579            Plot  Area         Sarjapur  Road   NaN     1200 - 2400   NaN   \n",
       "648        Built-up  Area                Arekere   9.0       4125Perch   9.0   \n",
       "661  Super built-up  Area              Yelahanka   2.0     1120 - 1145   2.0   \n",
       "669  Super built-up  Area               JP Nagar   5.0     4400 - 6640   NaN   \n",
       "672        Built-up  Area                  other   4.0     3090 - 5002   4.0   \n",
       "702  Super built-up  Area               JP Nagar   5.0     4400 - 6800   NaN   \n",
       "772  Super built-up  Area  Banashankari Stage VI   2.0     1160 - 1195   2.0   \n",
       "775        Built-up  Area                  other   1.0   1000Sq. Meter   2.0   \n",
       "801  Super built-up  Area               JP Nagar   4.0     4000 - 5249   NaN   \n",
       "850  Super built-up  Area      Bannerghatta Road   2.0     1115 - 1130   2.0   \n",
       "\n",
       "     balcony    price  ready_to_move  \n",
       "30       0.0  186.000              0  \n",
       "56       NaN  192.000              0  \n",
       "81       NaN  224.500              0  \n",
       "122      0.0  477.000              0  \n",
       "137      0.0   54.005              0  \n",
       "165      0.0   43.490              0  \n",
       "188      0.0   56.800              1  \n",
       "224      NaN   74.820              0  \n",
       "410      0.0   18.500              1  \n",
       "549      0.0   63.770              0  \n",
       "579      NaN   34.185              0  \n",
       "648      NaN  265.000              1  \n",
       "661      0.0   48.130              1  \n",
       "669      NaN  375.000              0  \n",
       "672      0.0  445.000              0  \n",
       "702      NaN  548.500              0  \n",
       "772      0.0   59.935              0  \n",
       "775      1.0   93.000              1  \n",
       "801      NaN  453.000              0  \n",
       "850      0.0   58.935              0  "
      ]
     },
     "execution_count": 19,
     "metadata": {},
     "output_type": "execute_result"
    }
   ],
   "source": [
    "df[df['total_sqft'].apply(convrt) == False].head(20)"
   ]
  },
  {
   "cell_type": "code",
   "execution_count": 20,
   "id": "696012db",
   "metadata": {
    "execution": {
     "iopub.execute_input": "2025-03-07T10:42:23.962558Z",
     "iopub.status.busy": "2025-03-07T10:42:23.962129Z",
     "iopub.status.idle": "2025-03-07T10:42:23.970835Z",
     "shell.execute_reply": "2025-03-07T10:42:23.969700Z"
    },
    "papermill": {
     "duration": 0.029745,
     "end_time": "2025-03-07T10:42:23.972681",
     "exception": false,
     "start_time": "2025-03-07T10:42:23.942936",
     "status": "completed"
    },
    "tags": []
   },
   "outputs": [],
   "source": [
    "def convert_to_sqft(value):\n",
    "    try:\n",
    "        \n",
    "        value = value.strip()\n",
    "        \n",
    "        if '-' in value:\n",
    "            range_values = value.split('-')\n",
    "            lower = float(range_values[0].strip())\n",
    "            upper = float(range_values[1].strip())\n",
    "            return (lower + upper) / 2\n",
    "            \n",
    "        elif 'Sq. Meter' in value:\n",
    "            sq_meter_value = float(value.split('Sq. Meter')[0])\n",
    "            return sq_meter_value * 10.7639  # Conversion factor from sq. meters to sq. feet\n",
    "            \n",
    "        elif 'Sq. Yards' in value:\n",
    "            sq_yards_value = float(value.split('Sq. Yards')[0])\n",
    "            return sq_yards_value * 9\n",
    "        \n",
    "        elif 'Acres' in value:\n",
    "            acres_value = float(value.split('Acres')[0])\n",
    "            return acres_value * 43560  # Conversion factor from acres to sq. feet\n",
    "            \n",
    "        elif 'Cents' in value:\n",
    "            cents_value = float(value.split('Cents')[0])\n",
    "            return cents_value * 435.6\n",
    "            \n",
    "        elif 'Guntha' in value:\n",
    "            guntha_value = float(value.split('Guntha')[0])\n",
    "            return guntha_value * 1089\n",
    "            \n",
    "        elif 'Ground' in value:\n",
    "            ground_value = float(value.split('Ground')[0])\n",
    "            return ground_value * 2400\n",
    "            \n",
    "        elif 'Perch' in value:\n",
    "            perch_value = float(value.split('Perch')[0])\n",
    "            return perch_value * 272.25\n",
    "        \n",
    "\n",
    "    except ValueError:\n",
    "        return None  \n",
    "        \n",
    "    return value\n"
   ]
  },
  {
   "cell_type": "code",
   "execution_count": 21,
   "id": "5e39cbd3",
   "metadata": {
    "execution": {
     "iopub.execute_input": "2025-03-07T10:42:24.009945Z",
     "iopub.status.busy": "2025-03-07T10:42:24.009552Z",
     "iopub.status.idle": "2025-03-07T10:42:24.022550Z",
     "shell.execute_reply": "2025-03-07T10:42:24.021620Z"
    },
    "papermill": {
     "duration": 0.033626,
     "end_time": "2025-03-07T10:42:24.024401",
     "exception": false,
     "start_time": "2025-03-07T10:42:23.990775",
     "status": "completed"
    },
    "tags": []
   },
   "outputs": [],
   "source": [
    "df['total_sqft'] = df['total_sqft'].apply(convert_to_sqft)\n",
    "df['total_sqft'] = df['total_sqft'].astype('float').round(2)"
   ]
  },
  {
   "cell_type": "markdown",
   "id": "fdc9395b",
   "metadata": {
    "papermill": {
     "duration": 0.018075,
     "end_time": "2025-03-07T10:42:24.063005",
     "exception": false,
     "start_time": "2025-03-07T10:42:24.044930",
     "status": "completed"
    },
    "tags": []
   },
   "source": [
    "### Handling missing data"
   ]
  },
  {
   "cell_type": "code",
   "execution_count": 22,
   "id": "c5dbabef",
   "metadata": {
    "execution": {
     "iopub.execute_input": "2025-03-07T10:42:24.099944Z",
     "iopub.status.busy": "2025-03-07T10:42:24.099559Z",
     "iopub.status.idle": "2025-03-07T10:42:24.112108Z",
     "shell.execute_reply": "2025-03-07T10:42:24.110912Z"
    },
    "papermill": {
     "duration": 0.033109,
     "end_time": "2025-03-07T10:42:24.113997",
     "exception": false,
     "start_time": "2025-03-07T10:42:24.080888",
     "status": "completed"
    },
    "tags": []
   },
   "outputs": [
    {
     "name": "stdout",
     "output_type": "stream",
     "text": [
      "<class 'pandas.core.frame.DataFrame'>\n",
      "Index: 12791 entries, 0 to 13318\n",
      "Data columns (total 8 columns):\n",
      " #   Column         Non-Null Count  Dtype  \n",
      "---  ------         --------------  -----  \n",
      " 0   area_type      12791 non-null  object \n",
      " 1   location       12791 non-null  object \n",
      " 2   size           12775 non-null  float64\n",
      " 3   total_sqft     12791 non-null  float64\n",
      " 4   bath           12718 non-null  float64\n",
      " 5   balcony        12186 non-null  float64\n",
      " 6   price          12791 non-null  float64\n",
      " 7   ready_to_move  12791 non-null  int64  \n",
      "dtypes: float64(5), int64(1), object(2)\n",
      "memory usage: 899.4+ KB\n"
     ]
    }
   ],
   "source": [
    "df.info()"
   ]
  },
  {
   "cell_type": "code",
   "execution_count": null,
   "id": "2726f89a",
   "metadata": {
    "papermill": {
     "duration": 0.019157,
     "end_time": "2025-03-07T10:42:24.152047",
     "exception": false,
     "start_time": "2025-03-07T10:42:24.132890",
     "status": "completed"
    },
    "tags": []
   },
   "outputs": [],
   "source": []
  },
  {
   "cell_type": "code",
   "execution_count": 23,
   "id": "048b7426",
   "metadata": {
    "execution": {
     "iopub.execute_input": "2025-03-07T10:42:24.189774Z",
     "iopub.status.busy": "2025-03-07T10:42:24.189387Z",
     "iopub.status.idle": "2025-03-07T10:42:24.199352Z",
     "shell.execute_reply": "2025-03-07T10:42:24.198332Z"
    },
    "papermill": {
     "duration": 0.030632,
     "end_time": "2025-03-07T10:42:24.200932",
     "exception": false,
     "start_time": "2025-03-07T10:42:24.170300",
     "status": "completed"
    },
    "tags": []
   },
   "outputs": [
    {
     "data": {
      "text/plain": [
       "size\n",
       "2.0    5245\n",
       "Name: count, dtype: int64"
      ]
     },
     "execution_count": 23,
     "metadata": {},
     "output_type": "execute_result"
    }
   ],
   "source": [
    "df['size'].value_counts().head(1)"
   ]
  },
  {
   "cell_type": "code",
   "execution_count": 24,
   "id": "0e05e057",
   "metadata": {
    "execution": {
     "iopub.execute_input": "2025-03-07T10:42:24.238778Z",
     "iopub.status.busy": "2025-03-07T10:42:24.238311Z",
     "iopub.status.idle": "2025-03-07T10:42:24.244249Z",
     "shell.execute_reply": "2025-03-07T10:42:24.243333Z"
    },
    "papermill": {
     "duration": 0.026797,
     "end_time": "2025-03-07T10:42:24.245840",
     "exception": false,
     "start_time": "2025-03-07T10:42:24.219043",
     "status": "completed"
    },
    "tags": []
   },
   "outputs": [],
   "source": [
    " df['size'] = df['size'].fillna(df['size'].mode()[0])"
   ]
  },
  {
   "cell_type": "code",
   "execution_count": null,
   "id": "f412d754",
   "metadata": {
    "papermill": {
     "duration": 0.018302,
     "end_time": "2025-03-07T10:42:24.282194",
     "exception": false,
     "start_time": "2025-03-07T10:42:24.263892",
     "status": "completed"
    },
    "tags": []
   },
   "outputs": [],
   "source": []
  },
  {
   "cell_type": "code",
   "execution_count": 25,
   "id": "d26c330f",
   "metadata": {
    "execution": {
     "iopub.execute_input": "2025-03-07T10:42:24.321619Z",
     "iopub.status.busy": "2025-03-07T10:42:24.321198Z",
     "iopub.status.idle": "2025-03-07T10:42:24.329119Z",
     "shell.execute_reply": "2025-03-07T10:42:24.327835Z"
    },
    "papermill": {
     "duration": 0.028966,
     "end_time": "2025-03-07T10:42:24.330945",
     "exception": false,
     "start_time": "2025-03-07T10:42:24.301979",
     "status": "completed"
    },
    "tags": []
   },
   "outputs": [
    {
     "data": {
      "text/plain": [
       "bath\n",
       "2.0    6546\n",
       "Name: count, dtype: int64"
      ]
     },
     "execution_count": 25,
     "metadata": {},
     "output_type": "execute_result"
    }
   ],
   "source": [
    "df['bath'].value_counts().head(1)"
   ]
  },
  {
   "cell_type": "code",
   "execution_count": 26,
   "id": "637f6df6",
   "metadata": {
    "execution": {
     "iopub.execute_input": "2025-03-07T10:42:24.370532Z",
     "iopub.status.busy": "2025-03-07T10:42:24.370125Z",
     "iopub.status.idle": "2025-03-07T10:42:24.376415Z",
     "shell.execute_reply": "2025-03-07T10:42:24.375297Z"
    },
    "papermill": {
     "duration": 0.028713,
     "end_time": "2025-03-07T10:42:24.378196",
     "exception": false,
     "start_time": "2025-03-07T10:42:24.349483",
     "status": "completed"
    },
    "tags": []
   },
   "outputs": [],
   "source": [
    " df['bath'] = df['bath'].fillna(df['bath'].mode()[0])"
   ]
  },
  {
   "cell_type": "code",
   "execution_count": null,
   "id": "5d86e9eb",
   "metadata": {
    "papermill": {
     "duration": 0.019347,
     "end_time": "2025-03-07T10:42:24.472782",
     "exception": false,
     "start_time": "2025-03-07T10:42:24.453435",
     "status": "completed"
    },
    "tags": []
   },
   "outputs": [],
   "source": []
  },
  {
   "cell_type": "code",
   "execution_count": 27,
   "id": "bd0603d8",
   "metadata": {
    "execution": {
     "iopub.execute_input": "2025-03-07T10:42:24.511234Z",
     "iopub.status.busy": "2025-03-07T10:42:24.510863Z",
     "iopub.status.idle": "2025-03-07T10:42:24.518679Z",
     "shell.execute_reply": "2025-03-07T10:42:24.517646Z"
    },
    "papermill": {
     "duration": 0.028692,
     "end_time": "2025-03-07T10:42:24.520266",
     "exception": false,
     "start_time": "2025-03-07T10:42:24.491574",
     "status": "completed"
    },
    "tags": []
   },
   "outputs": [
    {
     "data": {
      "text/plain": [
       "balcony\n",
       "2.0    4846\n",
       "Name: count, dtype: int64"
      ]
     },
     "execution_count": 27,
     "metadata": {},
     "output_type": "execute_result"
    }
   ],
   "source": [
    "df['balcony'].value_counts().head(1)"
   ]
  },
  {
   "cell_type": "code",
   "execution_count": 28,
   "id": "d127cd0f",
   "metadata": {
    "execution": {
     "iopub.execute_input": "2025-03-07T10:42:24.560320Z",
     "iopub.status.busy": "2025-03-07T10:42:24.559980Z",
     "iopub.status.idle": "2025-03-07T10:42:24.566850Z",
     "shell.execute_reply": "2025-03-07T10:42:24.565716Z"
    },
    "papermill": {
     "duration": 0.028982,
     "end_time": "2025-03-07T10:42:24.568661",
     "exception": false,
     "start_time": "2025-03-07T10:42:24.539679",
     "status": "completed"
    },
    "tags": []
   },
   "outputs": [],
   "source": [
    " df['balcony'] = df['balcony'].fillna(df['balcony'].mode()[0])"
   ]
  },
  {
   "cell_type": "code",
   "execution_count": null,
   "id": "2f593aec",
   "metadata": {
    "papermill": {
     "duration": 0.018277,
     "end_time": "2025-03-07T10:42:24.606890",
     "exception": false,
     "start_time": "2025-03-07T10:42:24.588613",
     "status": "completed"
    },
    "tags": []
   },
   "outputs": [],
   "source": []
  },
  {
   "cell_type": "code",
   "execution_count": 29,
   "id": "3e5558ef",
   "metadata": {
    "execution": {
     "iopub.execute_input": "2025-03-07T10:42:24.645857Z",
     "iopub.status.busy": "2025-03-07T10:42:24.645495Z",
     "iopub.status.idle": "2025-03-07T10:42:24.659417Z",
     "shell.execute_reply": "2025-03-07T10:42:24.658289Z"
    },
    "papermill": {
     "duration": 0.036031,
     "end_time": "2025-03-07T10:42:24.661151",
     "exception": false,
     "start_time": "2025-03-07T10:42:24.625120",
     "status": "completed"
    },
    "tags": []
   },
   "outputs": [
    {
     "data": {
      "text/html": [
       "<div>\n",
       "<style scoped>\n",
       "    .dataframe tbody tr th:only-of-type {\n",
       "        vertical-align: middle;\n",
       "    }\n",
       "\n",
       "    .dataframe tbody tr th {\n",
       "        vertical-align: top;\n",
       "    }\n",
       "\n",
       "    .dataframe thead th {\n",
       "        text-align: right;\n",
       "    }\n",
       "</style>\n",
       "<table border=\"1\" class=\"dataframe\">\n",
       "  <thead>\n",
       "    <tr style=\"text-align: right;\">\n",
       "      <th></th>\n",
       "      <th>area_type</th>\n",
       "      <th>location</th>\n",
       "      <th>size</th>\n",
       "      <th>total_sqft</th>\n",
       "      <th>bath</th>\n",
       "      <th>balcony</th>\n",
       "      <th>price</th>\n",
       "      <th>ready_to_move</th>\n",
       "    </tr>\n",
       "  </thead>\n",
       "  <tbody>\n",
       "    <tr>\n",
       "      <th>0</th>\n",
       "      <td>Super built-up  Area</td>\n",
       "      <td>Electronic City Phase II</td>\n",
       "      <td>2.0</td>\n",
       "      <td>1056.0</td>\n",
       "      <td>2.0</td>\n",
       "      <td>1.0</td>\n",
       "      <td>39.07</td>\n",
       "      <td>0</td>\n",
       "    </tr>\n",
       "    <tr>\n",
       "      <th>1</th>\n",
       "      <td>Plot  Area</td>\n",
       "      <td>Chikka Tirupathi</td>\n",
       "      <td>4.0</td>\n",
       "      <td>2600.0</td>\n",
       "      <td>5.0</td>\n",
       "      <td>3.0</td>\n",
       "      <td>120.00</td>\n",
       "      <td>1</td>\n",
       "    </tr>\n",
       "    <tr>\n",
       "      <th>2</th>\n",
       "      <td>Built-up  Area</td>\n",
       "      <td>Uttarahalli</td>\n",
       "      <td>3.0</td>\n",
       "      <td>1440.0</td>\n",
       "      <td>2.0</td>\n",
       "      <td>3.0</td>\n",
       "      <td>62.00</td>\n",
       "      <td>1</td>\n",
       "    </tr>\n",
       "    <tr>\n",
       "      <th>3</th>\n",
       "      <td>Super built-up  Area</td>\n",
       "      <td>Lingadheeranahalli</td>\n",
       "      <td>3.0</td>\n",
       "      <td>1521.0</td>\n",
       "      <td>3.0</td>\n",
       "      <td>1.0</td>\n",
       "      <td>95.00</td>\n",
       "      <td>1</td>\n",
       "    </tr>\n",
       "    <tr>\n",
       "      <th>4</th>\n",
       "      <td>Super built-up  Area</td>\n",
       "      <td>Kothanur</td>\n",
       "      <td>2.0</td>\n",
       "      <td>1200.0</td>\n",
       "      <td>2.0</td>\n",
       "      <td>1.0</td>\n",
       "      <td>51.00</td>\n",
       "      <td>1</td>\n",
       "    </tr>\n",
       "  </tbody>\n",
       "</table>\n",
       "</div>"
      ],
      "text/plain": [
       "              area_type                  location  size  total_sqft  bath  \\\n",
       "0  Super built-up  Area  Electronic City Phase II   2.0      1056.0   2.0   \n",
       "1            Plot  Area          Chikka Tirupathi   4.0      2600.0   5.0   \n",
       "2        Built-up  Area               Uttarahalli   3.0      1440.0   2.0   \n",
       "3  Super built-up  Area        Lingadheeranahalli   3.0      1521.0   3.0   \n",
       "4  Super built-up  Area                  Kothanur   2.0      1200.0   2.0   \n",
       "\n",
       "   balcony   price  ready_to_move  \n",
       "0      1.0   39.07              0  \n",
       "1      3.0  120.00              1  \n",
       "2      3.0   62.00              1  \n",
       "3      1.0   95.00              1  \n",
       "4      1.0   51.00              1  "
      ]
     },
     "execution_count": 29,
     "metadata": {},
     "output_type": "execute_result"
    }
   ],
   "source": [
    "df.head()"
   ]
  },
  {
   "cell_type": "code",
   "execution_count": null,
   "id": "847e8cb2",
   "metadata": {
    "papermill": {
     "duration": 0.018178,
     "end_time": "2025-03-07T10:42:24.699869",
     "exception": false,
     "start_time": "2025-03-07T10:42:24.681691",
     "status": "completed"
    },
    "tags": []
   },
   "outputs": [],
   "source": []
  },
  {
   "cell_type": "code",
   "execution_count": 30,
   "id": "b06949ac",
   "metadata": {
    "execution": {
     "iopub.execute_input": "2025-03-07T10:42:24.737824Z",
     "iopub.status.busy": "2025-03-07T10:42:24.737462Z",
     "iopub.status.idle": "2025-03-07T10:42:24.744579Z",
     "shell.execute_reply": "2025-03-07T10:42:24.743483Z"
    },
    "papermill": {
     "duration": 0.028168,
     "end_time": "2025-03-07T10:42:24.746336",
     "exception": false,
     "start_time": "2025-03-07T10:42:24.718168",
     "status": "completed"
    },
    "tags": []
   },
   "outputs": [],
   "source": [
    "# The minimum size for a 1 BHK flat in urban areas like Mumbai, Delhi, or Bangalore may be around 350-450 sq. ft.\n",
    "# Anything less tham 300sq. ft. per bhk should be remov \n",
    "df = df[~(df['total_sqft']/df['size']<300)]"
   ]
  },
  {
   "cell_type": "code",
   "execution_count": 31,
   "id": "3bba60be",
   "metadata": {
    "execution": {
     "iopub.execute_input": "2025-03-07T10:42:24.786177Z",
     "iopub.status.busy": "2025-03-07T10:42:24.785855Z",
     "iopub.status.idle": "2025-03-07T10:42:24.802644Z",
     "shell.execute_reply": "2025-03-07T10:42:24.801490Z"
    },
    "papermill": {
     "duration": 0.038053,
     "end_time": "2025-03-07T10:42:24.804407",
     "exception": false,
     "start_time": "2025-03-07T10:42:24.766354",
     "status": "completed"
    },
    "tags": []
   },
   "outputs": [
    {
     "data": {
      "text/html": [
       "<div>\n",
       "<style scoped>\n",
       "    .dataframe tbody tr th:only-of-type {\n",
       "        vertical-align: middle;\n",
       "    }\n",
       "\n",
       "    .dataframe tbody tr th {\n",
       "        vertical-align: top;\n",
       "    }\n",
       "\n",
       "    .dataframe thead th {\n",
       "        text-align: right;\n",
       "    }\n",
       "</style>\n",
       "<table border=\"1\" class=\"dataframe\">\n",
       "  <thead>\n",
       "    <tr style=\"text-align: right;\">\n",
       "      <th></th>\n",
       "      <th>area_type</th>\n",
       "      <th>location</th>\n",
       "      <th>size</th>\n",
       "      <th>total_sqft</th>\n",
       "      <th>bath</th>\n",
       "      <th>balcony</th>\n",
       "      <th>price</th>\n",
       "      <th>ready_to_move</th>\n",
       "    </tr>\n",
       "  </thead>\n",
       "  <tbody>\n",
       "    <tr>\n",
       "      <th>4853</th>\n",
       "      <td>Carpet  Area</td>\n",
       "      <td>Nagarbhavi</td>\n",
       "      <td>1.0</td>\n",
       "      <td>300.0</td>\n",
       "      <td>1.0</td>\n",
       "      <td>1.0</td>\n",
       "      <td>20.0</td>\n",
       "      <td>1</td>\n",
       "    </tr>\n",
       "    <tr>\n",
       "      <th>1471</th>\n",
       "      <td>Built-up  Area</td>\n",
       "      <td>Kengeri</td>\n",
       "      <td>1.0</td>\n",
       "      <td>340.0</td>\n",
       "      <td>1.0</td>\n",
       "      <td>1.0</td>\n",
       "      <td>10.0</td>\n",
       "      <td>0</td>\n",
       "    </tr>\n",
       "    <tr>\n",
       "      <th>3741</th>\n",
       "      <td>Built-up  Area</td>\n",
       "      <td>Yelahanka New Town</td>\n",
       "      <td>1.0</td>\n",
       "      <td>350.0</td>\n",
       "      <td>1.0</td>\n",
       "      <td>1.0</td>\n",
       "      <td>13.5</td>\n",
       "      <td>1</td>\n",
       "    </tr>\n",
       "    <tr>\n",
       "      <th>2557</th>\n",
       "      <td>Built-up  Area</td>\n",
       "      <td>other</td>\n",
       "      <td>1.0</td>\n",
       "      <td>351.0</td>\n",
       "      <td>1.0</td>\n",
       "      <td>1.0</td>\n",
       "      <td>16.0</td>\n",
       "      <td>1</td>\n",
       "    </tr>\n",
       "    <tr>\n",
       "      <th>2041</th>\n",
       "      <td>Super built-up  Area</td>\n",
       "      <td>Ramamurthy Nagar</td>\n",
       "      <td>1.0</td>\n",
       "      <td>360.0</td>\n",
       "      <td>1.0</td>\n",
       "      <td>1.0</td>\n",
       "      <td>26.0</td>\n",
       "      <td>1</td>\n",
       "    </tr>\n",
       "  </tbody>\n",
       "</table>\n",
       "</div>"
      ],
      "text/plain": [
       "                 area_type            location  size  total_sqft  bath  \\\n",
       "4853          Carpet  Area          Nagarbhavi   1.0       300.0   1.0   \n",
       "1471        Built-up  Area             Kengeri   1.0       340.0   1.0   \n",
       "3741        Built-up  Area  Yelahanka New Town   1.0       350.0   1.0   \n",
       "2557        Built-up  Area               other   1.0       351.0   1.0   \n",
       "2041  Super built-up  Area    Ramamurthy Nagar   1.0       360.0   1.0   \n",
       "\n",
       "      balcony  price  ready_to_move  \n",
       "4853      1.0   20.0              1  \n",
       "1471      1.0   10.0              0  \n",
       "3741      1.0   13.5              1  \n",
       "2557      1.0   16.0              1  \n",
       "2041      1.0   26.0              1  "
      ]
     },
     "execution_count": 31,
     "metadata": {},
     "output_type": "execute_result"
    }
   ],
   "source": [
    "df.sort_values(by='total_sqft').head()"
   ]
  },
  {
   "cell_type": "markdown",
   "id": "f2c2dc23",
   "metadata": {
    "papermill": {
     "duration": 0.018172,
     "end_time": "2025-03-07T10:42:24.841346",
     "exception": false,
     "start_time": "2025-03-07T10:42:24.823174",
     "status": "completed"
    },
    "tags": []
   },
   "source": [
    "### Outlier treatement"
   ]
  },
  {
   "cell_type": "code",
   "execution_count": 32,
   "id": "ad7f56fe",
   "metadata": {
    "execution": {
     "iopub.execute_input": "2025-03-07T10:42:24.880140Z",
     "iopub.status.busy": "2025-03-07T10:42:24.879765Z",
     "iopub.status.idle": "2025-03-07T10:42:24.893166Z",
     "shell.execute_reply": "2025-03-07T10:42:24.892009Z"
    },
    "papermill": {
     "duration": 0.035019,
     "end_time": "2025-03-07T10:42:24.895070",
     "exception": false,
     "start_time": "2025-03-07T10:42:24.860051",
     "status": "completed"
    },
    "tags": []
   },
   "outputs": [
    {
     "name": "stdout",
     "output_type": "stream",
     "text": [
      "<class 'pandas.core.frame.DataFrame'>\n",
      "Index: 12053 entries, 0 to 13318\n",
      "Data columns (total 8 columns):\n",
      " #   Column         Non-Null Count  Dtype  \n",
      "---  ------         --------------  -----  \n",
      " 0   area_type      12053 non-null  object \n",
      " 1   location       12053 non-null  object \n",
      " 2   size           12053 non-null  float64\n",
      " 3   total_sqft     12053 non-null  float64\n",
      " 4   bath           12053 non-null  float64\n",
      " 5   balcony        12053 non-null  float64\n",
      " 6   price          12053 non-null  float64\n",
      " 7   ready_to_move  12053 non-null  int64  \n",
      "dtypes: float64(5), int64(1), object(2)\n",
      "memory usage: 847.5+ KB\n"
     ]
    }
   ],
   "source": [
    "df.info()"
   ]
  },
  {
   "cell_type": "code",
   "execution_count": 33,
   "id": "a9da74b1",
   "metadata": {
    "execution": {
     "iopub.execute_input": "2025-03-07T10:42:24.933932Z",
     "iopub.status.busy": "2025-03-07T10:42:24.933589Z",
     "iopub.status.idle": "2025-03-07T10:42:24.965544Z",
     "shell.execute_reply": "2025-03-07T10:42:24.964254Z"
    },
    "papermill": {
     "duration": 0.053354,
     "end_time": "2025-03-07T10:42:24.967423",
     "exception": false,
     "start_time": "2025-03-07T10:42:24.914069",
     "status": "completed"
    },
    "tags": []
   },
   "outputs": [
    {
     "data": {
      "text/html": [
       "<div>\n",
       "<style scoped>\n",
       "    .dataframe tbody tr th:only-of-type {\n",
       "        vertical-align: middle;\n",
       "    }\n",
       "\n",
       "    .dataframe tbody tr th {\n",
       "        vertical-align: top;\n",
       "    }\n",
       "\n",
       "    .dataframe thead th {\n",
       "        text-align: right;\n",
       "    }\n",
       "</style>\n",
       "<table border=\"1\" class=\"dataframe\">\n",
       "  <thead>\n",
       "    <tr style=\"text-align: right;\">\n",
       "      <th></th>\n",
       "      <th>count</th>\n",
       "      <th>mean</th>\n",
       "      <th>std</th>\n",
       "      <th>min</th>\n",
       "      <th>25%</th>\n",
       "      <th>50%</th>\n",
       "      <th>75%</th>\n",
       "      <th>max</th>\n",
       "    </tr>\n",
       "  </thead>\n",
       "  <tbody>\n",
       "    <tr>\n",
       "      <th>size</th>\n",
       "      <td>12053.0</td>\n",
       "      <td>2.661578</td>\n",
       "      <td>0.992946</td>\n",
       "      <td>1.00</td>\n",
       "      <td>2.00</td>\n",
       "      <td>3.0</td>\n",
       "      <td>3.0</td>\n",
       "      <td>16.0</td>\n",
       "    </tr>\n",
       "    <tr>\n",
       "      <th>total_sqft</th>\n",
       "      <td>12053.0</td>\n",
       "      <td>1995.285621</td>\n",
       "      <td>18159.668166</td>\n",
       "      <td>300.00</td>\n",
       "      <td>1118.00</td>\n",
       "      <td>1308.0</td>\n",
       "      <td>1719.0</td>\n",
       "      <td>1306800.0</td>\n",
       "    </tr>\n",
       "    <tr>\n",
       "      <th>bath</th>\n",
       "      <td>12053.0</td>\n",
       "      <td>2.572886</td>\n",
       "      <td>1.093884</td>\n",
       "      <td>1.00</td>\n",
       "      <td>2.00</td>\n",
       "      <td>2.0</td>\n",
       "      <td>3.0</td>\n",
       "      <td>16.0</td>\n",
       "    </tr>\n",
       "    <tr>\n",
       "      <th>balcony</th>\n",
       "      <td>12053.0</td>\n",
       "      <td>1.602423</td>\n",
       "      <td>0.801530</td>\n",
       "      <td>0.00</td>\n",
       "      <td>1.00</td>\n",
       "      <td>2.0</td>\n",
       "      <td>2.0</td>\n",
       "      <td>3.0</td>\n",
       "    </tr>\n",
       "    <tr>\n",
       "      <th>price</th>\n",
       "      <td>12053.0</td>\n",
       "      <td>113.351754</td>\n",
       "      <td>154.690335</td>\n",
       "      <td>8.44</td>\n",
       "      <td>49.97</td>\n",
       "      <td>70.0</td>\n",
       "      <td>120.0</td>\n",
       "      <td>3600.0</td>\n",
       "    </tr>\n",
       "    <tr>\n",
       "      <th>ready_to_move</th>\n",
       "      <td>12053.0</td>\n",
       "      <td>0.785365</td>\n",
       "      <td>0.410586</td>\n",
       "      <td>0.00</td>\n",
       "      <td>1.00</td>\n",
       "      <td>1.0</td>\n",
       "      <td>1.0</td>\n",
       "      <td>1.0</td>\n",
       "    </tr>\n",
       "  </tbody>\n",
       "</table>\n",
       "</div>"
      ],
      "text/plain": [
       "                 count         mean           std     min      25%     50%  \\\n",
       "size           12053.0     2.661578      0.992946    1.00     2.00     3.0   \n",
       "total_sqft     12053.0  1995.285621  18159.668166  300.00  1118.00  1308.0   \n",
       "bath           12053.0     2.572886      1.093884    1.00     2.00     2.0   \n",
       "balcony        12053.0     1.602423      0.801530    0.00     1.00     2.0   \n",
       "price          12053.0   113.351754    154.690335    8.44    49.97    70.0   \n",
       "ready_to_move  12053.0     0.785365      0.410586    0.00     1.00     1.0   \n",
       "\n",
       "                  75%        max  \n",
       "size              3.0       16.0  \n",
       "total_sqft     1719.0  1306800.0  \n",
       "bath              3.0       16.0  \n",
       "balcony           2.0        3.0  \n",
       "price           120.0     3600.0  \n",
       "ready_to_move     1.0        1.0  "
      ]
     },
     "execution_count": 33,
     "metadata": {},
     "output_type": "execute_result"
    }
   ],
   "source": [
    "df.describe().T"
   ]
  },
  {
   "cell_type": "markdown",
   "id": "24cf748f",
   "metadata": {
    "papermill": {
     "duration": 0.018524,
     "end_time": "2025-03-07T10:42:25.004997",
     "exception": false,
     "start_time": "2025-03-07T10:42:24.986473",
     "status": "completed"
    },
    "tags": []
   },
   "source": [
    "### Box-plots"
   ]
  },
  {
   "cell_type": "code",
   "execution_count": 34,
   "id": "8ba04147",
   "metadata": {
    "execution": {
     "iopub.execute_input": "2025-03-07T10:42:25.044815Z",
     "iopub.status.busy": "2025-03-07T10:42:25.044451Z",
     "iopub.status.idle": "2025-03-07T10:42:25.827514Z",
     "shell.execute_reply": "2025-03-07T10:42:25.826447Z"
    },
    "papermill": {
     "duration": 0.804787,
     "end_time": "2025-03-07T10:42:25.829398",
     "exception": false,
     "start_time": "2025-03-07T10:42:25.024611",
     "status": "completed"
    },
    "tags": []
   },
   "outputs": [
    {
     "data": {
      "image/png": "[encoded data removed]",
      "text/plain": [
       "<Figure size 640x480 with 1 Axes>"
      ]
     },
     "metadata": {},
     "output_type": "display_data"
    },
    {
     "data": {
      "image/png": "[encoded data removed]",
      "text/plain": [
       "<Figure size 640x480 with 1 Axes>"
      ]
     },
     "metadata": {},
     "output_type": "display_data"
    },
    {
     "data": {
      "image/png": "[encoded data removed]",
      "text/plain": [
       "<Figure size 640x480 with 1 Axes>"
      ]
     },
     "metadata": {},
     "output_type": "display_data"
    },
    {
     "data": {
      "image/png": "[encoded data removed]",
      "text/plain": [
       "<Figure size 640x480 with 1 Axes>"
      ]
     },
     "metadata": {},
     "output_type": "display_data"
    }
   ],
   "source": [
    "for col in df.columns[2:6]:\n",
    "    sns.boxplot(df[col])\n",
    "    plt.show()"
   ]
  },
  {
   "cell_type": "code",
   "execution_count": 35,
   "id": "9374774a",
   "metadata": {
    "execution": {
     "iopub.execute_input": "2025-03-07T10:42:25.871445Z",
     "iopub.status.busy": "2025-03-07T10:42:25.871061Z",
     "iopub.status.idle": "2025-03-07T10:42:25.893840Z",
     "shell.execute_reply": "2025-03-07T10:42:25.892767Z"
    },
    "papermill": {
     "duration": 0.045504,
     "end_time": "2025-03-07T10:42:25.895496",
     "exception": false,
     "start_time": "2025-03-07T10:42:25.849992",
     "status": "completed"
    },
    "tags": []
   },
   "outputs": [
    {
     "data": {
      "text/html": [
       "<div>\n",
       "<style scoped>\n",
       "    .dataframe tbody tr th:only-of-type {\n",
       "        vertical-align: middle;\n",
       "    }\n",
       "\n",
       "    .dataframe tbody tr th {\n",
       "        vertical-align: top;\n",
       "    }\n",
       "\n",
       "    .dataframe thead th {\n",
       "        text-align: right;\n",
       "    }\n",
       "</style>\n",
       "<table border=\"1\" class=\"dataframe\">\n",
       "  <thead>\n",
       "    <tr style=\"text-align: right;\">\n",
       "      <th></th>\n",
       "      <th>area_type</th>\n",
       "      <th>location</th>\n",
       "      <th>size</th>\n",
       "      <th>total_sqft</th>\n",
       "      <th>bath</th>\n",
       "      <th>balcony</th>\n",
       "      <th>price</th>\n",
       "      <th>ready_to_move</th>\n",
       "    </tr>\n",
       "  </thead>\n",
       "  <tbody>\n",
       "    <tr>\n",
       "      <th>459</th>\n",
       "      <td>Super built-up  Area</td>\n",
       "      <td>other</td>\n",
       "      <td>11.0</td>\n",
       "      <td>5000.00</td>\n",
       "      <td>9.0</td>\n",
       "      <td>3.0</td>\n",
       "      <td>360.0</td>\n",
       "      <td>1</td>\n",
       "    </tr>\n",
       "    <tr>\n",
       "      <th>538</th>\n",
       "      <td>Super built-up  Area</td>\n",
       "      <td>other</td>\n",
       "      <td>9.0</td>\n",
       "      <td>5000.00</td>\n",
       "      <td>9.0</td>\n",
       "      <td>3.0</td>\n",
       "      <td>210.0</td>\n",
       "      <td>1</td>\n",
       "    </tr>\n",
       "    <tr>\n",
       "      <th>648</th>\n",
       "      <td>Built-up  Area</td>\n",
       "      <td>Arekere</td>\n",
       "      <td>9.0</td>\n",
       "      <td>1123031.25</td>\n",
       "      <td>9.0</td>\n",
       "      <td>2.0</td>\n",
       "      <td>265.0</td>\n",
       "      <td>1</td>\n",
       "    </tr>\n",
       "    <tr>\n",
       "      <th>1078</th>\n",
       "      <td>Plot  Area</td>\n",
       "      <td>other</td>\n",
       "      <td>9.0</td>\n",
       "      <td>3300.00</td>\n",
       "      <td>14.0</td>\n",
       "      <td>2.0</td>\n",
       "      <td>500.0</td>\n",
       "      <td>1</td>\n",
       "    </tr>\n",
       "    <tr>\n",
       "      <th>1299</th>\n",
       "      <td>Plot  Area</td>\n",
       "      <td>Chamrajpet</td>\n",
       "      <td>9.0</td>\n",
       "      <td>4050.00</td>\n",
       "      <td>7.0</td>\n",
       "      <td>1.0</td>\n",
       "      <td>1200.0</td>\n",
       "      <td>1</td>\n",
       "    </tr>\n",
       "    <tr>\n",
       "      <th>1400</th>\n",
       "      <td>Super built-up  Area</td>\n",
       "      <td>Chamrajpet</td>\n",
       "      <td>9.0</td>\n",
       "      <td>7706.95</td>\n",
       "      <td>9.0</td>\n",
       "      <td>1.0</td>\n",
       "      <td>296.0</td>\n",
       "      <td>1</td>\n",
       "    </tr>\n",
       "    <tr>\n",
       "      <th>2165</th>\n",
       "      <td>Plot  Area</td>\n",
       "      <td>Raja Rajeshwari Nagar</td>\n",
       "      <td>9.0</td>\n",
       "      <td>3125.00</td>\n",
       "      <td>9.0</td>\n",
       "      <td>2.0</td>\n",
       "      <td>350.0</td>\n",
       "      <td>1</td>\n",
       "    </tr>\n",
       "    <tr>\n",
       "      <th>2826</th>\n",
       "      <td>Built-up  Area</td>\n",
       "      <td>Kadugodi</td>\n",
       "      <td>9.0</td>\n",
       "      <td>6200.00</td>\n",
       "      <td>9.0</td>\n",
       "      <td>0.0</td>\n",
       "      <td>200.0</td>\n",
       "      <td>1</td>\n",
       "    </tr>\n",
       "    <tr>\n",
       "      <th>3096</th>\n",
       "      <td>Super built-up  Area</td>\n",
       "      <td>other</td>\n",
       "      <td>10.0</td>\n",
       "      <td>12000.00</td>\n",
       "      <td>12.0</td>\n",
       "      <td>2.0</td>\n",
       "      <td>525.0</td>\n",
       "      <td>1</td>\n",
       "    </tr>\n",
       "    <tr>\n",
       "      <th>3609</th>\n",
       "      <td>Super built-up  Area</td>\n",
       "      <td>other</td>\n",
       "      <td>16.0</td>\n",
       "      <td>10000.00</td>\n",
       "      <td>16.0</td>\n",
       "      <td>2.0</td>\n",
       "      <td>550.0</td>\n",
       "      <td>1</td>\n",
       "    </tr>\n",
       "    <tr>\n",
       "      <th>3841</th>\n",
       "      <td>Plot  Area</td>\n",
       "      <td>other</td>\n",
       "      <td>9.0</td>\n",
       "      <td>4500.00</td>\n",
       "      <td>9.0</td>\n",
       "      <td>2.0</td>\n",
       "      <td>166.0</td>\n",
       "      <td>1</td>\n",
       "    </tr>\n",
       "    <tr>\n",
       "      <th>4585</th>\n",
       "      <td>Carpet  Area</td>\n",
       "      <td>other</td>\n",
       "      <td>9.0</td>\n",
       "      <td>4500.00</td>\n",
       "      <td>9.0</td>\n",
       "      <td>2.0</td>\n",
       "      <td>500.0</td>\n",
       "      <td>1</td>\n",
       "    </tr>\n",
       "    <tr>\n",
       "      <th>5393</th>\n",
       "      <td>Super built-up  Area</td>\n",
       "      <td>other</td>\n",
       "      <td>9.0</td>\n",
       "      <td>42000.00</td>\n",
       "      <td>8.0</td>\n",
       "      <td>3.0</td>\n",
       "      <td>175.0</td>\n",
       "      <td>1</td>\n",
       "    </tr>\n",
       "    <tr>\n",
       "      <th>5847</th>\n",
       "      <td>Super built-up  Area</td>\n",
       "      <td>Vidyaranyapura</td>\n",
       "      <td>9.0</td>\n",
       "      <td>4700.00</td>\n",
       "      <td>10.0</td>\n",
       "      <td>3.0</td>\n",
       "      <td>130.0</td>\n",
       "      <td>1</td>\n",
       "    </tr>\n",
       "    <tr>\n",
       "      <th>7979</th>\n",
       "      <td>Super built-up  Area</td>\n",
       "      <td>other</td>\n",
       "      <td>11.0</td>\n",
       "      <td>6000.00</td>\n",
       "      <td>12.0</td>\n",
       "      <td>2.0</td>\n",
       "      <td>150.0</td>\n",
       "      <td>1</td>\n",
       "    </tr>\n",
       "    <tr>\n",
       "      <th>8050</th>\n",
       "      <td>Built-up  Area</td>\n",
       "      <td>Raja Rajeshwari Nagar</td>\n",
       "      <td>9.0</td>\n",
       "      <td>3600.00</td>\n",
       "      <td>9.0</td>\n",
       "      <td>3.0</td>\n",
       "      <td>240.0</td>\n",
       "      <td>1</td>\n",
       "    </tr>\n",
       "    <tr>\n",
       "      <th>8636</th>\n",
       "      <td>Super built-up  Area</td>\n",
       "      <td>other</td>\n",
       "      <td>10.0</td>\n",
       "      <td>4000.00</td>\n",
       "      <td>12.0</td>\n",
       "      <td>2.0</td>\n",
       "      <td>160.0</td>\n",
       "      <td>1</td>\n",
       "    </tr>\n",
       "    <tr>\n",
       "      <th>8891</th>\n",
       "      <td>Built-up  Area</td>\n",
       "      <td>KR Puram</td>\n",
       "      <td>9.0</td>\n",
       "      <td>4600.00</td>\n",
       "      <td>9.0</td>\n",
       "      <td>2.0</td>\n",
       "      <td>200.0</td>\n",
       "      <td>0</td>\n",
       "    </tr>\n",
       "    <tr>\n",
       "      <th>9343</th>\n",
       "      <td>Plot  Area</td>\n",
       "      <td>other</td>\n",
       "      <td>9.0</td>\n",
       "      <td>4320.00</td>\n",
       "      <td>7.0</td>\n",
       "      <td>2.0</td>\n",
       "      <td>821.0</td>\n",
       "      <td>1</td>\n",
       "    </tr>\n",
       "    <tr>\n",
       "      <th>9769</th>\n",
       "      <td>Plot  Area</td>\n",
       "      <td>other</td>\n",
       "      <td>10.0</td>\n",
       "      <td>3300.00</td>\n",
       "      <td>9.0</td>\n",
       "      <td>2.0</td>\n",
       "      <td>450.0</td>\n",
       "      <td>1</td>\n",
       "    </tr>\n",
       "    <tr>\n",
       "      <th>9935</th>\n",
       "      <td>Super built-up  Area</td>\n",
       "      <td>other</td>\n",
       "      <td>13.0</td>\n",
       "      <td>5425.00</td>\n",
       "      <td>13.0</td>\n",
       "      <td>0.0</td>\n",
       "      <td>275.0</td>\n",
       "      <td>1</td>\n",
       "    </tr>\n",
       "    <tr>\n",
       "      <th>10088</th>\n",
       "      <td>Built-up  Area</td>\n",
       "      <td>other</td>\n",
       "      <td>9.0</td>\n",
       "      <td>3200.00</td>\n",
       "      <td>8.0</td>\n",
       "      <td>1.0</td>\n",
       "      <td>130.0</td>\n",
       "      <td>1</td>\n",
       "    </tr>\n",
       "    <tr>\n",
       "      <th>11142</th>\n",
       "      <td>Built-up  Area</td>\n",
       "      <td>Munnekollal</td>\n",
       "      <td>10.0</td>\n",
       "      <td>7200.00</td>\n",
       "      <td>10.0</td>\n",
       "      <td>3.0</td>\n",
       "      <td>200.0</td>\n",
       "      <td>1</td>\n",
       "    </tr>\n",
       "    <tr>\n",
       "      <th>11324</th>\n",
       "      <td>Built-up  Area</td>\n",
       "      <td>R.T. Nagar</td>\n",
       "      <td>9.0</td>\n",
       "      <td>3600.00</td>\n",
       "      <td>8.0</td>\n",
       "      <td>2.0</td>\n",
       "      <td>165.0</td>\n",
       "      <td>1</td>\n",
       "    </tr>\n",
       "    <tr>\n",
       "      <th>11327</th>\n",
       "      <td>Plot  Area</td>\n",
       "      <td>Kogilu</td>\n",
       "      <td>10.0</td>\n",
       "      <td>3280.00</td>\n",
       "      <td>9.0</td>\n",
       "      <td>3.0</td>\n",
       "      <td>450.0</td>\n",
       "      <td>1</td>\n",
       "    </tr>\n",
       "    <tr>\n",
       "      <th>13067</th>\n",
       "      <td>Plot  Area</td>\n",
       "      <td>other</td>\n",
       "      <td>10.0</td>\n",
       "      <td>7150.00</td>\n",
       "      <td>13.0</td>\n",
       "      <td>2.0</td>\n",
       "      <td>3600.0</td>\n",
       "      <td>1</td>\n",
       "    </tr>\n",
       "    <tr>\n",
       "      <th>13141</th>\n",
       "      <td>Built-up  Area</td>\n",
       "      <td>other</td>\n",
       "      <td>9.0</td>\n",
       "      <td>4600.00</td>\n",
       "      <td>9.0</td>\n",
       "      <td>2.0</td>\n",
       "      <td>150.0</td>\n",
       "      <td>1</td>\n",
       "    </tr>\n",
       "  </tbody>\n",
       "</table>\n",
       "</div>"
      ],
      "text/plain": [
       "                  area_type               location  size  total_sqft  bath  \\\n",
       "459    Super built-up  Area                  other  11.0     5000.00   9.0   \n",
       "538    Super built-up  Area                  other   9.0     5000.00   9.0   \n",
       "648          Built-up  Area                Arekere   9.0  1123031.25   9.0   \n",
       "1078             Plot  Area                  other   9.0     3300.00  14.0   \n",
       "1299             Plot  Area             Chamrajpet   9.0     4050.00   7.0   \n",
       "1400   Super built-up  Area             Chamrajpet   9.0     7706.95   9.0   \n",
       "2165             Plot  Area  Raja Rajeshwari Nagar   9.0     3125.00   9.0   \n",
       "2826         Built-up  Area               Kadugodi   9.0     6200.00   9.0   \n",
       "3096   Super built-up  Area                  other  10.0    12000.00  12.0   \n",
       "3609   Super built-up  Area                  other  16.0    10000.00  16.0   \n",
       "3841             Plot  Area                  other   9.0     4500.00   9.0   \n",
       "4585           Carpet  Area                  other   9.0     4500.00   9.0   \n",
       "5393   Super built-up  Area                  other   9.0    42000.00   8.0   \n",
       "5847   Super built-up  Area         Vidyaranyapura   9.0     4700.00  10.0   \n",
       "7979   Super built-up  Area                  other  11.0     6000.00  12.0   \n",
       "8050         Built-up  Area  Raja Rajeshwari Nagar   9.0     3600.00   9.0   \n",
       "8636   Super built-up  Area                  other  10.0     4000.00  12.0   \n",
       "8891         Built-up  Area               KR Puram   9.0     4600.00   9.0   \n",
       "9343             Plot  Area                  other   9.0     4320.00   7.0   \n",
       "9769             Plot  Area                  other  10.0     3300.00   9.0   \n",
       "9935   Super built-up  Area                  other  13.0     5425.00  13.0   \n",
       "10088        Built-up  Area                  other   9.0     3200.00   8.0   \n",
       "11142        Built-up  Area            Munnekollal  10.0     7200.00  10.0   \n",
       "11324        Built-up  Area             R.T. Nagar   9.0     3600.00   8.0   \n",
       "11327            Plot  Area                 Kogilu  10.0     3280.00   9.0   \n",
       "13067            Plot  Area                  other  10.0     7150.00  13.0   \n",
       "13141        Built-up  Area                  other   9.0     4600.00   9.0   \n",
       "\n",
       "       balcony   price  ready_to_move  \n",
       "459        3.0   360.0              1  \n",
       "538        3.0   210.0              1  \n",
       "648        2.0   265.0              1  \n",
       "1078       2.0   500.0              1  \n",
       "1299       1.0  1200.0              1  \n",
       "1400       1.0   296.0              1  \n",
       "2165       2.0   350.0              1  \n",
       "2826       0.0   200.0              1  \n",
       "3096       2.0   525.0              1  \n",
       "3609       2.0   550.0              1  \n",
       "3841       2.0   166.0              1  \n",
       "4585       2.0   500.0              1  \n",
       "5393       3.0   175.0              1  \n",
       "5847       3.0   130.0              1  \n",
       "7979       2.0   150.0              1  \n",
       "8050       3.0   240.0              1  \n",
       "8636       2.0   160.0              1  \n",
       "8891       2.0   200.0              0  \n",
       "9343       2.0   821.0              1  \n",
       "9769       2.0   450.0              1  \n",
       "9935       0.0   275.0              1  \n",
       "10088      1.0   130.0              1  \n",
       "11142      3.0   200.0              1  \n",
       "11324      2.0   165.0              1  \n",
       "11327      3.0   450.0              1  \n",
       "13067      2.0  3600.0              1  \n",
       "13141      2.0   150.0              1  "
      ]
     },
     "execution_count": 35,
     "metadata": {},
     "output_type": "execute_result"
    }
   ],
   "source": [
    "df[df['size']>8]"
   ]
  },
  {
   "cell_type": "code",
   "execution_count": 36,
   "id": "08e206a1",
   "metadata": {
    "execution": {
     "iopub.execute_input": "2025-03-07T10:42:25.937899Z",
     "iopub.status.busy": "2025-03-07T10:42:25.937534Z",
     "iopub.status.idle": "2025-03-07T10:42:25.948560Z",
     "shell.execute_reply": "2025-03-07T10:42:25.947455Z"
    },
    "papermill": {
     "duration": 0.034122,
     "end_time": "2025-03-07T10:42:25.950216",
     "exception": false,
     "start_time": "2025-03-07T10:42:25.916094",
     "status": "completed"
    },
    "tags": []
   },
   "outputs": [
    {
     "data": {
      "text/plain": [
       "count     12053.000000\n",
       "mean       6353.246053\n",
       "std        4227.633744\n",
       "min           2.257423\n",
       "25%        4241.935484\n",
       "50%        5324.675325\n",
       "75%        6968.992248\n",
       "max      176470.588235\n",
       "Name: price_per_sqft, dtype: float64"
      ]
     },
     "execution_count": 36,
     "metadata": {},
     "output_type": "execute_result"
    }
   ],
   "source": [
    "df['price_per_sqft'] = df['price']*100000/df['total_sqft']\n",
    "df.price_per_sqft.describe()"
   ]
  },
  {
   "cell_type": "code",
   "execution_count": 37,
   "id": "bc0c29c3",
   "metadata": {
    "execution": {
     "iopub.execute_input": "2025-03-07T10:42:25.992670Z",
     "iopub.status.busy": "2025-03-07T10:42:25.992275Z",
     "iopub.status.idle": "2025-03-07T10:42:26.012192Z",
     "shell.execute_reply": "2025-03-07T10:42:26.011196Z"
    },
    "papermill": {
     "duration": 0.043003,
     "end_time": "2025-03-07T10:42:26.014047",
     "exception": false,
     "start_time": "2025-03-07T10:42:25.971044",
     "status": "completed"
    },
    "tags": []
   },
   "outputs": [
    {
     "data": {
      "text/html": [
       "<div>\n",
       "<style scoped>\n",
       "    .dataframe tbody tr th:only-of-type {\n",
       "        vertical-align: middle;\n",
       "    }\n",
       "\n",
       "    .dataframe tbody tr th {\n",
       "        vertical-align: top;\n",
       "    }\n",
       "\n",
       "    .dataframe thead th {\n",
       "        text-align: right;\n",
       "    }\n",
       "</style>\n",
       "<table border=\"1\" class=\"dataframe\">\n",
       "  <thead>\n",
       "    <tr style=\"text-align: right;\">\n",
       "      <th></th>\n",
       "      <th>area_type</th>\n",
       "      <th>location</th>\n",
       "      <th>size</th>\n",
       "      <th>total_sqft</th>\n",
       "      <th>bath</th>\n",
       "      <th>balcony</th>\n",
       "      <th>price</th>\n",
       "      <th>ready_to_move</th>\n",
       "      <th>price_per_sqft</th>\n",
       "    </tr>\n",
       "  </thead>\n",
       "  <tbody>\n",
       "    <tr>\n",
       "      <th>1086</th>\n",
       "      <td>Plot  Area</td>\n",
       "      <td>other</td>\n",
       "      <td>2.0</td>\n",
       "      <td>1306800.00</td>\n",
       "      <td>2.0</td>\n",
       "      <td>2.0</td>\n",
       "      <td>29.50</td>\n",
       "      <td>0</td>\n",
       "      <td>2.257423</td>\n",
       "    </tr>\n",
       "    <tr>\n",
       "      <th>648</th>\n",
       "      <td>Built-up  Area</td>\n",
       "      <td>Arekere</td>\n",
       "      <td>9.0</td>\n",
       "      <td>1123031.25</td>\n",
       "      <td>9.0</td>\n",
       "      <td>2.0</td>\n",
       "      <td>265.00</td>\n",
       "      <td>1</td>\n",
       "      <td>23.596850</td>\n",
       "    </tr>\n",
       "    <tr>\n",
       "      <th>11615</th>\n",
       "      <td>Plot  Area</td>\n",
       "      <td>other</td>\n",
       "      <td>3.0</td>\n",
       "      <td>261360.00</td>\n",
       "      <td>2.0</td>\n",
       "      <td>0.0</td>\n",
       "      <td>80.00</td>\n",
       "      <td>1</td>\n",
       "      <td>30.609122</td>\n",
       "    </tr>\n",
       "    <tr>\n",
       "      <th>7607</th>\n",
       "      <td>Plot  Area</td>\n",
       "      <td>other</td>\n",
       "      <td>3.0</td>\n",
       "      <td>653400.00</td>\n",
       "      <td>3.0</td>\n",
       "      <td>1.0</td>\n",
       "      <td>217.00</td>\n",
       "      <td>1</td>\n",
       "      <td>33.210897</td>\n",
       "    </tr>\n",
       "    <tr>\n",
       "      <th>7001</th>\n",
       "      <td>Plot  Area</td>\n",
       "      <td>other</td>\n",
       "      <td>8.0</td>\n",
       "      <td>653400.00</td>\n",
       "      <td>6.0</td>\n",
       "      <td>2.0</td>\n",
       "      <td>290.00</td>\n",
       "      <td>1</td>\n",
       "      <td>44.383226</td>\n",
       "    </tr>\n",
       "    <tr>\n",
       "      <th>...</th>\n",
       "      <td>...</td>\n",
       "      <td>...</td>\n",
       "      <td>...</td>\n",
       "      <td>...</td>\n",
       "      <td>...</td>\n",
       "      <td>...</td>\n",
       "      <td>...</td>\n",
       "      <td>...</td>\n",
       "      <td>...</td>\n",
       "    </tr>\n",
       "    <tr>\n",
       "      <th>1867</th>\n",
       "      <td>Built-up  Area</td>\n",
       "      <td>TC Palaya</td>\n",
       "      <td>4.0</td>\n",
       "      <td>2100.00</td>\n",
       "      <td>2.0</td>\n",
       "      <td>1.0</td>\n",
       "      <td>50.00</td>\n",
       "      <td>1</td>\n",
       "      <td>2380.952381</td>\n",
       "    </tr>\n",
       "    <tr>\n",
       "      <th>5374</th>\n",
       "      <td>Super built-up  Area</td>\n",
       "      <td>Varthur Road</td>\n",
       "      <td>2.0</td>\n",
       "      <td>805.50</td>\n",
       "      <td>2.0</td>\n",
       "      <td>0.0</td>\n",
       "      <td>19.33</td>\n",
       "      <td>0</td>\n",
       "      <td>2399.751707</td>\n",
       "    </tr>\n",
       "    <tr>\n",
       "      <th>7996</th>\n",
       "      <td>Super built-up  Area</td>\n",
       "      <td>other</td>\n",
       "      <td>3.0</td>\n",
       "      <td>2500.00</td>\n",
       "      <td>2.0</td>\n",
       "      <td>1.0</td>\n",
       "      <td>60.00</td>\n",
       "      <td>1</td>\n",
       "      <td>2400.000000</td>\n",
       "    </tr>\n",
       "    <tr>\n",
       "      <th>2862</th>\n",
       "      <td>Plot  Area</td>\n",
       "      <td>Devanahalli</td>\n",
       "      <td>2.0</td>\n",
       "      <td>1950.00</td>\n",
       "      <td>2.0</td>\n",
       "      <td>2.0</td>\n",
       "      <td>46.80</td>\n",
       "      <td>0</td>\n",
       "      <td>2400.000000</td>\n",
       "    </tr>\n",
       "    <tr>\n",
       "      <th>8724</th>\n",
       "      <td>Super built-up  Area</td>\n",
       "      <td>Varthur Road</td>\n",
       "      <td>1.0</td>\n",
       "      <td>552.50</td>\n",
       "      <td>1.0</td>\n",
       "      <td>0.0</td>\n",
       "      <td>13.26</td>\n",
       "      <td>0</td>\n",
       "      <td>2400.000000</td>\n",
       "    </tr>\n",
       "  </tbody>\n",
       "</table>\n",
       "<p>100 rows × 9 columns</p>\n",
       "</div>"
      ],
      "text/plain": [
       "                  area_type      location  size  total_sqft  bath  balcony  \\\n",
       "1086             Plot  Area         other   2.0  1306800.00   2.0      2.0   \n",
       "648          Built-up  Area       Arekere   9.0  1123031.25   9.0      2.0   \n",
       "11615            Plot  Area         other   3.0   261360.00   2.0      0.0   \n",
       "7607             Plot  Area         other   3.0   653400.00   3.0      1.0   \n",
       "7001             Plot  Area         other   8.0   653400.00   6.0      2.0   \n",
       "...                     ...           ...   ...         ...   ...      ...   \n",
       "1867         Built-up  Area     TC Palaya   4.0     2100.00   2.0      1.0   \n",
       "5374   Super built-up  Area  Varthur Road   2.0      805.50   2.0      0.0   \n",
       "7996   Super built-up  Area         other   3.0     2500.00   2.0      1.0   \n",
       "2862             Plot  Area   Devanahalli   2.0     1950.00   2.0      2.0   \n",
       "8724   Super built-up  Area  Varthur Road   1.0      552.50   1.0      0.0   \n",
       "\n",
       "        price  ready_to_move  price_per_sqft  \n",
       "1086    29.50              0        2.257423  \n",
       "648    265.00              1       23.596850  \n",
       "11615   80.00              1       30.609122  \n",
       "7607   217.00              1       33.210897  \n",
       "7001   290.00              1       44.383226  \n",
       "...       ...            ...             ...  \n",
       "1867    50.00              1     2380.952381  \n",
       "5374    19.33              0     2399.751707  \n",
       "7996    60.00              1     2400.000000  \n",
       "2862    46.80              0     2400.000000  \n",
       "8724    13.26              0     2400.000000  \n",
       "\n",
       "[100 rows x 9 columns]"
      ]
     },
     "execution_count": 37,
     "metadata": {},
     "output_type": "execute_result"
    }
   ],
   "source": [
    "df.sort_values(by='price_per_sqft',ascending=True).head(100)\n",
    "#Here for some flat size the tot_sqft is so high which should be treated as outlier"
   ]
  },
  {
   "cell_type": "code",
   "execution_count": 38,
   "id": "7a531b8a",
   "metadata": {
    "execution": {
     "iopub.execute_input": "2025-03-07T10:42:26.057779Z",
     "iopub.status.busy": "2025-03-07T10:42:26.057414Z",
     "iopub.status.idle": "2025-03-07T10:42:26.420457Z",
     "shell.execute_reply": "2025-03-07T10:42:26.419532Z"
    },
    "papermill": {
     "duration": 0.386882,
     "end_time": "2025-03-07T10:42:26.422344",
     "exception": false,
     "start_time": "2025-03-07T10:42:26.035462",
     "status": "completed"
    },
    "tags": []
   },
   "outputs": [],
   "source": [
    "# Removing some extreme outliers in the dataset which are giving wrong information about price in terms of price per sq.ft as some are as low\n",
    "# as Rs.2 per sq. ft. and some are very high which is not possible.\n",
    "def remove_outliers_quantile(dataframe):\n",
    "    resDF = pd.DataFrame()\n",
    "    for i, sdf in df.groupby(\"location\"):\n",
    "        minQuantile, maxQuantile = sdf.price_per_sqft.quantile([0.15, 0.85])\n",
    "        tempDF = sdf[(sdf.price_per_sqft > minQuantile) & (sdf.price_per_sqft < maxQuantile)]\n",
    "        resDF = pd.concat([resDF, tempDF], ignore_index=True)\n",
    "    return resDF\n",
    "\n",
    "df1 = remove_outliers_quantile(df)\n"
   ]
  },
  {
   "cell_type": "code",
   "execution_count": 39,
   "id": "d4fdc28b",
   "metadata": {
    "execution": {
     "iopub.execute_input": "2025-03-07T10:42:26.467486Z",
     "iopub.status.busy": "2025-03-07T10:42:26.467114Z",
     "iopub.status.idle": "2025-03-07T10:42:26.472725Z",
     "shell.execute_reply": "2025-03-07T10:42:26.471812Z"
    },
    "papermill": {
     "duration": 0.031023,
     "end_time": "2025-03-07T10:42:26.474152",
     "exception": false,
     "start_time": "2025-03-07T10:42:26.443129",
     "status": "completed"
    },
    "tags": []
   },
   "outputs": [
    {
     "data": {
      "text/plain": [
       "(8267, 9)"
      ]
     },
     "execution_count": 39,
     "metadata": {},
     "output_type": "execute_result"
    }
   ],
   "source": [
    "df1.shape"
   ]
  },
  {
   "cell_type": "code",
   "execution_count": 40,
   "id": "d84f3d4f",
   "metadata": {
    "execution": {
     "iopub.execute_input": "2025-03-07T10:42:26.518676Z",
     "iopub.status.busy": "2025-03-07T10:42:26.518286Z",
     "iopub.status.idle": "2025-03-07T10:42:26.527557Z",
     "shell.execute_reply": "2025-03-07T10:42:26.526495Z"
    },
    "papermill": {
     "duration": 0.032624,
     "end_time": "2025-03-07T10:42:26.529164",
     "exception": false,
     "start_time": "2025-03-07T10:42:26.496540",
     "status": "completed"
    },
    "tags": []
   },
   "outputs": [
    {
     "data": {
      "text/plain": [
       "count     8267.000000\n",
       "mean      5742.639965\n",
       "std       1934.379489\n",
       "min       2500.305064\n",
       "25%       4500.000000\n",
       "50%       5301.794454\n",
       "75%       6479.498771\n",
       "max      20329.358319\n",
       "Name: price_per_sqft, dtype: float64"
      ]
     },
     "execution_count": 40,
     "metadata": {},
     "output_type": "execute_result"
    }
   ],
   "source": [
    "df1.price_per_sqft.describe()"
   ]
  },
  {
   "cell_type": "code",
   "execution_count": 41,
   "id": "90c796d1",
   "metadata": {
    "execution": {
     "iopub.execute_input": "2025-03-07T10:42:26.573836Z",
     "iopub.status.busy": "2025-03-07T10:42:26.573490Z",
     "iopub.status.idle": "2025-03-07T10:42:26.587482Z",
     "shell.execute_reply": "2025-03-07T10:42:26.586492Z"
    },
    "papermill": {
     "duration": 0.038595,
     "end_time": "2025-03-07T10:42:26.589864",
     "exception": false,
     "start_time": "2025-03-07T10:42:26.551269",
     "status": "completed"
    },
    "tags": []
   },
   "outputs": [
    {
     "data": {
      "text/html": [
       "<div>\n",
       "<style scoped>\n",
       "    .dataframe tbody tr th:only-of-type {\n",
       "        vertical-align: middle;\n",
       "    }\n",
       "\n",
       "    .dataframe tbody tr th {\n",
       "        vertical-align: top;\n",
       "    }\n",
       "\n",
       "    .dataframe thead th {\n",
       "        text-align: right;\n",
       "    }\n",
       "</style>\n",
       "<table border=\"1\" class=\"dataframe\">\n",
       "  <thead>\n",
       "    <tr style=\"text-align: right;\">\n",
       "      <th></th>\n",
       "      <th>area_type</th>\n",
       "      <th>location</th>\n",
       "      <th>size</th>\n",
       "      <th>total_sqft</th>\n",
       "      <th>bath</th>\n",
       "      <th>balcony</th>\n",
       "      <th>price</th>\n",
       "      <th>ready_to_move</th>\n",
       "      <th>price_per_sqft</th>\n",
       "    </tr>\n",
       "  </thead>\n",
       "  <tbody>\n",
       "    <tr>\n",
       "      <th>0</th>\n",
       "      <td>Super built-up  Area</td>\n",
       "      <td>1st Phase JP Nagar</td>\n",
       "      <td>4.0</td>\n",
       "      <td>2825.0</td>\n",
       "      <td>4.0</td>\n",
       "      <td>3.0</td>\n",
       "      <td>250.0</td>\n",
       "      <td>1</td>\n",
       "      <td>8849.557522</td>\n",
       "    </tr>\n",
       "    <tr>\n",
       "      <th>1</th>\n",
       "      <td>Super built-up  Area</td>\n",
       "      <td>1st Phase JP Nagar</td>\n",
       "      <td>3.0</td>\n",
       "      <td>1875.0</td>\n",
       "      <td>3.0</td>\n",
       "      <td>1.0</td>\n",
       "      <td>167.0</td>\n",
       "      <td>1</td>\n",
       "      <td>8906.666667</td>\n",
       "    </tr>\n",
       "    <tr>\n",
       "      <th>2</th>\n",
       "      <td>Super built-up  Area</td>\n",
       "      <td>1st Phase JP Nagar</td>\n",
       "      <td>3.0</td>\n",
       "      <td>2065.0</td>\n",
       "      <td>4.0</td>\n",
       "      <td>1.0</td>\n",
       "      <td>210.0</td>\n",
       "      <td>1</td>\n",
       "      <td>10169.491525</td>\n",
       "    </tr>\n",
       "    <tr>\n",
       "      <th>3</th>\n",
       "      <td>Super built-up  Area</td>\n",
       "      <td>1st Phase JP Nagar</td>\n",
       "      <td>3.0</td>\n",
       "      <td>2024.0</td>\n",
       "      <td>3.0</td>\n",
       "      <td>2.0</td>\n",
       "      <td>157.0</td>\n",
       "      <td>1</td>\n",
       "      <td>7756.916996</td>\n",
       "    </tr>\n",
       "    <tr>\n",
       "      <th>4</th>\n",
       "      <td>Super built-up  Area</td>\n",
       "      <td>1st Phase JP Nagar</td>\n",
       "      <td>3.0</td>\n",
       "      <td>2059.0</td>\n",
       "      <td>3.0</td>\n",
       "      <td>2.0</td>\n",
       "      <td>225.0</td>\n",
       "      <td>1</td>\n",
       "      <td>10927.634774</td>\n",
       "    </tr>\n",
       "  </tbody>\n",
       "</table>\n",
       "</div>"
      ],
      "text/plain": [
       "              area_type            location  size  total_sqft  bath  balcony  \\\n",
       "0  Super built-up  Area  1st Phase JP Nagar   4.0      2825.0   4.0      3.0   \n",
       "1  Super built-up  Area  1st Phase JP Nagar   3.0      1875.0   3.0      1.0   \n",
       "2  Super built-up  Area  1st Phase JP Nagar   3.0      2065.0   4.0      1.0   \n",
       "3  Super built-up  Area  1st Phase JP Nagar   3.0      2024.0   3.0      2.0   \n",
       "4  Super built-up  Area  1st Phase JP Nagar   3.0      2059.0   3.0      2.0   \n",
       "\n",
       "   price  ready_to_move  price_per_sqft  \n",
       "0  250.0              1     8849.557522  \n",
       "1  167.0              1     8906.666667  \n",
       "2  210.0              1    10169.491525  \n",
       "3  157.0              1     7756.916996  \n",
       "4  225.0              1    10927.634774  "
      ]
     },
     "execution_count": 41,
     "metadata": {},
     "output_type": "execute_result"
    }
   ],
   "source": [
    "df1.head()"
   ]
  },
  {
   "cell_type": "markdown",
   "id": "387eee34",
   "metadata": {
    "papermill": {
     "duration": 0.021439,
     "end_time": "2025-03-07T10:42:26.633670",
     "exception": false,
     "start_time": "2025-03-07T10:42:26.612231",
     "status": "completed"
    },
    "tags": []
   },
   "source": [
    "### Correlation matrix"
   ]
  },
  {
   "cell_type": "code",
   "execution_count": 42,
   "id": "24eccf2c",
   "metadata": {
    "execution": {
     "iopub.execute_input": "2025-03-07T10:42:26.678085Z",
     "iopub.status.busy": "2025-03-07T10:42:26.677760Z",
     "iopub.status.idle": "2025-03-07T10:42:26.998608Z",
     "shell.execute_reply": "2025-03-07T10:42:26.997230Z"
    },
    "papermill": {
     "duration": 0.345616,
     "end_time": "2025-03-07T10:42:27.000456",
     "exception": false,
     "start_time": "2025-03-07T10:42:26.654840",
     "status": "completed"
    },
    "tags": []
   },
   "outputs": [
    {
     "data": {
      "image/png": "[encoded data removed]",
      "text/plain": [
       "<Figure size 1000x800 with 2 Axes>"
      ]
     },
     "metadata": {},
     "output_type": "display_data"
    }
   ],
   "source": [
    "feats = ['total_sqft', 'bath', 'balcony','size']\n",
    "plt.figure(figsize=(10,8))\n",
    "sns.heatmap(df1[feats].corr(),\n",
    "            annot=True ,\n",
    "            fmt='.2f',\n",
    "            vmax=1,\n",
    "            vmin=-1,\n",
    "            mask=np.triu(df1[feats].corr()),\n",
    "            linewidths=1,\n",
    "            linecolor = 'white',\n",
    "            square=True,\n",
    "            cmap='RdYlGn_r')\n",
    "\n",
    "plt.show()\n"
   ]
  },
  {
   "cell_type": "markdown",
   "id": "d6808588",
   "metadata": {
    "papermill": {
     "duration": 0.022703,
     "end_time": "2025-03-07T10:42:27.045674",
     "exception": false,
     "start_time": "2025-03-07T10:42:27.022971",
     "status": "completed"
    },
    "tags": []
   },
   "source": [
    "### Encoding"
   ]
  },
  {
   "cell_type": "code",
   "execution_count": 43,
   "id": "3877cf4b",
   "metadata": {
    "execution": {
     "iopub.execute_input": "2025-03-07T10:42:27.092287Z",
     "iopub.status.busy": "2025-03-07T10:42:27.091956Z",
     "iopub.status.idle": "2025-03-07T10:42:27.101296Z",
     "shell.execute_reply": "2025-03-07T10:42:27.100159Z"
    },
    "papermill": {
     "duration": 0.035337,
     "end_time": "2025-03-07T10:42:27.103891",
     "exception": false,
     "start_time": "2025-03-07T10:42:27.068554",
     "status": "completed"
    },
    "tags": []
   },
   "outputs": [
    {
     "data": {
      "text/plain": [
       "area_type\n",
       "Super built-up  Area    5997\n",
       "Built-up  Area          1629\n",
       "Plot  Area               583\n",
       "Carpet  Area              58\n",
       "Name: count, dtype: int64"
      ]
     },
     "execution_count": 43,
     "metadata": {},
     "output_type": "execute_result"
    }
   ],
   "source": [
    "df1['area_type'].value_counts()"
   ]
  },
  {
   "cell_type": "code",
   "execution_count": 44,
   "id": "d780ad24",
   "metadata": {
    "execution": {
     "iopub.execute_input": "2025-03-07T10:42:27.152199Z",
     "iopub.status.busy": "2025-03-07T10:42:27.151864Z",
     "iopub.status.idle": "2025-03-07T10:42:27.158904Z",
     "shell.execute_reply": "2025-03-07T10:42:27.157792Z"
    },
    "papermill": {
     "duration": 0.032493,
     "end_time": "2025-03-07T10:42:27.160786",
     "exception": false,
     "start_time": "2025-03-07T10:42:27.128293",
     "status": "completed"
    },
    "tags": []
   },
   "outputs": [],
   "source": [
    "category_mapping = {'Super built-up  Area': 0, 'Built-up  Area': 1, 'Plot  Area': 2, 'Carpet  Area' : 3}\n",
    "df1['area_type_codes'] = df1['area_type'].map(category_mapping)"
   ]
  },
  {
   "cell_type": "code",
   "execution_count": 45,
   "id": "c540bcdc",
   "metadata": {
    "execution": {
     "iopub.execute_input": "2025-03-07T10:42:27.208295Z",
     "iopub.status.busy": "2025-03-07T10:42:27.207940Z",
     "iopub.status.idle": "2025-03-07T10:42:27.222439Z",
     "shell.execute_reply": "2025-03-07T10:42:27.221415Z"
    },
    "papermill": {
     "duration": 0.040893,
     "end_time": "2025-03-07T10:42:27.223972",
     "exception": false,
     "start_time": "2025-03-07T10:42:27.183079",
     "status": "completed"
    },
    "tags": []
   },
   "outputs": [
    {
     "data": {
      "text/html": [
       "<div>\n",
       "<style scoped>\n",
       "    .dataframe tbody tr th:only-of-type {\n",
       "        vertical-align: middle;\n",
       "    }\n",
       "\n",
       "    .dataframe tbody tr th {\n",
       "        vertical-align: top;\n",
       "    }\n",
       "\n",
       "    .dataframe thead th {\n",
       "        text-align: right;\n",
       "    }\n",
       "</style>\n",
       "<table border=\"1\" class=\"dataframe\">\n",
       "  <thead>\n",
       "    <tr style=\"text-align: right;\">\n",
       "      <th></th>\n",
       "      <th>area_type</th>\n",
       "      <th>location</th>\n",
       "      <th>size</th>\n",
       "      <th>total_sqft</th>\n",
       "      <th>bath</th>\n",
       "      <th>balcony</th>\n",
       "      <th>price</th>\n",
       "      <th>ready_to_move</th>\n",
       "      <th>price_per_sqft</th>\n",
       "      <th>area_type_codes</th>\n",
       "    </tr>\n",
       "  </thead>\n",
       "  <tbody>\n",
       "    <tr>\n",
       "      <th>0</th>\n",
       "      <td>Super built-up  Area</td>\n",
       "      <td>1st Phase JP Nagar</td>\n",
       "      <td>4.0</td>\n",
       "      <td>2825.0</td>\n",
       "      <td>4.0</td>\n",
       "      <td>3.0</td>\n",
       "      <td>250.0</td>\n",
       "      <td>1</td>\n",
       "      <td>8849.557522</td>\n",
       "      <td>0</td>\n",
       "    </tr>\n",
       "    <tr>\n",
       "      <th>1</th>\n",
       "      <td>Super built-up  Area</td>\n",
       "      <td>1st Phase JP Nagar</td>\n",
       "      <td>3.0</td>\n",
       "      <td>1875.0</td>\n",
       "      <td>3.0</td>\n",
       "      <td>1.0</td>\n",
       "      <td>167.0</td>\n",
       "      <td>1</td>\n",
       "      <td>8906.666667</td>\n",
       "      <td>0</td>\n",
       "    </tr>\n",
       "    <tr>\n",
       "      <th>2</th>\n",
       "      <td>Super built-up  Area</td>\n",
       "      <td>1st Phase JP Nagar</td>\n",
       "      <td>3.0</td>\n",
       "      <td>2065.0</td>\n",
       "      <td>4.0</td>\n",
       "      <td>1.0</td>\n",
       "      <td>210.0</td>\n",
       "      <td>1</td>\n",
       "      <td>10169.491525</td>\n",
       "      <td>0</td>\n",
       "    </tr>\n",
       "    <tr>\n",
       "      <th>3</th>\n",
       "      <td>Super built-up  Area</td>\n",
       "      <td>1st Phase JP Nagar</td>\n",
       "      <td>3.0</td>\n",
       "      <td>2024.0</td>\n",
       "      <td>3.0</td>\n",
       "      <td>2.0</td>\n",
       "      <td>157.0</td>\n",
       "      <td>1</td>\n",
       "      <td>7756.916996</td>\n",
       "      <td>0</td>\n",
       "    </tr>\n",
       "    <tr>\n",
       "      <th>4</th>\n",
       "      <td>Super built-up  Area</td>\n",
       "      <td>1st Phase JP Nagar</td>\n",
       "      <td>3.0</td>\n",
       "      <td>2059.0</td>\n",
       "      <td>3.0</td>\n",
       "      <td>2.0</td>\n",
       "      <td>225.0</td>\n",
       "      <td>1</td>\n",
       "      <td>10927.634774</td>\n",
       "      <td>0</td>\n",
       "    </tr>\n",
       "  </tbody>\n",
       "</table>\n",
       "</div>"
      ],
      "text/plain": [
       "              area_type            location  size  total_sqft  bath  balcony  \\\n",
       "0  Super built-up  Area  1st Phase JP Nagar   4.0      2825.0   4.0      3.0   \n",
       "1  Super built-up  Area  1st Phase JP Nagar   3.0      1875.0   3.0      1.0   \n",
       "2  Super built-up  Area  1st Phase JP Nagar   3.0      2065.0   4.0      1.0   \n",
       "3  Super built-up  Area  1st Phase JP Nagar   3.0      2024.0   3.0      2.0   \n",
       "4  Super built-up  Area  1st Phase JP Nagar   3.0      2059.0   3.0      2.0   \n",
       "\n",
       "   price  ready_to_move  price_per_sqft  area_type_codes  \n",
       "0  250.0              1     8849.557522                0  \n",
       "1  167.0              1     8906.666667                0  \n",
       "2  210.0              1    10169.491525                0  \n",
       "3  157.0              1     7756.916996                0  \n",
       "4  225.0              1    10927.634774                0  "
      ]
     },
     "execution_count": 45,
     "metadata": {},
     "output_type": "execute_result"
    }
   ],
   "source": [
    "df1.head()"
   ]
  },
  {
   "cell_type": "code",
   "execution_count": 46,
   "id": "b716aa4e",
   "metadata": {
    "execution": {
     "iopub.execute_input": "2025-03-07T10:42:27.269357Z",
     "iopub.status.busy": "2025-03-07T10:42:27.269005Z",
     "iopub.status.idle": "2025-03-07T10:42:27.274825Z",
     "shell.execute_reply": "2025-03-07T10:42:27.273806Z"
    },
    "papermill": {
     "duration": 0.030627,
     "end_time": "2025-03-07T10:42:27.276525",
     "exception": false,
     "start_time": "2025-03-07T10:42:27.245898",
     "status": "completed"
    },
    "tags": []
   },
   "outputs": [],
   "source": [
    "df1.drop(['area_type'],axis=1,inplace=True)\n"
   ]
  },
  {
   "cell_type": "code",
   "execution_count": 47,
   "id": "d43f51f7",
   "metadata": {
    "execution": {
     "iopub.execute_input": "2025-03-07T10:42:27.322771Z",
     "iopub.status.busy": "2025-03-07T10:42:27.322419Z",
     "iopub.status.idle": "2025-03-07T10:42:27.327115Z",
     "shell.execute_reply": "2025-03-07T10:42:27.326114Z"
    },
    "papermill": {
     "duration": 0.029542,
     "end_time": "2025-03-07T10:42:27.328893",
     "exception": false,
     "start_time": "2025-03-07T10:42:27.299351",
     "status": "completed"
    },
    "tags": []
   },
   "outputs": [],
   "source": [
    "df1.rename(columns={'area_type_codes': 'area_type'},inplace=True)"
   ]
  },
  {
   "cell_type": "code",
   "execution_count": 48,
   "id": "be7d5cbd",
   "metadata": {
    "execution": {
     "iopub.execute_input": "2025-03-07T10:42:27.376954Z",
     "iopub.status.busy": "2025-03-07T10:42:27.376594Z",
     "iopub.status.idle": "2025-03-07T10:42:27.604840Z",
     "shell.execute_reply": "2025-03-07T10:42:27.603815Z"
    },
    "papermill": {
     "duration": 0.255199,
     "end_time": "2025-03-07T10:42:27.606706",
     "exception": false,
     "start_time": "2025-03-07T10:42:27.351507",
     "status": "completed"
    },
    "tags": []
   },
   "outputs": [],
   "source": [
    "from sklearn.preprocessing import OneHotEncoder\n",
    "ohe = OneHotEncoder(sparse=False)\n",
    "encoded_array = ohe.fit_transform(df1[['location']])\n",
    "encoded_df = pd.DataFrame(encoded_array, columns=ohe.get_feature_names_out(['location']))"
   ]
  },
  {
   "cell_type": "code",
   "execution_count": 49,
   "id": "d61ef46e",
   "metadata": {
    "execution": {
     "iopub.execute_input": "2025-03-07T10:42:27.652752Z",
     "iopub.status.busy": "2025-03-07T10:42:27.652242Z",
     "iopub.status.idle": "2025-03-07T10:42:27.658242Z",
     "shell.execute_reply": "2025-03-07T10:42:27.657261Z"
    },
    "papermill": {
     "duration": 0.03064,
     "end_time": "2025-03-07T10:42:27.659995",
     "exception": false,
     "start_time": "2025-03-07T10:42:27.629355",
     "status": "completed"
    },
    "tags": []
   },
   "outputs": [],
   "source": [
    "df1.drop('price_per_sqft',axis=1,inplace=True)"
   ]
  },
  {
   "cell_type": "code",
   "execution_count": 50,
   "id": "5647fe25",
   "metadata": {
    "execution": {
     "iopub.execute_input": "2025-03-07T10:42:27.706726Z",
     "iopub.status.busy": "2025-03-07T10:42:27.706317Z",
     "iopub.status.idle": "2025-03-07T10:42:27.727843Z",
     "shell.execute_reply": "2025-03-07T10:42:27.726817Z"
    },
    "papermill": {
     "duration": 0.047065,
     "end_time": "2025-03-07T10:42:27.729626",
     "exception": false,
     "start_time": "2025-03-07T10:42:27.682561",
     "status": "completed"
    },
    "tags": []
   },
   "outputs": [],
   "source": [
    "df1 = pd.concat([df1.drop(columns=['location'],axis=1), encoded_df], axis=1)"
   ]
  },
  {
   "cell_type": "code",
   "execution_count": 51,
   "id": "2928e053",
   "metadata": {
    "execution": {
     "iopub.execute_input": "2025-03-07T10:42:27.776308Z",
     "iopub.status.busy": "2025-03-07T10:42:27.775884Z",
     "iopub.status.idle": "2025-03-07T10:42:27.802827Z",
     "shell.execute_reply": "2025-03-07T10:42:27.801709Z"
    },
    "papermill": {
     "duration": 0.051944,
     "end_time": "2025-03-07T10:42:27.804418",
     "exception": false,
     "start_time": "2025-03-07T10:42:27.752474",
     "status": "completed"
    },
    "tags": []
   },
   "outputs": [
    {
     "data": {
      "text/html": [
       "<div>\n",
       "<style scoped>\n",
       "    .dataframe tbody tr th:only-of-type {\n",
       "        vertical-align: middle;\n",
       "    }\n",
       "\n",
       "    .dataframe tbody tr th {\n",
       "        vertical-align: top;\n",
       "    }\n",
       "\n",
       "    .dataframe thead th {\n",
       "        text-align: right;\n",
       "    }\n",
       "</style>\n",
       "<table border=\"1\" class=\"dataframe\">\n",
       "  <thead>\n",
       "    <tr style=\"text-align: right;\">\n",
       "      <th></th>\n",
       "      <th>size</th>\n",
       "      <th>total_sqft</th>\n",
       "      <th>bath</th>\n",
       "      <th>balcony</th>\n",
       "      <th>price</th>\n",
       "      <th>ready_to_move</th>\n",
       "      <th>area_type</th>\n",
       "      <th>location_1st Phase JP Nagar</th>\n",
       "      <th>location_2nd Stage Nagarbhavi</th>\n",
       "      <th>location_5th Phase JP Nagar</th>\n",
       "      <th>...</th>\n",
       "      <th>location_Varthur Road</th>\n",
       "      <th>location_Vidyaranyapura</th>\n",
       "      <th>location_Vijayanagar</th>\n",
       "      <th>location_Vittasandra</th>\n",
       "      <th>location_Whitefield</th>\n",
       "      <th>location_Yelachenahalli</th>\n",
       "      <th>location_Yelahanka</th>\n",
       "      <th>location_Yelahanka New Town</th>\n",
       "      <th>location_Yeshwanthpur</th>\n",
       "      <th>location_other</th>\n",
       "    </tr>\n",
       "  </thead>\n",
       "  <tbody>\n",
       "    <tr>\n",
       "      <th>0</th>\n",
       "      <td>4.0</td>\n",
       "      <td>2825.0</td>\n",
       "      <td>4.0</td>\n",
       "      <td>3.0</td>\n",
       "      <td>250.0</td>\n",
       "      <td>1</td>\n",
       "      <td>0</td>\n",
       "      <td>1.0</td>\n",
       "      <td>0.0</td>\n",
       "      <td>0.0</td>\n",
       "      <td>...</td>\n",
       "      <td>0.0</td>\n",
       "      <td>0.0</td>\n",
       "      <td>0.0</td>\n",
       "      <td>0.0</td>\n",
       "      <td>0.0</td>\n",
       "      <td>0.0</td>\n",
       "      <td>0.0</td>\n",
       "      <td>0.0</td>\n",
       "      <td>0.0</td>\n",
       "      <td>0.0</td>\n",
       "    </tr>\n",
       "    <tr>\n",
       "      <th>1</th>\n",
       "      <td>3.0</td>\n",
       "      <td>1875.0</td>\n",
       "      <td>3.0</td>\n",
       "      <td>1.0</td>\n",
       "      <td>167.0</td>\n",
       "      <td>1</td>\n",
       "      <td>0</td>\n",
       "      <td>1.0</td>\n",
       "      <td>0.0</td>\n",
       "      <td>0.0</td>\n",
       "      <td>...</td>\n",
       "      <td>0.0</td>\n",
       "      <td>0.0</td>\n",
       "      <td>0.0</td>\n",
       "      <td>0.0</td>\n",
       "      <td>0.0</td>\n",
       "      <td>0.0</td>\n",
       "      <td>0.0</td>\n",
       "      <td>0.0</td>\n",
       "      <td>0.0</td>\n",
       "      <td>0.0</td>\n",
       "    </tr>\n",
       "    <tr>\n",
       "      <th>2</th>\n",
       "      <td>3.0</td>\n",
       "      <td>2065.0</td>\n",
       "      <td>4.0</td>\n",
       "      <td>1.0</td>\n",
       "      <td>210.0</td>\n",
       "      <td>1</td>\n",
       "      <td>0</td>\n",
       "      <td>1.0</td>\n",
       "      <td>0.0</td>\n",
       "      <td>0.0</td>\n",
       "      <td>...</td>\n",
       "      <td>0.0</td>\n",
       "      <td>0.0</td>\n",
       "      <td>0.0</td>\n",
       "      <td>0.0</td>\n",
       "      <td>0.0</td>\n",
       "      <td>0.0</td>\n",
       "      <td>0.0</td>\n",
       "      <td>0.0</td>\n",
       "      <td>0.0</td>\n",
       "      <td>0.0</td>\n",
       "    </tr>\n",
       "    <tr>\n",
       "      <th>3</th>\n",
       "      <td>3.0</td>\n",
       "      <td>2024.0</td>\n",
       "      <td>3.0</td>\n",
       "      <td>2.0</td>\n",
       "      <td>157.0</td>\n",
       "      <td>1</td>\n",
       "      <td>0</td>\n",
       "      <td>1.0</td>\n",
       "      <td>0.0</td>\n",
       "      <td>0.0</td>\n",
       "      <td>...</td>\n",
       "      <td>0.0</td>\n",
       "      <td>0.0</td>\n",
       "      <td>0.0</td>\n",
       "      <td>0.0</td>\n",
       "      <td>0.0</td>\n",
       "      <td>0.0</td>\n",
       "      <td>0.0</td>\n",
       "      <td>0.0</td>\n",
       "      <td>0.0</td>\n",
       "      <td>0.0</td>\n",
       "    </tr>\n",
       "    <tr>\n",
       "      <th>4</th>\n",
       "      <td>3.0</td>\n",
       "      <td>2059.0</td>\n",
       "      <td>3.0</td>\n",
       "      <td>2.0</td>\n",
       "      <td>225.0</td>\n",
       "      <td>1</td>\n",
       "      <td>0</td>\n",
       "      <td>1.0</td>\n",
       "      <td>0.0</td>\n",
       "      <td>0.0</td>\n",
       "      <td>...</td>\n",
       "      <td>0.0</td>\n",
       "      <td>0.0</td>\n",
       "      <td>0.0</td>\n",
       "      <td>0.0</td>\n",
       "      <td>0.0</td>\n",
       "      <td>0.0</td>\n",
       "      <td>0.0</td>\n",
       "      <td>0.0</td>\n",
       "      <td>0.0</td>\n",
       "      <td>0.0</td>\n",
       "    </tr>\n",
       "  </tbody>\n",
       "</table>\n",
       "<p>5 rows × 191 columns</p>\n",
       "</div>"
      ],
      "text/plain": [
       "   size  total_sqft  bath  balcony  price  ready_to_move  area_type  \\\n",
       "0   4.0      2825.0   4.0      3.0  250.0              1          0   \n",
       "1   3.0      1875.0   3.0      1.0  167.0              1          0   \n",
       "2   3.0      2065.0   4.0      1.0  210.0              1          0   \n",
       "3   3.0      2024.0   3.0      2.0  157.0              1          0   \n",
       "4   3.0      2059.0   3.0      2.0  225.0              1          0   \n",
       "\n",
       "   location_1st Phase JP Nagar  location_2nd Stage Nagarbhavi  \\\n",
       "0                          1.0                            0.0   \n",
       "1                          1.0                            0.0   \n",
       "2                          1.0                            0.0   \n",
       "3                          1.0                            0.0   \n",
       "4                          1.0                            0.0   \n",
       "\n",
       "   location_5th Phase JP Nagar  ...  location_Varthur Road  \\\n",
       "0                          0.0  ...                    0.0   \n",
       "1                          0.0  ...                    0.0   \n",
       "2                          0.0  ...                    0.0   \n",
       "3                          0.0  ...                    0.0   \n",
       "4                          0.0  ...                    0.0   \n",
       "\n",
       "   location_Vidyaranyapura  location_Vijayanagar  location_Vittasandra  \\\n",
       "0                      0.0                   0.0                   0.0   \n",
       "1                      0.0                   0.0                   0.0   \n",
       "2                      0.0                   0.0                   0.0   \n",
       "3                      0.0                   0.0                   0.0   \n",
       "4                      0.0                   0.0                   0.0   \n",
       "\n",
       "   location_Whitefield  location_Yelachenahalli  location_Yelahanka  \\\n",
       "0                  0.0                      0.0                 0.0   \n",
       "1                  0.0                      0.0                 0.0   \n",
       "2                  0.0                      0.0                 0.0   \n",
       "3                  0.0                      0.0                 0.0   \n",
       "4                  0.0                      0.0                 0.0   \n",
       "\n",
       "   location_Yelahanka New Town  location_Yeshwanthpur  location_other  \n",
       "0                          0.0                    0.0             0.0  \n",
       "1                          0.0                    0.0             0.0  \n",
       "2                          0.0                    0.0             0.0  \n",
       "3                          0.0                    0.0             0.0  \n",
       "4                          0.0                    0.0             0.0  \n",
       "\n",
       "[5 rows x 191 columns]"
      ]
     },
     "execution_count": 51,
     "metadata": {},
     "output_type": "execute_result"
    }
   ],
   "source": [
    "df1.head()"
   ]
  },
  {
   "cell_type": "markdown",
   "id": "6f4f98cd",
   "metadata": {
    "papermill": {
     "duration": 0.022,
     "end_time": "2025-03-07T10:42:27.850866",
     "exception": false,
     "start_time": "2025-03-07T10:42:27.828866",
     "status": "completed"
    },
    "tags": []
   },
   "source": [
    "## Scaling"
   ]
  },
  {
   "cell_type": "code",
   "execution_count": 52,
   "id": "adef05c9",
   "metadata": {
    "execution": {
     "iopub.execute_input": "2025-03-07T10:42:27.897390Z",
     "iopub.status.busy": "2025-03-07T10:42:27.897011Z",
     "iopub.status.idle": "2025-03-07T10:42:27.907879Z",
     "shell.execute_reply": "2025-03-07T10:42:27.906822Z"
    },
    "papermill": {
     "duration": 0.036424,
     "end_time": "2025-03-07T10:42:27.909917",
     "exception": false,
     "start_time": "2025-03-07T10:42:27.873493",
     "status": "completed"
    },
    "tags": []
   },
   "outputs": [],
   "source": [
    "x = df1.drop(columns=['price'])\n",
    "y = df1['price']"
   ]
  },
  {
   "cell_type": "code",
   "execution_count": 53,
   "id": "5b8cae0a",
   "metadata": {
    "execution": {
     "iopub.execute_input": "2025-03-07T10:42:27.957417Z",
     "iopub.status.busy": "2025-03-07T10:42:27.957044Z",
     "iopub.status.idle": "2025-03-07T10:42:27.982955Z",
     "shell.execute_reply": "2025-03-07T10:42:27.981851Z"
    },
    "papermill": {
     "duration": 0.05234,
     "end_time": "2025-03-07T10:42:27.984938",
     "exception": false,
     "start_time": "2025-03-07T10:42:27.932598",
     "status": "completed"
    },
    "tags": []
   },
   "outputs": [
    {
     "data": {
      "text/html": [
       "<div>\n",
       "<style scoped>\n",
       "    .dataframe tbody tr th:only-of-type {\n",
       "        vertical-align: middle;\n",
       "    }\n",
       "\n",
       "    .dataframe tbody tr th {\n",
       "        vertical-align: top;\n",
       "    }\n",
       "\n",
       "    .dataframe thead th {\n",
       "        text-align: right;\n",
       "    }\n",
       "</style>\n",
       "<table border=\"1\" class=\"dataframe\">\n",
       "  <thead>\n",
       "    <tr style=\"text-align: right;\">\n",
       "      <th></th>\n",
       "      <th>size</th>\n",
       "      <th>total_sqft</th>\n",
       "      <th>bath</th>\n",
       "      <th>balcony</th>\n",
       "      <th>ready_to_move</th>\n",
       "      <th>area_type</th>\n",
       "      <th>location_1st Phase JP Nagar</th>\n",
       "      <th>location_2nd Stage Nagarbhavi</th>\n",
       "      <th>location_5th Phase JP Nagar</th>\n",
       "      <th>location_6th Phase JP Nagar</th>\n",
       "      <th>...</th>\n",
       "      <th>location_Varthur Road</th>\n",
       "      <th>location_Vidyaranyapura</th>\n",
       "      <th>location_Vijayanagar</th>\n",
       "      <th>location_Vittasandra</th>\n",
       "      <th>location_Whitefield</th>\n",
       "      <th>location_Yelachenahalli</th>\n",
       "      <th>location_Yelahanka</th>\n",
       "      <th>location_Yelahanka New Town</th>\n",
       "      <th>location_Yeshwanthpur</th>\n",
       "      <th>location_other</th>\n",
       "    </tr>\n",
       "  </thead>\n",
       "  <tbody>\n",
       "    <tr>\n",
       "      <th>0</th>\n",
       "      <td>4.0</td>\n",
       "      <td>2825.0</td>\n",
       "      <td>4.0</td>\n",
       "      <td>3.0</td>\n",
       "      <td>1</td>\n",
       "      <td>0</td>\n",
       "      <td>1.0</td>\n",
       "      <td>0.0</td>\n",
       "      <td>0.0</td>\n",
       "      <td>0.0</td>\n",
       "      <td>...</td>\n",
       "      <td>0.0</td>\n",
       "      <td>0.0</td>\n",
       "      <td>0.0</td>\n",
       "      <td>0.0</td>\n",
       "      <td>0.0</td>\n",
       "      <td>0.0</td>\n",
       "      <td>0.0</td>\n",
       "      <td>0.0</td>\n",
       "      <td>0.0</td>\n",
       "      <td>0.0</td>\n",
       "    </tr>\n",
       "    <tr>\n",
       "      <th>1</th>\n",
       "      <td>3.0</td>\n",
       "      <td>1875.0</td>\n",
       "      <td>3.0</td>\n",
       "      <td>1.0</td>\n",
       "      <td>1</td>\n",
       "      <td>0</td>\n",
       "      <td>1.0</td>\n",
       "      <td>0.0</td>\n",
       "      <td>0.0</td>\n",
       "      <td>0.0</td>\n",
       "      <td>...</td>\n",
       "      <td>0.0</td>\n",
       "      <td>0.0</td>\n",
       "      <td>0.0</td>\n",
       "      <td>0.0</td>\n",
       "      <td>0.0</td>\n",
       "      <td>0.0</td>\n",
       "      <td>0.0</td>\n",
       "      <td>0.0</td>\n",
       "      <td>0.0</td>\n",
       "      <td>0.0</td>\n",
       "    </tr>\n",
       "    <tr>\n",
       "      <th>2</th>\n",
       "      <td>3.0</td>\n",
       "      <td>2065.0</td>\n",
       "      <td>4.0</td>\n",
       "      <td>1.0</td>\n",
       "      <td>1</td>\n",
       "      <td>0</td>\n",
       "      <td>1.0</td>\n",
       "      <td>0.0</td>\n",
       "      <td>0.0</td>\n",
       "      <td>0.0</td>\n",
       "      <td>...</td>\n",
       "      <td>0.0</td>\n",
       "      <td>0.0</td>\n",
       "      <td>0.0</td>\n",
       "      <td>0.0</td>\n",
       "      <td>0.0</td>\n",
       "      <td>0.0</td>\n",
       "      <td>0.0</td>\n",
       "      <td>0.0</td>\n",
       "      <td>0.0</td>\n",
       "      <td>0.0</td>\n",
       "    </tr>\n",
       "    <tr>\n",
       "      <th>3</th>\n",
       "      <td>3.0</td>\n",
       "      <td>2024.0</td>\n",
       "      <td>3.0</td>\n",
       "      <td>2.0</td>\n",
       "      <td>1</td>\n",
       "      <td>0</td>\n",
       "      <td>1.0</td>\n",
       "      <td>0.0</td>\n",
       "      <td>0.0</td>\n",
       "      <td>0.0</td>\n",
       "      <td>...</td>\n",
       "      <td>0.0</td>\n",
       "      <td>0.0</td>\n",
       "      <td>0.0</td>\n",
       "      <td>0.0</td>\n",
       "      <td>0.0</td>\n",
       "      <td>0.0</td>\n",
       "      <td>0.0</td>\n",
       "      <td>0.0</td>\n",
       "      <td>0.0</td>\n",
       "      <td>0.0</td>\n",
       "    </tr>\n",
       "    <tr>\n",
       "      <th>4</th>\n",
       "      <td>3.0</td>\n",
       "      <td>2059.0</td>\n",
       "      <td>3.0</td>\n",
       "      <td>2.0</td>\n",
       "      <td>1</td>\n",
       "      <td>0</td>\n",
       "      <td>1.0</td>\n",
       "      <td>0.0</td>\n",
       "      <td>0.0</td>\n",
       "      <td>0.0</td>\n",
       "      <td>...</td>\n",
       "      <td>0.0</td>\n",
       "      <td>0.0</td>\n",
       "      <td>0.0</td>\n",
       "      <td>0.0</td>\n",
       "      <td>0.0</td>\n",
       "      <td>0.0</td>\n",
       "      <td>0.0</td>\n",
       "      <td>0.0</td>\n",
       "      <td>0.0</td>\n",
       "      <td>0.0</td>\n",
       "    </tr>\n",
       "  </tbody>\n",
       "</table>\n",
       "<p>5 rows × 190 columns</p>\n",
       "</div>"
      ],
      "text/plain": [
       "   size  total_sqft  bath  balcony  ready_to_move  area_type  \\\n",
       "0   4.0      2825.0   4.0      3.0              1          0   \n",
       "1   3.0      1875.0   3.0      1.0              1          0   \n",
       "2   3.0      2065.0   4.0      1.0              1          0   \n",
       "3   3.0      2024.0   3.0      2.0              1          0   \n",
       "4   3.0      2059.0   3.0      2.0              1          0   \n",
       "\n",
       "   location_1st Phase JP Nagar  location_2nd Stage Nagarbhavi  \\\n",
       "0                          1.0                            0.0   \n",
       "1                          1.0                            0.0   \n",
       "2                          1.0                            0.0   \n",
       "3                          1.0                            0.0   \n",
       "4                          1.0                            0.0   \n",
       "\n",
       "   location_5th Phase JP Nagar  location_6th Phase JP Nagar  ...  \\\n",
       "0                          0.0                          0.0  ...   \n",
       "1                          0.0                          0.0  ...   \n",
       "2                          0.0                          0.0  ...   \n",
       "3                          0.0                          0.0  ...   \n",
       "4                          0.0                          0.0  ...   \n",
       "\n",
       "   location_Varthur Road  location_Vidyaranyapura  location_Vijayanagar  \\\n",
       "0                    0.0                      0.0                   0.0   \n",
       "1                    0.0                      0.0                   0.0   \n",
       "2                    0.0                      0.0                   0.0   \n",
       "3                    0.0                      0.0                   0.0   \n",
       "4                    0.0                      0.0                   0.0   \n",
       "\n",
       "   location_Vittasandra  location_Whitefield  location_Yelachenahalli  \\\n",
       "0                   0.0                  0.0                      0.0   \n",
       "1                   0.0                  0.0                      0.0   \n",
       "2                   0.0                  0.0                      0.0   \n",
       "3                   0.0                  0.0                      0.0   \n",
       "4                   0.0                  0.0                      0.0   \n",
       "\n",
       "   location_Yelahanka  location_Yelahanka New Town  location_Yeshwanthpur  \\\n",
       "0                 0.0                          0.0                    0.0   \n",
       "1                 0.0                          0.0                    0.0   \n",
       "2                 0.0                          0.0                    0.0   \n",
       "3                 0.0                          0.0                    0.0   \n",
       "4                 0.0                          0.0                    0.0   \n",
       "\n",
       "   location_other  \n",
       "0             0.0  \n",
       "1             0.0  \n",
       "2             0.0  \n",
       "3             0.0  \n",
       "4             0.0  \n",
       "\n",
       "[5 rows x 190 columns]"
      ]
     },
     "execution_count": 53,
     "metadata": {},
     "output_type": "execute_result"
    }
   ],
   "source": [
    "x.head()"
   ]
  },
  {
   "cell_type": "code",
   "execution_count": 54,
   "id": "dac61da6",
   "metadata": {
    "execution": {
     "iopub.execute_input": "2025-03-07T10:42:28.032570Z",
     "iopub.status.busy": "2025-03-07T10:42:28.032145Z",
     "iopub.status.idle": "2025-03-07T10:42:28.172777Z",
     "shell.execute_reply": "2025-03-07T10:42:28.171636Z"
    },
    "papermill": {
     "duration": 0.165869,
     "end_time": "2025-03-07T10:42:28.174538",
     "exception": false,
     "start_time": "2025-03-07T10:42:28.008669",
     "status": "completed"
    },
    "tags": []
   },
   "outputs": [],
   "source": [
    "#Splitting the data into train and test\n",
    "from sklearn.model_selection import train_test_split\n",
    "x_train,x_test,y_train,y_test = train_test_split(x,y,test_size=0.3,random_state=42)"
   ]
  },
  {
   "cell_type": "code",
   "execution_count": 55,
   "id": "89f8757f",
   "metadata": {
    "execution": {
     "iopub.execute_input": "2025-03-07T10:42:28.223830Z",
     "iopub.status.busy": "2025-03-07T10:42:28.223451Z",
     "iopub.status.idle": "2025-03-07T10:42:28.251626Z",
     "shell.execute_reply": "2025-03-07T10:42:28.250265Z"
    },
    "papermill": {
     "duration": 0.054502,
     "end_time": "2025-03-07T10:42:28.253343",
     "exception": false,
     "start_time": "2025-03-07T10:42:28.198841",
     "status": "completed"
    },
    "tags": []
   },
   "outputs": [
    {
     "data": {
      "text/html": [
       "<div>\n",
       "<style scoped>\n",
       "    .dataframe tbody tr th:only-of-type {\n",
       "        vertical-align: middle;\n",
       "    }\n",
       "\n",
       "    .dataframe tbody tr th {\n",
       "        vertical-align: top;\n",
       "    }\n",
       "\n",
       "    .dataframe thead th {\n",
       "        text-align: right;\n",
       "    }\n",
       "</style>\n",
       "<table border=\"1\" class=\"dataframe\">\n",
       "  <thead>\n",
       "    <tr style=\"text-align: right;\">\n",
       "      <th></th>\n",
       "      <th>size</th>\n",
       "      <th>total_sqft</th>\n",
       "      <th>bath</th>\n",
       "      <th>balcony</th>\n",
       "      <th>ready_to_move</th>\n",
       "      <th>area_type</th>\n",
       "      <th>location_1st Phase JP Nagar</th>\n",
       "      <th>location_2nd Stage Nagarbhavi</th>\n",
       "      <th>location_5th Phase JP Nagar</th>\n",
       "      <th>location_6th Phase JP Nagar</th>\n",
       "      <th>...</th>\n",
       "      <th>location_Varthur Road</th>\n",
       "      <th>location_Vidyaranyapura</th>\n",
       "      <th>location_Vijayanagar</th>\n",
       "      <th>location_Vittasandra</th>\n",
       "      <th>location_Whitefield</th>\n",
       "      <th>location_Yelachenahalli</th>\n",
       "      <th>location_Yelahanka</th>\n",
       "      <th>location_Yelahanka New Town</th>\n",
       "      <th>location_Yeshwanthpur</th>\n",
       "      <th>location_other</th>\n",
       "    </tr>\n",
       "  </thead>\n",
       "  <tbody>\n",
       "    <tr>\n",
       "      <th>7220</th>\n",
       "      <td>2.0</td>\n",
       "      <td>1333.0</td>\n",
       "      <td>2.0</td>\n",
       "      <td>2.0</td>\n",
       "      <td>1</td>\n",
       "      <td>0</td>\n",
       "      <td>0.0</td>\n",
       "      <td>0.0</td>\n",
       "      <td>0.0</td>\n",
       "      <td>0.0</td>\n",
       "      <td>...</td>\n",
       "      <td>0.0</td>\n",
       "      <td>0.0</td>\n",
       "      <td>0.0</td>\n",
       "      <td>0.0</td>\n",
       "      <td>0.0</td>\n",
       "      <td>0.0</td>\n",
       "      <td>0.0</td>\n",
       "      <td>0.0</td>\n",
       "      <td>0.0</td>\n",
       "      <td>1.0</td>\n",
       "    </tr>\n",
       "    <tr>\n",
       "      <th>4013</th>\n",
       "      <td>4.0</td>\n",
       "      <td>3356.0</td>\n",
       "      <td>4.0</td>\n",
       "      <td>2.0</td>\n",
       "      <td>0</td>\n",
       "      <td>0</td>\n",
       "      <td>0.0</td>\n",
       "      <td>0.0</td>\n",
       "      <td>0.0</td>\n",
       "      <td>0.0</td>\n",
       "      <td>...</td>\n",
       "      <td>0.0</td>\n",
       "      <td>0.0</td>\n",
       "      <td>0.0</td>\n",
       "      <td>0.0</td>\n",
       "      <td>0.0</td>\n",
       "      <td>0.0</td>\n",
       "      <td>0.0</td>\n",
       "      <td>0.0</td>\n",
       "      <td>0.0</td>\n",
       "      <td>0.0</td>\n",
       "    </tr>\n",
       "    <tr>\n",
       "      <th>5100</th>\n",
       "      <td>3.0</td>\n",
       "      <td>1702.0</td>\n",
       "      <td>3.0</td>\n",
       "      <td>2.0</td>\n",
       "      <td>1</td>\n",
       "      <td>0</td>\n",
       "      <td>0.0</td>\n",
       "      <td>0.0</td>\n",
       "      <td>0.0</td>\n",
       "      <td>0.0</td>\n",
       "      <td>...</td>\n",
       "      <td>0.0</td>\n",
       "      <td>0.0</td>\n",
       "      <td>0.0</td>\n",
       "      <td>0.0</td>\n",
       "      <td>0.0</td>\n",
       "      <td>0.0</td>\n",
       "      <td>0.0</td>\n",
       "      <td>0.0</td>\n",
       "      <td>0.0</td>\n",
       "      <td>0.0</td>\n",
       "    </tr>\n",
       "    <tr>\n",
       "      <th>2298</th>\n",
       "      <td>2.0</td>\n",
       "      <td>1140.0</td>\n",
       "      <td>2.0</td>\n",
       "      <td>2.0</td>\n",
       "      <td>1</td>\n",
       "      <td>0</td>\n",
       "      <td>0.0</td>\n",
       "      <td>0.0</td>\n",
       "      <td>0.0</td>\n",
       "      <td>0.0</td>\n",
       "      <td>...</td>\n",
       "      <td>0.0</td>\n",
       "      <td>0.0</td>\n",
       "      <td>0.0</td>\n",
       "      <td>0.0</td>\n",
       "      <td>0.0</td>\n",
       "      <td>0.0</td>\n",
       "      <td>0.0</td>\n",
       "      <td>0.0</td>\n",
       "      <td>0.0</td>\n",
       "      <td>0.0</td>\n",
       "    </tr>\n",
       "    <tr>\n",
       "      <th>7134</th>\n",
       "      <td>2.0</td>\n",
       "      <td>1290.0</td>\n",
       "      <td>1.0</td>\n",
       "      <td>0.0</td>\n",
       "      <td>1</td>\n",
       "      <td>2</td>\n",
       "      <td>0.0</td>\n",
       "      <td>0.0</td>\n",
       "      <td>0.0</td>\n",
       "      <td>0.0</td>\n",
       "      <td>...</td>\n",
       "      <td>0.0</td>\n",
       "      <td>0.0</td>\n",
       "      <td>0.0</td>\n",
       "      <td>0.0</td>\n",
       "      <td>0.0</td>\n",
       "      <td>0.0</td>\n",
       "      <td>0.0</td>\n",
       "      <td>0.0</td>\n",
       "      <td>0.0</td>\n",
       "      <td>1.0</td>\n",
       "    </tr>\n",
       "  </tbody>\n",
       "</table>\n",
       "<p>5 rows × 190 columns</p>\n",
       "</div>"
      ],
      "text/plain": [
       "      size  total_sqft  bath  balcony  ready_to_move  area_type  \\\n",
       "7220   2.0      1333.0   2.0      2.0              1          0   \n",
       "4013   4.0      3356.0   4.0      2.0              0          0   \n",
       "5100   3.0      1702.0   3.0      2.0              1          0   \n",
       "2298   2.0      1140.0   2.0      2.0              1          0   \n",
       "7134   2.0      1290.0   1.0      0.0              1          2   \n",
       "\n",
       "      location_1st Phase JP Nagar  location_2nd Stage Nagarbhavi  \\\n",
       "7220                          0.0                            0.0   \n",
       "4013                          0.0                            0.0   \n",
       "5100                          0.0                            0.0   \n",
       "2298                          0.0                            0.0   \n",
       "7134                          0.0                            0.0   \n",
       "\n",
       "      location_5th Phase JP Nagar  location_6th Phase JP Nagar  ...  \\\n",
       "7220                          0.0                          0.0  ...   \n",
       "4013                          0.0                          0.0  ...   \n",
       "5100                          0.0                          0.0  ...   \n",
       "2298                          0.0                          0.0  ...   \n",
       "7134                          0.0                          0.0  ...   \n",
       "\n",
       "      location_Varthur Road  location_Vidyaranyapura  location_Vijayanagar  \\\n",
       "7220                    0.0                      0.0                   0.0   \n",
       "4013                    0.0                      0.0                   0.0   \n",
       "5100                    0.0                      0.0                   0.0   \n",
       "2298                    0.0                      0.0                   0.0   \n",
       "7134                    0.0                      0.0                   0.0   \n",
       "\n",
       "      location_Vittasandra  location_Whitefield  location_Yelachenahalli  \\\n",
       "7220                   0.0                  0.0                      0.0   \n",
       "4013                   0.0                  0.0                      0.0   \n",
       "5100                   0.0                  0.0                      0.0   \n",
       "2298                   0.0                  0.0                      0.0   \n",
       "7134                   0.0                  0.0                      0.0   \n",
       "\n",
       "      location_Yelahanka  location_Yelahanka New Town  location_Yeshwanthpur  \\\n",
       "7220                 0.0                          0.0                    0.0   \n",
       "4013                 0.0                          0.0                    0.0   \n",
       "5100                 0.0                          0.0                    0.0   \n",
       "2298                 0.0                          0.0                    0.0   \n",
       "7134                 0.0                          0.0                    0.0   \n",
       "\n",
       "      location_other  \n",
       "7220             1.0  \n",
       "4013             0.0  \n",
       "5100             0.0  \n",
       "2298             0.0  \n",
       "7134             1.0  \n",
       "\n",
       "[5 rows x 190 columns]"
      ]
     },
     "execution_count": 55,
     "metadata": {},
     "output_type": "execute_result"
    }
   ],
   "source": [
    "x_train.head()"
   ]
  },
  {
   "cell_type": "markdown",
   "id": "9c597647",
   "metadata": {
    "papermill": {
     "duration": 0.023486,
     "end_time": "2025-03-07T10:42:28.302208",
     "exception": false,
     "start_time": "2025-03-07T10:42:28.278722",
     "status": "completed"
    },
    "tags": []
   },
   "source": []
  },
  {
   "cell_type": "code",
   "execution_count": 56,
   "id": "952c4962",
   "metadata": {
    "execution": {
     "iopub.execute_input": "2025-03-07T10:42:28.351152Z",
     "iopub.status.busy": "2025-03-07T10:42:28.350810Z",
     "iopub.status.idle": "2025-03-07T10:42:28.360246Z",
     "shell.execute_reply": "2025-03-07T10:42:28.359247Z"
    },
    "papermill": {
     "duration": 0.035859,
     "end_time": "2025-03-07T10:42:28.362506",
     "exception": false,
     "start_time": "2025-03-07T10:42:28.326647",
     "status": "completed"
    },
    "tags": []
   },
   "outputs": [],
   "source": [
    "from sklearn.preprocessing import MinMaxScaler\n",
    "mms = MinMaxScaler()\n",
    "columns_to_scale = ['size','total_sqft','bath','balcony','area_type']\n",
    "x_scaled_array = mms.fit_transform(x_train[columns_to_scale])"
   ]
  },
  {
   "cell_type": "code",
   "execution_count": 57,
   "id": "e28893e7",
   "metadata": {
    "execution": {
     "iopub.execute_input": "2025-03-07T10:42:28.411704Z",
     "iopub.status.busy": "2025-03-07T10:42:28.411295Z",
     "iopub.status.idle": "2025-03-07T10:42:28.418195Z",
     "shell.execute_reply": "2025-03-07T10:42:28.417266Z"
    },
    "papermill": {
     "duration": 0.033751,
     "end_time": "2025-03-07T10:42:28.420023",
     "exception": false,
     "start_time": "2025-03-07T10:42:28.386272",
     "status": "completed"
    },
    "tags": []
   },
   "outputs": [],
   "source": [
    "x_test_array = mms.transform(x_test[columns_to_scale])"
   ]
  },
  {
   "cell_type": "code",
   "execution_count": 58,
   "id": "33e258d3",
   "metadata": {
    "execution": {
     "iopub.execute_input": "2025-03-07T10:42:28.467591Z",
     "iopub.status.busy": "2025-03-07T10:42:28.467156Z",
     "iopub.status.idle": "2025-03-07T10:42:28.495152Z",
     "shell.execute_reply": "2025-03-07T10:42:28.494189Z"
    },
    "papermill": {
     "duration": 0.053751,
     "end_time": "2025-03-07T10:42:28.496710",
     "exception": false,
     "start_time": "2025-03-07T10:42:28.442959",
     "status": "completed"
    },
    "tags": []
   },
   "outputs": [
    {
     "data": {
      "text/html": [
       "<div>\n",
       "<style scoped>\n",
       "    .dataframe tbody tr th:only-of-type {\n",
       "        vertical-align: middle;\n",
       "    }\n",
       "\n",
       "    .dataframe tbody tr th {\n",
       "        vertical-align: top;\n",
       "    }\n",
       "\n",
       "    .dataframe thead th {\n",
       "        text-align: right;\n",
       "    }\n",
       "</style>\n",
       "<table border=\"1\" class=\"dataframe\">\n",
       "  <thead>\n",
       "    <tr style=\"text-align: right;\">\n",
       "      <th></th>\n",
       "      <th>size</th>\n",
       "      <th>total_sqft</th>\n",
       "      <th>bath</th>\n",
       "      <th>balcony</th>\n",
       "      <th>ready_to_move</th>\n",
       "      <th>area_type</th>\n",
       "      <th>location_1st Phase JP Nagar</th>\n",
       "      <th>location_2nd Stage Nagarbhavi</th>\n",
       "      <th>location_5th Phase JP Nagar</th>\n",
       "      <th>location_6th Phase JP Nagar</th>\n",
       "      <th>...</th>\n",
       "      <th>location_Varthur Road</th>\n",
       "      <th>location_Vidyaranyapura</th>\n",
       "      <th>location_Vijayanagar</th>\n",
       "      <th>location_Vittasandra</th>\n",
       "      <th>location_Whitefield</th>\n",
       "      <th>location_Yelachenahalli</th>\n",
       "      <th>location_Yelahanka</th>\n",
       "      <th>location_Yelahanka New Town</th>\n",
       "      <th>location_Yeshwanthpur</th>\n",
       "      <th>location_other</th>\n",
       "    </tr>\n",
       "  </thead>\n",
       "  <tbody>\n",
       "    <tr>\n",
       "      <th>7220</th>\n",
       "      <td>0.066667</td>\n",
       "      <td>0.034319</td>\n",
       "      <td>0.066667</td>\n",
       "      <td>0.666667</td>\n",
       "      <td>1</td>\n",
       "      <td>0.000000</td>\n",
       "      <td>0.0</td>\n",
       "      <td>0.0</td>\n",
       "      <td>0.0</td>\n",
       "      <td>0.0</td>\n",
       "      <td>...</td>\n",
       "      <td>0.0</td>\n",
       "      <td>0.0</td>\n",
       "      <td>0.0</td>\n",
       "      <td>0.0</td>\n",
       "      <td>0.0</td>\n",
       "      <td>0.0</td>\n",
       "      <td>0.0</td>\n",
       "      <td>0.0</td>\n",
       "      <td>0.0</td>\n",
       "      <td>1.0</td>\n",
       "    </tr>\n",
       "    <tr>\n",
       "      <th>4013</th>\n",
       "      <td>0.200000</td>\n",
       "      <td>0.101528</td>\n",
       "      <td>0.200000</td>\n",
       "      <td>0.666667</td>\n",
       "      <td>0</td>\n",
       "      <td>0.000000</td>\n",
       "      <td>0.0</td>\n",
       "      <td>0.0</td>\n",
       "      <td>0.0</td>\n",
       "      <td>0.0</td>\n",
       "      <td>...</td>\n",
       "      <td>0.0</td>\n",
       "      <td>0.0</td>\n",
       "      <td>0.0</td>\n",
       "      <td>0.0</td>\n",
       "      <td>0.0</td>\n",
       "      <td>0.0</td>\n",
       "      <td>0.0</td>\n",
       "      <td>0.0</td>\n",
       "      <td>0.0</td>\n",
       "      <td>0.0</td>\n",
       "    </tr>\n",
       "    <tr>\n",
       "      <th>5100</th>\n",
       "      <td>0.133333</td>\n",
       "      <td>0.046578</td>\n",
       "      <td>0.133333</td>\n",
       "      <td>0.666667</td>\n",
       "      <td>1</td>\n",
       "      <td>0.000000</td>\n",
       "      <td>0.0</td>\n",
       "      <td>0.0</td>\n",
       "      <td>0.0</td>\n",
       "      <td>0.0</td>\n",
       "      <td>...</td>\n",
       "      <td>0.0</td>\n",
       "      <td>0.0</td>\n",
       "      <td>0.0</td>\n",
       "      <td>0.0</td>\n",
       "      <td>0.0</td>\n",
       "      <td>0.0</td>\n",
       "      <td>0.0</td>\n",
       "      <td>0.0</td>\n",
       "      <td>0.0</td>\n",
       "      <td>0.0</td>\n",
       "    </tr>\n",
       "    <tr>\n",
       "      <th>2298</th>\n",
       "      <td>0.066667</td>\n",
       "      <td>0.027907</td>\n",
       "      <td>0.066667</td>\n",
       "      <td>0.666667</td>\n",
       "      <td>1</td>\n",
       "      <td>0.000000</td>\n",
       "      <td>0.0</td>\n",
       "      <td>0.0</td>\n",
       "      <td>0.0</td>\n",
       "      <td>0.0</td>\n",
       "      <td>...</td>\n",
       "      <td>0.0</td>\n",
       "      <td>0.0</td>\n",
       "      <td>0.0</td>\n",
       "      <td>0.0</td>\n",
       "      <td>0.0</td>\n",
       "      <td>0.0</td>\n",
       "      <td>0.0</td>\n",
       "      <td>0.0</td>\n",
       "      <td>0.0</td>\n",
       "      <td>0.0</td>\n",
       "    </tr>\n",
       "    <tr>\n",
       "      <th>7134</th>\n",
       "      <td>0.066667</td>\n",
       "      <td>0.032890</td>\n",
       "      <td>0.000000</td>\n",
       "      <td>0.000000</td>\n",
       "      <td>1</td>\n",
       "      <td>0.666667</td>\n",
       "      <td>0.0</td>\n",
       "      <td>0.0</td>\n",
       "      <td>0.0</td>\n",
       "      <td>0.0</td>\n",
       "      <td>...</td>\n",
       "      <td>0.0</td>\n",
       "      <td>0.0</td>\n",
       "      <td>0.0</td>\n",
       "      <td>0.0</td>\n",
       "      <td>0.0</td>\n",
       "      <td>0.0</td>\n",
       "      <td>0.0</td>\n",
       "      <td>0.0</td>\n",
       "      <td>0.0</td>\n",
       "      <td>1.0</td>\n",
       "    </tr>\n",
       "  </tbody>\n",
       "</table>\n",
       "<p>5 rows × 190 columns</p>\n",
       "</div>"
      ],
      "text/plain": [
       "          size  total_sqft      bath   balcony  ready_to_move  area_type  \\\n",
       "7220  0.066667    0.034319  0.066667  0.666667              1   0.000000   \n",
       "4013  0.200000    0.101528  0.200000  0.666667              0   0.000000   \n",
       "5100  0.133333    0.046578  0.133333  0.666667              1   0.000000   \n",
       "2298  0.066667    0.027907  0.066667  0.666667              1   0.000000   \n",
       "7134  0.066667    0.032890  0.000000  0.000000              1   0.666667   \n",
       "\n",
       "      location_1st Phase JP Nagar  location_2nd Stage Nagarbhavi  \\\n",
       "7220                          0.0                            0.0   \n",
       "4013                          0.0                            0.0   \n",
       "5100                          0.0                            0.0   \n",
       "2298                          0.0                            0.0   \n",
       "7134                          0.0                            0.0   \n",
       "\n",
       "      location_5th Phase JP Nagar  location_6th Phase JP Nagar  ...  \\\n",
       "7220                          0.0                          0.0  ...   \n",
       "4013                          0.0                          0.0  ...   \n",
       "5100                          0.0                          0.0  ...   \n",
       "2298                          0.0                          0.0  ...   \n",
       "7134                          0.0                          0.0  ...   \n",
       "\n",
       "      location_Varthur Road  location_Vidyaranyapura  location_Vijayanagar  \\\n",
       "7220                    0.0                      0.0                   0.0   \n",
       "4013                    0.0                      0.0                   0.0   \n",
       "5100                    0.0                      0.0                   0.0   \n",
       "2298                    0.0                      0.0                   0.0   \n",
       "7134                    0.0                      0.0                   0.0   \n",
       "\n",
       "      location_Vittasandra  location_Whitefield  location_Yelachenahalli  \\\n",
       "7220                   0.0                  0.0                      0.0   \n",
       "4013                   0.0                  0.0                      0.0   \n",
       "5100                   0.0                  0.0                      0.0   \n",
       "2298                   0.0                  0.0                      0.0   \n",
       "7134                   0.0                  0.0                      0.0   \n",
       "\n",
       "      location_Yelahanka  location_Yelahanka New Town  location_Yeshwanthpur  \\\n",
       "7220                 0.0                          0.0                    0.0   \n",
       "4013                 0.0                          0.0                    0.0   \n",
       "5100                 0.0                          0.0                    0.0   \n",
       "2298                 0.0                          0.0                    0.0   \n",
       "7134                 0.0                          0.0                    0.0   \n",
       "\n",
       "      location_other  \n",
       "7220             1.0  \n",
       "4013             0.0  \n",
       "5100             0.0  \n",
       "2298             0.0  \n",
       "7134             1.0  \n",
       "\n",
       "[5 rows x 190 columns]"
      ]
     },
     "execution_count": 58,
     "metadata": {},
     "output_type": "execute_result"
    }
   ],
   "source": [
    "x_train[columns_to_scale] = pd.DataFrame(x_scaled_array, index=x_train.index)\n",
    "x_train.head()"
   ]
  },
  {
   "cell_type": "code",
   "execution_count": 59,
   "id": "22f4172f",
   "metadata": {
    "execution": {
     "iopub.execute_input": "2025-03-07T10:42:28.545631Z",
     "iopub.status.busy": "2025-03-07T10:42:28.545246Z",
     "iopub.status.idle": "2025-03-07T10:42:28.551549Z",
     "shell.execute_reply": "2025-03-07T10:42:28.550628Z"
    },
    "papermill": {
     "duration": 0.033321,
     "end_time": "2025-03-07T10:42:28.553523",
     "exception": false,
     "start_time": "2025-03-07T10:42:28.520202",
     "status": "completed"
    },
    "tags": []
   },
   "outputs": [],
   "source": [
    "x_test[columns_to_scale] = pd.DataFrame(x_test_array, index=x_test.index)"
   ]
  },
  {
   "cell_type": "markdown",
   "id": "84f4cf11",
   "metadata": {
    "papermill": {
     "duration": 0.024777,
     "end_time": "2025-03-07T10:42:28.602814",
     "exception": false,
     "start_time": "2025-03-07T10:42:28.578037",
     "status": "completed"
    },
    "tags": []
   },
   "source": [
    "## RFE(Feature Selection Technique)"
   ]
  },
  {
   "cell_type": "code",
   "execution_count": 60,
   "id": "eeab2918",
   "metadata": {
    "execution": {
     "iopub.execute_input": "2025-03-07T10:42:28.652590Z",
     "iopub.status.busy": "2025-03-07T10:42:28.652211Z",
     "iopub.status.idle": "2025-03-07T10:42:38.458890Z",
     "shell.execute_reply": "2025-03-07T10:42:38.455974Z"
    },
    "papermill": {
     "duration": 9.833994,
     "end_time": "2025-03-07T10:42:38.461209",
     "exception": false,
     "start_time": "2025-03-07T10:42:28.627215",
     "status": "completed"
    },
    "tags": []
   },
   "outputs": [
    {
     "data": {
      "text/html": [
       "<style>#sk-container-id-1 {color: black;background-color: white;}#sk-container-id-1 pre{padding: 0;}#sk-container-id-1 div.sk-toggleable {background-color: white;}#sk-container-id-1 label.sk-toggleable__label {cursor: pointer;display: block;width: 100%;margin-bottom: 0;padding: 0.3em;box-sizing: border-box;text-align: center;}#sk-container-id-1 label.sk-toggleable__label-arrow:before {content: \"▸\";float: left;margin-right: 0.25em;color: #696969;}#sk-container-id-1 label.sk-toggleable__label-arrow:hover:before {color: black;}#sk-container-id-1 div.sk-estimator:hover label.sk-toggleable__label-arrow:before {color: black;}#sk-container-id-1 div.sk-toggleable__content {max-height: 0;max-width: 0;overflow: hidden;text-align: left;background-color: #f0f8ff;}#sk-container-id-1 div.sk-toggleable__content pre {margin: 0.2em;color: black;border-radius: 0.25em;background-color: #f0f8ff;}#sk-container-id-1 input.sk-toggleable__control:checked~div.sk-toggleable__content {max-height: 200px;max-width: 100%;overflow: auto;}#sk-container-id-1 input.sk-toggleable__control:checked~label.sk-toggleable__label-arrow:before {content: \"▾\";}#sk-container-id-1 div.sk-estimator input.sk-toggleable__control:checked~label.sk-toggleable__label {background-color: #d4ebff;}#sk-container-id-1 div.sk-label input.sk-toggleable__control:checked~label.sk-toggleable__label {background-color: #d4ebff;}#sk-container-id-1 input.sk-hidden--visually {border: 0;clip: rect(1px 1px 1px 1px);clip: rect(1px, 1px, 1px, 1px);height: 1px;margin: -1px;overflow: hidden;padding: 0;position: absolute;width: 1px;}#sk-container-id-1 div.sk-estimator {font-family: monospace;background-color: #f0f8ff;border: 1px dotted black;border-radius: 0.25em;box-sizing: border-box;margin-bottom: 0.5em;}#sk-container-id-1 div.sk-estimator:hover {background-color: #d4ebff;}#sk-container-id-1 div.sk-parallel-item::after {content: \"\";width: 100%;border-bottom: 1px solid gray;flex-grow: 1;}#sk-container-id-1 div.sk-label:hover label.sk-toggleable__label {background-color: #d4ebff;}#sk-container-id-1 div.sk-serial::before {content: \"\";position: absolute;border-left: 1px solid gray;box-sizing: border-box;top: 0;bottom: 0;left: 50%;z-index: 0;}#sk-container-id-1 div.sk-serial {display: flex;flex-direction: column;align-items: center;background-color: white;padding-right: 0.2em;padding-left: 0.2em;position: relative;}#sk-container-id-1 div.sk-item {position: relative;z-index: 1;}#sk-container-id-1 div.sk-parallel {display: flex;align-items: stretch;justify-content: center;background-color: white;position: relative;}#sk-container-id-1 div.sk-item::before, #sk-container-id-1 div.sk-parallel-item::before {content: \"\";position: absolute;border-left: 1px solid gray;box-sizing: border-box;top: 0;bottom: 0;left: 50%;z-index: -1;}#sk-container-id-1 div.sk-parallel-item {display: flex;flex-direction: column;z-index: 1;position: relative;background-color: white;}#sk-container-id-1 div.sk-parallel-item:first-child::after {align-self: flex-end;width: 50%;}#sk-container-id-1 div.sk-parallel-item:last-child::after {align-self: flex-start;width: 50%;}#sk-container-id-1 div.sk-parallel-item:only-child::after {width: 0;}#sk-container-id-1 div.sk-dashed-wrapped {border: 1px dashed gray;margin: 0 0.4em 0.5em 0.4em;box-sizing: border-box;padding-bottom: 0.4em;background-color: white;}#sk-container-id-1 div.sk-label label {font-family: monospace;font-weight: bold;display: inline-block;line-height: 1.2em;}#sk-container-id-1 div.sk-label-container {text-align: center;}#sk-container-id-1 div.sk-container {/* jupyter's `normalize.less` sets `[hidden] { display: none; }` but bootstrap.min.css set `[hidden] { display: none !important; }` so we also need the `!important` here to be able to override the default hidden behavior on the sphinx rendered scikit-learn.org. See: https://github.com/scikit-learn/scikit-learn/issues/21755 */display: inline-block !important;position: relative;}#sk-container-id-1 div.sk-text-repr-fallback {display: none;}</style><div id=\"sk-container-id-1\" class=\"sk-top-container\"><div class=\"sk-text-repr-fallback\"><pre>RFE(estimator=LinearRegression(), n_features_to_select=95)</pre><b>In a Jupyter environment, please rerun this cell to show the HTML representation or trust the notebook. <br />On GitHub, the HTML representation is unable to render, please try loading this page with nbviewer.org.</b></div><div class=\"sk-container\" hidden><div class=\"sk-item sk-dashed-wrapped\"><div class=\"sk-label-container\"><div class=\"sk-label sk-toggleable\"><input class=\"sk-toggleable__control sk-hidden--visually\" id=\"sk-estimator-id-1\" type=\"checkbox\" ><label for=\"sk-estimator-id-1\" class=\"sk-toggleable__label sk-toggleable__label-arrow\">RFE</label><div class=\"sk-toggleable__content\"><pre>RFE(estimator=LinearRegression(), n_features_to_select=95)</pre></div></div></div><div class=\"sk-parallel\"><div class=\"sk-parallel-item\"><div class=\"sk-item\"><div class=\"sk-label-container\"><div class=\"sk-label sk-toggleable\"><input class=\"sk-toggleable__control sk-hidden--visually\" id=\"sk-estimator-id-2\" type=\"checkbox\" ><label for=\"sk-estimator-id-2\" class=\"sk-toggleable__label sk-toggleable__label-arrow\">estimator: LinearRegression</label><div class=\"sk-toggleable__content\"><pre>LinearRegression()</pre></div></div></div><div class=\"sk-serial\"><div class=\"sk-item\"><div class=\"sk-estimator sk-toggleable\"><input class=\"sk-toggleable__control sk-hidden--visually\" id=\"sk-estimator-id-3\" type=\"checkbox\" ><label for=\"sk-estimator-id-3\" class=\"sk-toggleable__label sk-toggleable__label-arrow\">LinearRegression</label><div class=\"sk-toggleable__content\"><pre>LinearRegression()</pre></div></div></div></div></div></div></div></div></div></div>"
      ],
      "text/plain": [
       "RFE(estimator=LinearRegression(), n_features_to_select=95)"
      ]
     },
     "execution_count": 60,
     "metadata": {},
     "output_type": "execute_result"
    }
   ],
   "source": [
    "from sklearn.linear_model import LinearRegression\n",
    "lr = LinearRegression()\n",
    "lr.fit(x_train,y_train)\n",
    "\n",
    "from sklearn.feature_selection import RFE\n",
    "rfe = RFE(lr,n_features_to_select=95)\n",
    "rfe.fit(x_train,y_train)\n",
    "\n"
   ]
  },
  {
   "cell_type": "markdown",
   "id": "49bea09a",
   "metadata": {
    "papermill": {
     "duration": 0.042472,
     "end_time": "2025-03-07T10:42:38.546508",
     "exception": false,
     "start_time": "2025-03-07T10:42:38.504036",
     "status": "completed"
    },
    "tags": []
   },
   "source": [
    "## Linear Regression and VIF"
   ]
  },
  {
   "cell_type": "code",
   "execution_count": 61,
   "id": "e93a4ac0",
   "metadata": {
    "execution": {
     "iopub.execute_input": "2025-03-07T10:42:38.602886Z",
     "iopub.status.busy": "2025-03-07T10:42:38.602413Z",
     "iopub.status.idle": "2025-03-07T10:42:39.578180Z",
     "shell.execute_reply": "2025-03-07T10:42:39.577128Z"
    },
    "papermill": {
     "duration": 1.001895,
     "end_time": "2025-03-07T10:42:39.580201",
     "exception": false,
     "start_time": "2025-03-07T10:42:38.578306",
     "status": "completed"
    },
    "tags": []
   },
   "outputs": [],
   "source": [
    "from sklearn.metrics import r2_score\n",
    "import statsmodels.api as sm\n",
    "from statsmodels.stats.outliers_influence import variance_inflation_factor   "
   ]
  },
  {
   "cell_type": "code",
   "execution_count": 62,
   "id": "00ae6b8f",
   "metadata": {
    "execution": {
     "iopub.execute_input": "2025-03-07T10:42:39.631057Z",
     "iopub.status.busy": "2025-03-07T10:42:39.630339Z",
     "iopub.status.idle": "2025-03-07T10:42:39.637867Z",
     "shell.execute_reply": "2025-03-07T10:42:39.636804Z"
    },
    "papermill": {
     "duration": 0.035211,
     "end_time": "2025-03-07T10:42:39.639475",
     "exception": false,
     "start_time": "2025-03-07T10:42:39.604264",
     "status": "completed"
    },
    "tags": []
   },
   "outputs": [],
   "source": [
    "# Function for building statsmodel\n",
    "def model(feats):\n",
    "    x_train_stat = sm.add_constant(x_train[feats])\n",
    "    x_test_stat = sm.add_constant(x_test[feats])\n",
    "    lin_reg = sm.OLS(y_train, x_train_stat).fit()\n",
    "    print(lin_reg.summary())\n",
    "    print('\\n')\n",
    "    y_pred_lr = lin_reg.predict(x_test_stat)\n",
    "    print(f'R squared of test data = {r2_score(y_test,y_pred_lr)}') \n",
    "    print('\\n')\n",
    "    insignificant_vars = lin_reg.pvalues[lin_reg.pvalues > 0.05].index.tolist()\n",
    "    return lin_reg, insignificant_vars\n",
    "\n",
    "# Function to compute VIFs\n",
    "def vif_mod(feats):\n",
    "    data1 = x_train[feats]\n",
    "    vif = pd.DataFrame()\n",
    "    vif['Columns'] = data1.columns\n",
    "    vif['VIF'] = [variance_inflation_factor(data1.values, i) for i in range(data1.shape[1])]\n",
    "    vif['VIF'] = round(vif['VIF'],2)\n",
    "    print(vif.sort_values(by='VIF',ascending=False))"
   ]
  },
  {
   "cell_type": "code",
   "execution_count": 63,
   "id": "4bd0c1a6",
   "metadata": {
    "execution": {
     "iopub.execute_input": "2025-03-07T10:42:39.688474Z",
     "iopub.status.busy": "2025-03-07T10:42:39.688066Z",
     "iopub.status.idle": "2025-03-07T10:42:39.694712Z",
     "shell.execute_reply": "2025-03-07T10:42:39.693887Z"
    },
    "papermill": {
     "duration": 0.033059,
     "end_time": "2025-03-07T10:42:39.696413",
     "exception": false,
     "start_time": "2025-03-07T10:42:39.663354",
     "status": "completed"
    },
    "tags": []
   },
   "outputs": [],
   "source": [
    "# variable based on RFE\n",
    "sup_cols = x_train.columns[rfe.support_]\n",
    "\n",
    "# x_train data frame with selected cols\n",
    "x_train_rfe =  x_train[sup_cols]\n",
    "x_test_rfe = x_test[sup_cols]\n"
   ]
  },
  {
   "cell_type": "code",
   "execution_count": 64,
   "id": "96d0ab32",
   "metadata": {
    "execution": {
     "iopub.execute_input": "2025-03-07T10:42:39.745797Z",
     "iopub.status.busy": "2025-03-07T10:42:39.745442Z",
     "iopub.status.idle": "2025-03-07T10:42:48.777951Z",
     "shell.execute_reply": "2025-03-07T10:42:48.776514Z"
    },
    "papermill": {
     "duration": 9.061062,
     "end_time": "2025-03-07T10:42:48.781684",
     "exception": false,
     "start_time": "2025-03-07T10:42:39.720622",
     "status": "completed"
    },
    "tags": []
   },
   "outputs": [
    {
     "name": "stdout",
     "output_type": "stream",
     "text": [
      "                            OLS Regression Results                            \n",
      "==============================================================================\n",
      "Dep. Variable:                  price   R-squared:                       0.875\n",
      "Model:                            OLS   Adj. R-squared:                  0.873\n",
      "Method:                 Least Squares   F-statistic:                     421.0\n",
      "Date:                Fri, 07 Mar 2025   Prob (F-statistic):               0.00\n",
      "Time:                        10:42:39   Log-Likelihood:                -27472.\n",
      "No. Observations:                5786   AIC:                         5.514e+04\n",
      "Df Residuals:                    5690   BIC:                         5.578e+04\n",
      "Df Model:                          95                                         \n",
      "Covariance Type:            nonrobust                                         \n",
      "========================================================================================================\n",
      "                                           coef    std err          t      P>|t|      [0.025      0.975]\n",
      "--------------------------------------------------------------------------------------------------------\n",
      "const                                    5.6360      0.789      7.142      0.000       4.089       7.183\n",
      "size                                   -49.1924     12.308     -3.997      0.000     -73.320     -25.064\n",
      "total_sqft                            2010.1194     15.230    131.987      0.000    1980.263    2039.975\n",
      "bath                                    71.7546     11.604      6.183      0.000      49.006      94.504\n",
      "location_1st Phase JP Nagar             43.4444      8.138      5.338      0.000      27.490      59.399\n",
      "location_2nd Stage Nagarbhavi          124.7225     19.924      6.260      0.000      85.663     163.782\n",
      "location_6th Phase JP Nagar             20.5790      9.393      2.191      0.029       2.165      38.993\n",
      "location_8th Phase JP Nagar            -14.9844      5.763     -2.600      0.009     -26.281      -3.688\n",
      "location_9th Phase JP Nagar            -14.0816      6.841     -2.058      0.040     -27.492      -0.671\n",
      "location_Abbigere                      -20.1769      8.913     -2.264      0.024     -37.651      -2.703\n",
      "location_Akshaya Nagar                 -13.3532      5.763     -2.317      0.021     -24.650      -2.056\n",
      "location_Ambedkar Nagar                 15.1359      7.832      1.933      0.053      -0.217      30.489\n",
      "location_Anandapura                    -19.1215     11.500     -1.663      0.096     -41.666       3.423\n",
      "location_Ananth Nagar                  -22.1387      8.142     -2.719      0.007     -38.099      -6.178\n",
      "location_Anekal                        -17.2777      7.286     -2.371      0.018     -31.562      -2.994\n",
      "location_Attibele                      -15.0881      6.847     -2.204      0.028     -28.510      -1.666\n",
      "location_BTM 2nd Stage                  29.1228      9.963      2.923      0.003       9.591      48.654\n",
      "location_Babusapalaya                  -23.8687      8.913     -2.678      0.007     -41.342      -6.396\n",
      "location_Banashankari Stage II         109.4797     10.670     10.261      0.000      88.563     130.397\n",
      "location_Banashankari Stage VI         -32.3421     14.084     -2.296      0.022     -59.951      -4.733\n",
      "location_Bannerghatta                   19.3785      9.967      1.944      0.052      -0.162      38.919\n",
      "location_Basavangudi                    57.1888      7.537      7.587      0.000      42.413      71.965\n",
      "location_Basaveshwara Nagar             73.9374      9.971      7.415      0.000      54.391      93.484\n",
      "location_Battarahalli                  -17.0476     10.648     -1.601      0.109     -37.921       3.826\n",
      "location_Begur                         -17.2068     12.599     -1.366      0.172     -41.906       7.492\n",
      "location_Begur Road                    -25.1537      4.713     -5.337      0.000     -34.394     -15.914\n",
      "location_Benson Town                   174.3577      9.415     18.520      0.000     155.901     192.814\n",
      "location_Binny Pete                     40.3965      8.501      4.752      0.000      23.732      57.061\n",
      "location_Bisuvanahalli                 -13.3328      6.171     -2.161      0.031     -25.430      -1.235\n",
      "location_Bommanahalli                  -17.9429      6.842     -2.623      0.009     -31.355      -4.531\n",
      "location_Bommasandra                   -16.7643      6.475     -2.589      0.010     -29.458      -4.071\n",
      "location_Bommasandra Industrial Area   -28.6431      8.139     -3.519      0.000     -44.598     -12.688\n",
      "location_Chamrajpet                     48.8880     11.501      4.251      0.000      26.341      71.435\n",
      "location_Chandapura                    -23.1839      4.663     -4.972      0.000     -32.325     -14.043\n",
      "location_Channasandra                  -23.7839      7.536     -3.156      0.002     -38.557      -9.011\n",
      "location_Chikka Tirupathi              -57.6939     10.663     -5.411      0.000     -78.597     -36.790\n",
      "location_Chikkalasandra                -15.4555      8.503     -1.818      0.069     -32.124       1.213\n",
      "location_Cooke Town                    113.5541      9.970     11.389      0.000      94.009     133.099\n",
      "location_Doddathoguru                  -16.5656      8.140     -2.035      0.042     -32.523      -0.608\n",
      "location_Domlur                         42.4987      8.912      4.769      0.000      25.028      59.970\n",
      "location_Electronic City Phase II      -26.2202      3.726     -7.037      0.000     -33.525     -18.915\n",
      "location_Frazer Town                    88.5714      6.856     12.919      0.000      75.131     102.012\n",
      "location_Gottigere                     -20.3912      5.764     -3.538      0.000     -31.691      -9.091\n",
      "location_Gubbalala                     -22.3463      8.503     -2.628      0.009     -39.015      -5.678\n",
      "location_Gunjur                        -23.3714      8.138     -2.872      0.004     -39.324      -7.419\n",
      "location_HBR Layout                     16.9121     11.500      1.471      0.141      -5.632      39.456\n",
      "location_HRBR Layout                    26.6174      9.395      2.833      0.005       8.200      45.035\n",
      "location_Hebbal                         24.4852      3.075      7.964      0.000      18.458      30.512\n",
      "location_Hebbal Kempapura               50.2734      8.145      6.172      0.000      34.305      66.241\n",
      "location_Hegde Nagar                    13.8323      5.546      2.494      0.013       2.960      24.705\n",
      "location_Hennur                        -15.9417      6.018     -2.649      0.008     -27.740      -4.144\n",
      "location_Horamavu Agara                -14.3247      5.888     -2.433      0.015     -25.867      -2.782\n",
      "location_Horamavu Banaswadi            -19.0219      8.140     -2.337      0.019     -34.979      -3.065\n",
      "location_Hormavu                       -12.5403      4.589     -2.733      0.006     -21.536      -3.544\n",
      "location_Hosakerehalli                  55.9202      7.059      7.922      0.000      42.082      69.758\n",
      "location_Hoskote                       -23.0125      8.499     -2.708      0.007     -39.674      -6.351\n",
      "location_Iblur Village                  31.1903      9.425      3.309      0.001      12.713      49.668\n",
      "location_Indira Nagar                  128.6764      6.313     20.383      0.000     116.301     141.052\n",
      "location_Judicial Layout                67.1506     10.652      6.304      0.000      46.268      88.033\n",
      "location_KR Puram                      -16.2976      4.649     -3.506      0.000     -25.411      -7.185\n",
      "location_Kadugodi                      -12.5581      6.842     -1.835      0.067     -25.972       0.855\n",
      "location_Kaggadasapura                 -19.7187      5.246     -3.759      0.000     -30.003      -9.435\n",
      "location_Kammanahalli                   26.8839     14.082      1.909      0.056      -0.722      54.490\n",
      "location_Kammasandra                   -20.4067      8.140     -2.507      0.012     -36.364      -4.449\n",
      "location_Kengeri                       -13.2203      5.250     -2.518      0.012     -23.512      -2.929\n",
      "location_Kengeri Satellite Town        -13.3350      6.654     -2.004      0.045     -26.379      -0.291\n",
      "location_Kereguddadahalli              -18.5001     12.598     -1.468      0.142     -43.197       6.197\n",
      "location_Kodichikkanahalli             -17.8959      7.536     -2.375      0.018     -32.670      -3.122\n",
      "location_Kodihalli                     177.7106     12.619     14.083      0.000     152.973     202.448\n",
      "location_Koramangala                    74.9937      4.996     15.010      0.000      65.199      84.788\n",
      "location_Kothannur                     -22.9170      8.913     -2.571      0.010     -40.390      -5.444\n",
      "location_Kundalahalli                   21.9112      5.538      3.957      0.000      11.055      32.768\n",
      "location_Lakshminarayana Pura           14.8091      6.651      2.227      0.026       1.771      27.847\n",
      "location_Malleshpalya                  -13.8341      9.962     -1.389      0.165     -33.363       5.695\n",
      "location_Malleshwaram                  121.3694      5.438     22.319      0.000     110.709     132.030\n",
      "location_Nagarbhavi                     19.0257      5.438      3.499      0.000       8.366      29.686\n",
      "location_Nagavara                      -13.9286      9.961     -1.398      0.162     -33.456       5.599\n",
      "location_Nagavarapalya                  16.3415     11.503      1.421      0.155      -6.209      38.893\n",
      "location_OMBR Layout                    19.7416     10.648      1.854      0.064      -1.132      40.616\n",
      "location_Old Airport Road               28.1330      8.153      3.451      0.001      12.151      44.115\n",
      "location_Padmanabhanagar                23.2578      7.541      3.084      0.002       8.475      38.040\n",
      "location_Pai Layout                    -20.1015      9.964     -2.017      0.044     -39.634      -0.569\n",
      "location_R.T. Nagar                     26.0166      6.846      3.801      0.000      12.597      39.436\n",
      "location_Raja Rajeshwari Nagar         -23.2529      3.198     -7.272      0.000     -29.522     -16.984\n",
      "location_Rajaji Nagar                  172.9749      4.379     39.504      0.000     164.391     181.559\n",
      "location_Rayasandra                    -19.1694      9.395     -2.040      0.041     -37.588      -0.751\n",
      "location_Sanjay nagar                   19.8085      8.915      2.222      0.026       2.332      37.285\n",
      "location_Sarjapur                      -21.6657      4.920     -4.404      0.000     -31.310     -12.021\n",
      "location_Sarjapura - Attibele Road     -32.0896     10.648     -3.014      0.003     -52.964     -11.215\n",
      "location_Singasandra                   -12.8229      9.962     -1.287      0.198     -32.353       6.707\n",
      "location_Thigalarapalya                 22.4605      5.941      3.780      0.000      10.813      34.108\n",
      "location_Ulsoor                         46.9422      9.393      4.997      0.000      28.528      65.357\n",
      "location_Uttarahalli                   -17.1959      3.251     -5.289      0.000     -23.570     -10.822\n",
      "location_Varthur                       -12.8611      4.779     -2.691      0.007     -22.230      -3.492\n",
      "location_Varthur Road                  -18.4299     10.648     -1.731      0.084     -39.305       2.445\n",
      "location_Vijayanagar                    14.0505      6.650      2.113      0.035       1.014      27.087\n",
      "==============================================================================\n",
      "Omnibus:                     2561.990   Durbin-Watson:                   1.958\n",
      "Prob(Omnibus):                  0.000   Jarque-Bera (JB):            92416.574\n",
      "Skew:                           1.453   Prob(JB):                         0.00\n",
      "Kurtosis:                      22.362   Cond. No.                         54.5\n",
      "==============================================================================\n",
      "\n",
      "Notes:\n",
      "[1] Standard Errors assume that the covariance matrix of the errors is correctly specified.\n",
      "\n",
      "\n",
      "R squared of test data = 0.8269517488323315\n",
      "\n",
      "\n",
      "Insignificant Variables: ['location_Ambedkar Nagar', 'location_Anandapura', 'location_Bannerghatta', 'location_Battarahalli', 'location_Begur', 'location_Chikkalasandra', 'location_HBR Layout', 'location_Kadugodi', 'location_Kammanahalli', 'location_Kereguddadahalli', 'location_Malleshpalya', 'location_Nagavara', 'location_Nagavarapalya', 'location_OMBR Layout', 'location_Singasandra', 'location_Varthur Road']\n",
      "                                 Columns    VIF\n",
      "0                                   size  14.35\n",
      "2                                   bath  14.06\n",
      "1                             total_sqft   4.47\n",
      "83                 location_Rajaji Nagar   1.02\n",
      "91                  location_Uttarahalli   1.02\n",
      "..                                   ...    ...\n",
      "33                 location_Channasandra   1.00\n",
      "31                   location_Chamrajpet   1.00\n",
      "30  location_Bommasandra Industrial Area   1.00\n",
      "29                  location_Bommasandra   1.00\n",
      "94                  location_Vijayanagar   1.00\n",
      "\n",
      "[95 rows x 2 columns]\n"
     ]
    }
   ],
   "source": [
    "feats = list(x_train_rfe.columns)\n",
    "model_result, insignificant_features = model(feats)\n",
    "print(\"Insignificant Variables:\", insignificant_features)\n",
    "vif_mod(feats)"
   ]
  },
  {
   "cell_type": "code",
   "execution_count": 65,
   "id": "652f65dc",
   "metadata": {
    "execution": {
     "iopub.execute_input": "2025-03-07T10:42:48.901881Z",
     "iopub.status.busy": "2025-03-07T10:42:48.901504Z",
     "iopub.status.idle": "2025-03-07T10:42:58.001226Z",
     "shell.execute_reply": "2025-03-07T10:42:57.999842Z"
    },
    "papermill": {
     "duration": 9.150655,
     "end_time": "2025-03-07T10:42:58.004584",
     "exception": false,
     "start_time": "2025-03-07T10:42:48.853929",
     "status": "completed"
    },
    "tags": []
   },
   "outputs": [
    {
     "name": "stdout",
     "output_type": "stream",
     "text": [
      "                            OLS Regression Results                            \n",
      "==============================================================================\n",
      "Dep. Variable:                  price   R-squared:                       0.875\n",
      "Model:                            OLS   Adj. R-squared:                  0.873\n",
      "Method:                 Least Squares   F-statistic:                     424.2\n",
      "Date:                Fri, 07 Mar 2025   Prob (F-statistic):               0.00\n",
      "Time:                        10:42:49   Log-Likelihood:                -27480.\n",
      "No. Observations:                5786   AIC:                         5.515e+04\n",
      "Df Residuals:                    5691   BIC:                         5.578e+04\n",
      "Df Model:                          94                                         \n",
      "Covariance Type:            nonrobust                                         \n",
      "========================================================================================================\n",
      "                                           coef    std err          t      P>|t|      [0.025      0.975]\n",
      "--------------------------------------------------------------------------------------------------------\n",
      "const                                    4.4942      0.737      6.101      0.000       3.050       5.938\n",
      "total_sqft                            1998.7733     14.982    133.407      0.000    1969.402    2028.145\n",
      "bath                                    35.7043      7.311      4.884      0.000      21.373      50.036\n",
      "location_1st Phase JP Nagar             44.0346      8.148      5.404      0.000      28.062      60.007\n",
      "location_2nd Stage Nagarbhavi          123.6600     19.949      6.199      0.000      84.553     162.767\n",
      "location_6th Phase JP Nagar             20.6988      9.405      2.201      0.028       2.261      39.137\n",
      "location_8th Phase JP Nagar            -15.1510      5.770     -2.626      0.009     -26.462      -3.840\n",
      "location_9th Phase JP Nagar            -14.0751      6.850     -2.055      0.040     -27.503      -0.647\n",
      "location_Abbigere                      -19.9471      8.925     -2.235      0.025     -37.443      -2.451\n",
      "location_Akshaya Nagar                 -13.1951      5.770     -2.287      0.022     -24.507      -1.883\n",
      "location_Ambedkar Nagar                 16.3839      7.836      2.091      0.037       1.023      31.745\n",
      "location_Anandapura                    -19.1852     11.515     -1.666      0.096     -41.759       3.389\n",
      "location_Ananth Nagar                  -21.6314      8.151     -2.654      0.008     -37.611      -5.652\n",
      "location_Anekal                        -17.6730      7.295     -2.423      0.015     -31.974      -3.372\n",
      "location_Attibele                      -14.9541      6.856     -2.181      0.029     -28.394      -1.515\n",
      "location_BTM 2nd Stage                  29.8961      9.974      2.997      0.003      10.343      49.449\n",
      "location_Babusapalaya                  -24.3693      8.924     -2.731      0.006     -41.864      -6.875\n",
      "location_Banashankari Stage II         106.8633     10.664     10.021      0.000      85.958     127.769\n",
      "location_Banashankari Stage VI         -32.6437     14.102     -2.315      0.021     -60.289      -4.999\n",
      "location_Bannerghatta                   20.5095      9.977      2.056      0.040       0.952      40.067\n",
      "location_Basavangudi                    56.5182      7.545      7.491      0.000      41.727      71.310\n",
      "location_Basaveshwara Nagar             73.1398      9.982      7.327      0.000      53.572      92.708\n",
      "location_Battarahalli                  -16.7965     10.662     -1.575      0.115     -37.697       4.104\n",
      "location_Begur                         -18.3537     12.612     -1.455      0.146     -43.079       6.371\n",
      "location_Begur Road                    -25.5105      4.719     -5.406      0.000     -34.761     -16.260\n",
      "location_Benson Town                   176.2658      9.415     18.722      0.000     157.809     194.723\n",
      "location_Binny Pete                     41.0784      8.510      4.827      0.000      24.396      57.761\n",
      "location_Bisuvanahalli                 -14.7139      6.169     -2.385      0.017     -26.808      -2.620\n",
      "location_Bommanahalli                  -18.1355      6.850     -2.647      0.008     -31.565      -4.706\n",
      "location_Bommasandra                   -16.6503      6.483     -2.568      0.010     -29.360      -3.940\n",
      "location_Bommasandra Industrial Area   -28.6738      8.149     -3.518      0.000     -44.650     -12.698\n",
      "location_Chamrajpet                     48.0391     11.515      4.172      0.000      25.466      70.612\n",
      "location_Chandapura                    -24.2985      4.660     -5.214      0.000     -33.435     -15.162\n",
      "location_Channasandra                  -23.9068      7.546     -3.168      0.002     -38.699      -9.115\n",
      "location_Chikka Tirupathi              -57.1968     10.676     -5.357      0.000     -78.126     -36.267\n",
      "location_Chikkalasandra                -16.3341      8.511     -1.919      0.055     -33.019       0.351\n",
      "location_Cooke Town                    114.3572      9.981     11.457      0.000      94.790     133.924\n",
      "location_Doddathoguru                  -16.1639      8.150     -1.983      0.047     -32.141      -0.187\n",
      "location_Domlur                         42.6265      8.924      4.777      0.000      25.133      60.120\n",
      "location_Electronic City Phase II      -26.7926      3.728     -7.186      0.000     -34.102     -19.484\n",
      "location_Frazer Town                    89.2847      6.863     13.010      0.000      75.831     102.738\n",
      "location_Gottigere                     -21.0126      5.770     -3.642      0.000     -32.323      -9.702\n",
      "location_Gubbalala                     -22.7689      8.513     -2.675      0.008     -39.458      -6.080\n",
      "location_Gunjur                        -23.0552      8.148     -2.830      0.005     -39.028      -7.082\n",
      "location_HBR Layout                     16.7336     11.515      1.453      0.146      -5.840      39.307\n",
      "location_HRBR Layout                    26.1625      9.407      2.781      0.005       7.722      44.603\n",
      "location_Hebbal                         24.9577      3.076      8.113      0.000      18.927      30.988\n",
      "location_Hebbal Kempapura               49.9552      8.156      6.125      0.000      33.967      65.943\n",
      "location_Hegde Nagar                    14.0710      5.553      2.534      0.011       3.185      24.957\n",
      "location_Hennur                        -16.1690      6.026     -2.683      0.007     -27.982      -4.356\n",
      "location_Horamavu Agara                -14.3951      5.896     -2.442      0.015     -25.953      -2.838\n",
      "location_Horamavu Banaswadi            -18.3028      8.148     -2.246      0.025     -34.277      -2.329\n",
      "location_Hormavu                       -12.2690      4.594     -2.670      0.008     -21.276      -3.262\n",
      "location_Hosakerehalli                  56.4759      7.067      7.992      0.000      42.622      70.330\n",
      "location_Hoskote                       -23.2459      8.510     -2.732      0.006     -39.929      -6.563\n",
      "location_Iblur Village                  32.4063      9.433      3.435      0.001      13.914      50.898\n",
      "location_Indira Nagar                  128.7779      6.321     20.373      0.000     116.386     141.170\n",
      "location_Judicial Layout                66.2579     10.664      6.213      0.000      45.353      87.163\n",
      "location_KR Puram                      -16.3669      4.655     -3.516      0.000     -25.492      -7.242\n",
      "location_Kadugodi                      -13.1364      6.850     -1.918      0.055     -26.565       0.292\n",
      "location_Kaggadasapura                 -20.0884      5.252     -3.825      0.000     -30.384      -9.793\n",
      "location_Kammanahalli                   26.1689     14.099      1.856      0.063      -1.471      53.809\n",
      "location_Kammasandra                   -20.1319      8.150     -2.470      0.014     -36.110      -4.154\n",
      "location_Kengeri                       -12.9907      5.256     -2.471      0.013     -23.295      -2.686\n",
      "location_Kengeri Satellite Town        -13.3791      6.662     -2.008      0.045     -26.440      -0.318\n",
      "location_Kereguddadahalli              -17.9936     12.614     -1.426      0.154     -42.722       6.735\n",
      "location_Kodichikkanahalli             -18.1911      7.546     -2.411      0.016     -32.984      -3.398\n",
      "location_Kodihalli                     179.7152     12.626     14.234      0.000     154.964     204.466\n",
      "location_Koramangala                    75.2698      5.002     15.047      0.000      65.463      85.076\n",
      "location_Kothannur                     -23.4384      8.924     -2.626      0.009     -40.933      -5.944\n",
      "location_Kundalahalli                   22.0155      5.545      3.970      0.000      11.145      32.886\n",
      "location_Lakshminarayana Pura           15.1575      6.659      2.276      0.023       2.103      28.212\n",
      "location_Malleshpalya                  -13.7073      9.975     -1.374      0.169     -33.262       5.848\n",
      "location_Malleshwaram                  121.9371      5.443     22.402      0.000     111.266     132.608\n",
      "location_Nagarbhavi                     18.3032      5.442      3.363      0.001       7.635      28.971\n",
      "location_Nagavara                      -13.9736      9.974     -1.401      0.161     -33.527       5.580\n",
      "location_Nagavarapalya                  17.0530     11.517      1.481      0.139      -5.525      39.631\n",
      "location_OMBR Layout                    20.1083     10.662      1.886      0.059      -0.793      41.009\n",
      "location_Old Airport Road               27.8254      8.163      3.409      0.001      11.823      43.828\n",
      "location_Padmanabhanagar                22.6021      7.549      2.994      0.003       7.804      37.400\n",
      "location_Pai Layout                    -21.0330      9.974     -2.109      0.035     -40.586      -1.480\n",
      "location_R.T. Nagar                     25.5283      6.853      3.725      0.000      12.093      38.964\n",
      "location_Raja Rajeshwari Nagar         -23.5007      3.201     -7.341      0.000     -29.776     -17.225\n",
      "location_Rajaji Nagar                  173.3259      4.384     39.540      0.000     164.732     181.919\n",
      "location_Rayasandra                    -20.0524      9.405     -2.132      0.033     -38.490      -1.615\n",
      "location_Sanjay nagar                   19.1108      8.925      2.141      0.032       1.615      36.607\n",
      "location_Sarjapur                      -21.9602      4.926     -4.458      0.000     -31.617     -12.304\n",
      "location_Sarjapura - Attibele Road     -32.0226     10.662     -3.003      0.003     -52.925     -11.120\n",
      "location_Singasandra                   -13.1292      9.975     -1.316      0.188     -32.684       6.426\n",
      "location_Thigalarapalya                 24.7289      5.922      4.176      0.000      13.119      36.338\n",
      "location_Ulsoor                         47.0362      9.406      5.001      0.000      28.598      65.475\n",
      "location_Uttarahalli                   -18.1696      3.247     -5.597      0.000     -24.534     -11.805\n",
      "location_Varthur                       -12.7914      4.786     -2.673      0.008     -22.173      -3.410\n",
      "location_Varthur Road                  -18.0437     10.662     -1.692      0.091     -38.945       2.858\n",
      "location_Vijayanagar                    13.5450      6.658      2.035      0.042       0.494      26.597\n",
      "==============================================================================\n",
      "Omnibus:                     2556.092   Durbin-Watson:                   1.959\n",
      "Prob(Omnibus):                  0.000   Jarque-Bera (JB):            90669.173\n",
      "Skew:                           1.452   Prob(JB):                         0.00\n",
      "Kurtosis:                      22.174   Cond. No.                         54.2\n",
      "==============================================================================\n",
      "\n",
      "Notes:\n",
      "[1] Standard Errors assume that the covariance matrix of the errors is correctly specified.\n",
      "\n",
      "\n",
      "R squared of test data = 0.8251862381604071\n",
      "\n",
      "\n",
      "Insignificant Variables: ['location_Anandapura', 'location_Battarahalli', 'location_Begur', 'location_Chikkalasandra', 'location_HBR Layout', 'location_Kadugodi', 'location_Kammanahalli', 'location_Kereguddadahalli', 'location_Malleshpalya', 'location_Nagavara', 'location_Nagavarapalya', 'location_OMBR Layout', 'location_Singasandra', 'location_Varthur Road']\n",
      "                              Columns   VIF\n",
      "1                                bath  4.34\n",
      "0                          total_sqft  4.18\n",
      "82              location_Rajaji Nagar  1.02\n",
      "45                    location_Hebbal  1.02\n",
      "38  location_Electronic City Phase II  1.01\n",
      "..                                ...   ...\n",
      "42                    location_Gunjur  1.00\n",
      "41                 location_Gubbalala  1.00\n",
      "40                 location_Gottigere  1.00\n",
      "15              location_Babusapalaya  1.00\n",
      "93               location_Vijayanagar  1.00\n",
      "\n",
      "[94 rows x 2 columns]\n"
     ]
    }
   ],
   "source": [
    "feats = [cols for cols in x_train_rfe.columns if cols not in ['size']]\n",
    "model_result, insignificant_features = model(feats)\n",
    "print(\"Insignificant Variables:\", insignificant_features)\n",
    "vif_mod(feats)"
   ]
  },
  {
   "cell_type": "code",
   "execution_count": 66,
   "id": "6de3018e",
   "metadata": {
    "execution": {
     "iopub.execute_input": "2025-03-07T10:42:58.126063Z",
     "iopub.status.busy": "2025-03-07T10:42:58.125684Z",
     "iopub.status.idle": "2025-03-07T10:43:04.096996Z",
     "shell.execute_reply": "2025-03-07T10:43:04.093830Z"
    },
    "papermill": {
     "duration": 6.022656,
     "end_time": "2025-03-07T10:43:04.100169",
     "exception": false,
     "start_time": "2025-03-07T10:42:58.077513",
     "status": "completed"
    },
    "tags": []
   },
   "outputs": [
    {
     "name": "stdout",
     "output_type": "stream",
     "text": [
      "                            OLS Regression Results                            \n",
      "==============================================================================\n",
      "Dep. Variable:                  price   R-squared:                       0.874\n",
      "Model:                            OLS   Adj. R-squared:                  0.873\n",
      "Method:                 Least Squares   F-statistic:                     496.0\n",
      "Date:                Fri, 07 Mar 2025   Prob (F-statistic):               0.00\n",
      "Time:                        10:42:58   Log-Likelihood:                -27499.\n",
      "No. Observations:                5786   AIC:                         5.516e+04\n",
      "Df Residuals:                    5705   BIC:                         5.570e+04\n",
      "Df Model:                          80                                         \n",
      "Covariance Type:            nonrobust                                         \n",
      "========================================================================================================\n",
      "                                           coef    std err          t      P>|t|      [0.025      0.975]\n",
      "--------------------------------------------------------------------------------------------------------\n",
      "const                                    4.2313      0.733      5.773      0.000       2.795       5.668\n",
      "total_sqft                            1999.4941     15.009    133.220      0.000    1970.071    2028.917\n",
      "bath                                    36.1168      7.321      4.933      0.000      21.764      50.469\n",
      "location_1st Phase JP Nagar             44.2251      8.164      5.417      0.000      28.222      60.229\n",
      "location_2nd Stage Nagarbhavi          123.8134     19.988      6.194      0.000      84.629     162.997\n",
      "location_6th Phase JP Nagar             20.9018      9.424      2.218      0.027       2.428      39.376\n",
      "location_8th Phase JP Nagar            -14.9506      5.781     -2.586      0.010     -26.283      -3.618\n",
      "location_9th Phase JP Nagar            -13.8772      6.863     -2.022      0.043     -27.331      -0.423\n",
      "location_Abbigere                      -19.7427      8.942     -2.208      0.027     -37.273      -2.213\n",
      "location_Akshaya Nagar                 -13.0084      5.781     -2.250      0.024     -24.342      -1.675\n",
      "location_Ambedkar Nagar                 16.5442      7.851      2.107      0.035       1.154      31.935\n",
      "location_Ananth Nagar                  -21.4114      8.167     -2.622      0.009     -37.422      -5.401\n",
      "location_Anekal                        -17.4485      7.309     -2.387      0.017     -31.777      -3.120\n",
      "location_Attibele                      -14.7276      6.869     -2.144      0.032     -28.193      -1.263\n",
      "location_BTM 2nd Stage                  30.0941      9.994      3.011      0.003      10.503      49.685\n",
      "location_Babusapalaya                  -24.1644      8.941     -2.703      0.007     -41.692      -6.636\n",
      "location_Banashankari Stage II         107.0616     10.685     10.020      0.000      86.116     128.007\n",
      "location_Banashankari Stage VI         -32.4660     14.129     -2.298      0.022     -60.165      -4.767\n",
      "location_Bannerghatta                   20.6849      9.996      2.069      0.039       1.089      40.281\n",
      "location_Basavangudi                    56.7060      7.560      7.501      0.000      41.886      71.526\n",
      "location_Basaveshwara Nagar             73.2919     10.001      7.328      0.000      53.686      92.898\n",
      "location_Begur Road                    -25.3062      4.727     -5.353      0.000     -34.574     -16.039\n",
      "location_Benson Town                   176.4063      9.433     18.700      0.000     157.914     194.899\n",
      "location_Binny Pete                     41.2571      8.526      4.839      0.000      24.542      57.972\n",
      "location_Bisuvanahalli                 -14.4970      6.181     -2.345      0.019     -26.614      -2.380\n",
      "location_Bommanahalli                  -17.9396      6.864     -2.614      0.009     -31.395      -4.484\n",
      "location_Bommasandra                   -16.4360      6.496     -2.530      0.011     -29.170      -3.702\n",
      "location_Bommasandra Industrial Area   -28.4613      8.165     -3.486      0.000     -44.468     -12.455\n",
      "location_Chamrajpet                     48.2342     11.537      4.181      0.000      25.617      70.851\n",
      "location_Chandapura                    -24.0769      4.669     -5.157      0.000     -33.230     -14.924\n",
      "location_Channasandra                  -23.7062      7.560     -3.136      0.002     -38.527      -8.886\n",
      "location_Chikka Tirupathi              -57.0711     10.697     -5.335      0.000     -78.041     -36.101\n",
      "location_Cooke Town                    114.5066     10.001     11.450      0.000      94.902     134.111\n",
      "location_Doddathoguru                  -15.9511      8.166     -1.953      0.051     -31.959       0.057\n",
      "location_Domlur                         42.8248      8.941      4.790      0.000      25.297      60.352\n",
      "location_Electronic City Phase II      -26.5866      3.735     -7.118      0.000     -33.909     -19.265\n",
      "location_Frazer Town                    89.4281      6.876     13.006      0.000      75.949     102.908\n",
      "location_Gottigere                     -20.8163      5.781     -3.601      0.000     -32.148      -9.484\n",
      "location_Gubbalala                     -22.6071      8.530     -2.650      0.008     -39.329      -5.885\n",
      "location_Gunjur                        -22.8578      8.164     -2.800      0.005     -38.862      -6.854\n",
      "location_HRBR Layout                    26.3742      9.425      2.798      0.005       7.898      44.850\n",
      "location_Hebbal                         25.1302      3.082      8.155      0.000      19.089      31.171\n",
      "location_Hebbal Kempapura               50.1098      8.171      6.132      0.000      34.091      66.129\n",
      "location_Hegde Nagar                    14.2378      5.564      2.559      0.011       3.331      25.145\n",
      "location_Hennur                        -15.9686      6.037     -2.645      0.008     -27.804      -4.133\n",
      "location_Horamavu Agara                -14.1819      5.907     -2.401      0.016     -25.761      -2.603\n",
      "location_Horamavu Banaswadi            -18.1101      8.164     -2.218      0.027     -34.115      -2.105\n",
      "location_Hormavu                       -12.0625      4.603     -2.621      0.009     -21.086      -3.039\n",
      "location_Hosakerehalli                  56.6357      7.080      7.999      0.000      42.755      70.516\n",
      "location_Hoskote                       -23.0394      8.526     -2.702      0.007     -39.754      -6.324\n",
      "location_Iblur Village                  32.5122      9.451      3.440      0.001      13.984      51.040\n",
      "location_Indira Nagar                  128.9468      6.333     20.361      0.000     116.531     141.362\n",
      "location_Judicial Layout                66.4241     10.685      6.217      0.000      45.478      87.370\n",
      "location_KR Puram                      -16.1654      4.663     -3.467      0.001     -25.307      -7.024\n",
      "location_Kaggadasapura                 -19.8931      5.262     -3.781      0.000     -30.208      -9.578\n",
      "location_Kammasandra                   -19.9145      8.166     -2.439      0.015     -35.923      -3.906\n",
      "location_Kengeri                       -12.7717      5.266     -2.425      0.015     -23.096      -2.448\n",
      "location_Kengeri Satellite Town        -13.1565      6.675     -1.971      0.049     -26.242      -0.071\n",
      "location_Kodichikkanahalli             -17.9974      7.560     -2.380      0.017     -32.819      -3.176\n",
      "location_Kodihalli                     179.8405     12.650     14.216      0.000     155.041     204.640\n",
      "location_Koramangala                    75.4525      5.012     15.055      0.000      65.628      85.277\n",
      "location_Kothannur                     -23.2322      8.941     -2.598      0.009     -40.760      -5.704\n",
      "location_Kundalahalli                   22.1987      5.556      3.996      0.000      11.308      33.090\n",
      "location_Lakshminarayana Pura           15.3668      6.672      2.303      0.021       2.288      28.446\n",
      "location_Malleshwaram                  122.1148      5.453     22.392      0.000     111.424     132.806\n",
      "location_Nagarbhavi                     18.5010      5.452      3.393      0.001       7.813      29.189\n",
      "location_Old Airport Road               27.9586      8.179      3.418      0.001      11.925      43.992\n",
      "location_Padmanabhanagar                22.7859      7.563      3.013      0.003       7.959      37.613\n",
      "location_Pai Layout                    -20.8414      9.993     -2.085      0.037     -40.432      -1.250\n",
      "location_R.T. Nagar                     25.7088      6.867      3.744      0.000      12.248      39.170\n",
      "location_Raja Rajeshwari Nagar         -23.3028      3.207     -7.267      0.000     -29.589     -17.016\n",
      "location_Rajaji Nagar                  173.4786      4.392     39.502      0.000     164.869     182.088\n",
      "location_Rayasandra                    -19.8597      9.423     -2.108      0.035     -38.333      -1.387\n",
      "location_Sanjay nagar                   19.3157      8.942      2.160      0.031       1.786      36.845\n",
      "location_Sarjapur                      -21.7650      4.935     -4.410      0.000     -31.439     -12.091\n",
      "location_Sarjapura - Attibele Road     -31.8163     10.683     -2.978      0.003     -52.759     -10.874\n",
      "location_Thigalarapalya                 24.8609      5.933      4.190      0.000      13.229      36.493\n",
      "location_Ulsoor                         47.2178      9.424      5.010      0.000      28.744      65.692\n",
      "location_Uttarahalli                   -17.9567      3.252     -5.522      0.000     -24.332     -11.581\n",
      "location_Varthur                       -12.5840      4.794     -2.625      0.009     -21.983      -3.185\n",
      "location_Vijayanagar                    13.7369      6.670      2.059      0.040       0.660      26.813\n",
      "==============================================================================\n",
      "Omnibus:                     2537.315   Durbin-Watson:                   1.956\n",
      "Prob(Omnibus):                  0.000   Jarque-Bera (JB):            88246.132\n",
      "Skew:                           1.442   Prob(JB):                         0.00\n",
      "Kurtosis:                      21.914   Cond. No.                         54.2\n",
      "==============================================================================\n",
      "\n",
      "Notes:\n",
      "[1] Standard Errors assume that the covariance matrix of the errors is correctly specified.\n",
      "\n",
      "\n",
      "R squared of test data = 0.8240042035371843\n",
      "\n",
      "\n",
      "Insignificant Variables: ['location_Doddathoguru']\n",
      "                                 Columns   VIF\n",
      "1                                   bath  4.33\n",
      "0                             total_sqft  4.17\n",
      "70                 location_Rajaji Nagar  1.02\n",
      "40                       location_Hebbal  1.02\n",
      "42                  location_Hegde Nagar  1.01\n",
      "..                                   ...   ...\n",
      "28                   location_Chandapura  1.00\n",
      "27                   location_Chamrajpet  1.00\n",
      "26  location_Bommasandra Industrial Area  1.00\n",
      "25                  location_Bommasandra  1.00\n",
      "79                  location_Vijayanagar  1.00\n",
      "\n",
      "[80 rows x 2 columns]\n"
     ]
    }
   ],
   "source": [
    "feats = [cols for cols in feats if cols not in insignificant_features]\n",
    "model_result, insignificant_features = model(feats)\n",
    "print(\"Insignificant Variables:\", insignificant_features)\n",
    "vif_mod(feats)"
   ]
  },
  {
   "cell_type": "code",
   "execution_count": 67,
   "id": "deccb177",
   "metadata": {
    "_kg_hide-output": false,
    "execution": {
     "iopub.execute_input": "2025-03-07T10:43:04.220242Z",
     "iopub.status.busy": "2025-03-07T10:43:04.219882Z",
     "iopub.status.idle": "2025-03-07T10:43:04.225700Z",
     "shell.execute_reply": "2025-03-07T10:43:04.224906Z"
    },
    "papermill": {
     "duration": 0.054224,
     "end_time": "2025-03-07T10:43:04.227224",
     "exception": false,
     "start_time": "2025-03-07T10:43:04.173000",
     "status": "completed"
    },
    "tags": []
   },
   "outputs": [
    {
     "data": {
      "text/plain": [
       "'\\nThere are no insignificant features as p value of all features are equal to or less than 0.05 and \\nalso the vif of all features are less than 5, so now we will remove the features which has p value \\nof greater than 0.005 and will see if there is any significant impact in the value of r-squared.\\nThis is mainly done to decrease the number of features.\\n'"
      ]
     },
     "execution_count": 67,
     "metadata": {},
     "output_type": "execute_result"
    }
   ],
   "source": [
    "'''\n",
    "There are no insignificant features as p value of all features are equal to or less than 0.05 and \n",
    "also the vif of all features are less than 5, so now we will remove the features which has p value \n",
    "of greater than 0.005 and will see if there is any significant impact in the value of r-squared.\n",
    "This is mainly done to decrease the number of features.\n",
    "'''"
   ]
  },
  {
   "cell_type": "code",
   "execution_count": 68,
   "id": "06da5621",
   "metadata": {
    "execution": {
     "iopub.execute_input": "2025-03-07T10:43:04.279207Z",
     "iopub.status.busy": "2025-03-07T10:43:04.278874Z",
     "iopub.status.idle": "2025-03-07T10:43:04.284345Z",
     "shell.execute_reply": "2025-03-07T10:43:04.283128Z"
    },
    "papermill": {
     "duration": 0.033609,
     "end_time": "2025-03-07T10:43:04.286205",
     "exception": false,
     "start_time": "2025-03-07T10:43:04.252596",
     "status": "completed"
    },
    "tags": []
   },
   "outputs": [],
   "source": [
    "def updatedmodel(feats):\n",
    "    x_train_stat = sm.add_constant(x_train[feats])\n",
    "    lin_reg = sm.OLS(y_train, x_train_stat).fit()\n",
    "    insignificant_vars = lin_reg.pvalues[lin_reg.pvalues >= 0.005].index.tolist()\n",
    "    return lin_reg, insignificant_vars"
   ]
  },
  {
   "cell_type": "code",
   "execution_count": 69,
   "id": "d6b41113",
   "metadata": {
    "execution": {
     "iopub.execute_input": "2025-03-07T10:43:04.337455Z",
     "iopub.status.busy": "2025-03-07T10:43:04.337051Z",
     "iopub.status.idle": "2025-03-07T10:43:04.404449Z",
     "shell.execute_reply": "2025-03-07T10:43:04.403055Z"
    },
    "papermill": {
     "duration": 0.097004,
     "end_time": "2025-03-07T10:43:04.408144",
     "exception": false,
     "start_time": "2025-03-07T10:43:04.311140",
     "status": "completed"
    },
    "tags": []
   },
   "outputs": [
    {
     "name": "stdout",
     "output_type": "stream",
     "text": [
      "Insignificant Variables: ['location_6th Phase JP Nagar', 'location_8th Phase JP Nagar', 'location_9th Phase JP Nagar', 'location_Abbigere', 'location_Akshaya Nagar', 'location_Ambedkar Nagar', 'location_Ananth Nagar', 'location_Anekal', 'location_Attibele', 'location_Babusapalaya', 'location_Banashankari Stage VI', 'location_Bannerghatta', 'location_Bisuvanahalli', 'location_Bommanahalli', 'location_Bommasandra', 'location_Doddathoguru', 'location_Gubbalala', 'location_Gunjur', 'location_HRBR Layout', 'location_Hegde Nagar', 'location_Hennur', 'location_Horamavu Agara', 'location_Horamavu Banaswadi', 'location_Hormavu', 'location_Hoskote', 'location_Kammasandra', 'location_Kengeri', 'location_Kengeri Satellite Town', 'location_Kodichikkanahalli', 'location_Kothannur', 'location_Lakshminarayana Pura', 'location_Pai Layout', 'location_Rayasandra', 'location_Sanjay nagar', 'location_Varthur', 'location_Vijayanagar']\n"
     ]
    }
   ],
   "source": [
    "model_result, insignificant_features = updatedmodel(feats)\n",
    "print(\"Insignificant Variables:\", insignificant_features)"
   ]
  },
  {
   "cell_type": "code",
   "execution_count": 70,
   "id": "8061b00c",
   "metadata": {
    "execution": {
     "iopub.execute_input": "2025-03-07T10:43:04.534531Z",
     "iopub.status.busy": "2025-03-07T10:43:04.534136Z",
     "iopub.status.idle": "2025-03-07T10:43:06.026441Z",
     "shell.execute_reply": "2025-03-07T10:43:06.024733Z"
    },
    "papermill": {
     "duration": 1.549026,
     "end_time": "2025-03-07T10:43:06.030065",
     "exception": false,
     "start_time": "2025-03-07T10:43:04.481039",
     "status": "completed"
    },
    "tags": []
   },
   "outputs": [
    {
     "name": "stdout",
     "output_type": "stream",
     "text": [
      "                            OLS Regression Results                            \n",
      "==============================================================================\n",
      "Dep. Variable:                  price   R-squared:                       0.870\n",
      "Model:                            OLS   Adj. R-squared:                  0.869\n",
      "Method:                 Least Squares   F-statistic:                     872.8\n",
      "Date:                Fri, 07 Mar 2025   Prob (F-statistic):               0.00\n",
      "Time:                        10:43:04   Log-Likelihood:                -27597.\n",
      "No. Observations:                5786   AIC:                         5.528e+04\n",
      "Df Residuals:                    5741   BIC:                         5.558e+04\n",
      "Df Model:                          44                                         \n",
      "Covariance Type:            nonrobust                                         \n",
      "========================================================================================================\n",
      "                                           coef    std err          t      P>|t|      [0.025      0.975]\n",
      "--------------------------------------------------------------------------------------------------------\n",
      "const                                    2.5049      0.716      3.500      0.000       1.102       3.908\n",
      "total_sqft                            2006.0361     15.182    132.134      0.000    1976.274    2035.798\n",
      "bath                                    39.0543      7.386      5.287      0.000      24.575      53.534\n",
      "location_1st Phase JP Nagar             45.3757      8.276      5.483      0.000      29.152      61.600\n",
      "location_2nd Stage Nagarbhavi          124.7078     20.266      6.154      0.000      84.979     164.437\n",
      "location_BTM 2nd Stage                  31.3055     10.132      3.090      0.002      11.443      51.168\n",
      "location_Banashankari Stage II         108.2629     10.833      9.994      0.000      87.027     129.499\n",
      "location_Basavangudi                    57.8357      7.664      7.547      0.000      42.812      72.860\n",
      "location_Basaveshwara Nagar             74.1478     10.140      7.313      0.000      54.270      94.026\n",
      "location_Begur Road                    -24.0451      4.791     -5.019      0.000     -33.437     -14.653\n",
      "location_Benson Town                   177.1601      9.564     18.524      0.000     158.411     195.909\n",
      "location_Binny Pete                     42.3181      8.644      4.896      0.000      25.372      59.264\n",
      "location_Bommasandra Industrial Area   -27.1333      8.277     -3.278      0.001     -43.360     -10.906\n",
      "location_Chamrajpet                     49.4267     11.697      4.226      0.000      26.496      72.357\n",
      "location_Chandapura                    -22.6778      4.731     -4.793      0.000     -31.953     -13.403\n",
      "location_Channasandra                  -22.4720      7.664     -2.932      0.003     -37.496      -7.448\n",
      "location_Chikka Tirupathi              -56.4354     10.846     -5.204      0.000     -77.697     -35.174\n",
      "location_Cooke Town                    115.3238     10.139     11.374      0.000      95.447     135.200\n",
      "location_Domlur                         44.0356      9.064      4.858      0.000      26.266      61.805\n",
      "location_Electronic City Phase II      -25.3131      3.784     -6.690      0.000     -32.731     -17.895\n",
      "location_Frazer Town                    90.1972      6.971     12.939      0.000      76.532     103.862\n",
      "location_Gottigere                     -19.6178      5.859     -3.348      0.001     -31.104      -8.131\n",
      "location_Hebbal                         26.1427      3.121      8.375      0.000      20.024      32.262\n",
      "location_Hebbal Kempapura               50.9840      8.284      6.154      0.000      34.744      67.224\n",
      "location_Hosakerehalli                  57.5518      7.178      8.018      0.000      43.481      71.623\n",
      "location_Iblur Village                  32.9877      9.582      3.443      0.001      14.203      51.772\n",
      "location_Indira Nagar                  129.9306      6.420     20.239      0.000     117.345     142.516\n",
      "location_Judicial Layout                67.3814     10.833      6.220      0.000      46.145      88.618\n",
      "location_KR Puram                      -14.9245      4.726     -3.158      0.002     -24.189      -5.660\n",
      "location_Kaggadasapura                 -18.7015      5.333     -3.507      0.000     -29.156      -8.247\n",
      "location_Kodihalli                     180.4791     12.826     14.071      0.000     155.336     205.623\n",
      "location_Koramangala                    76.5390      5.080     15.068      0.000      66.581      86.497\n",
      "location_Kundalahalli                   23.2913      5.631      4.136      0.000      12.252      34.331\n",
      "location_Malleshwaram                  123.1622      5.528     22.281      0.000     112.326     133.999\n",
      "location_Nagarbhavi                     19.7116      5.526      3.567      0.000       8.879      30.544\n",
      "location_Old Airport Road               28.6514      8.292      3.455      0.001      12.396      44.907\n",
      "location_Padmanabhanagar                23.8721      7.667      3.113      0.002       8.841      38.903\n",
      "location_R.T. Nagar                     26.7919      6.961      3.849      0.000      13.146      40.438\n",
      "location_Raja Rajeshwari Nagar         -22.0925      3.248     -6.802      0.000     -28.460     -15.725\n",
      "location_Rajaji Nagar                  174.3289      4.451     39.167      0.000     165.603     183.054\n",
      "location_Sarjapur                      -20.5738      5.001     -4.114      0.000     -30.378     -10.769\n",
      "location_Sarjapura - Attibele Road     -30.5414     10.831     -2.820      0.005     -51.774      -9.309\n",
      "location_Thigalarapalya                 25.5613      6.014      4.250      0.000      13.771      37.352\n",
      "location_Ulsoor                         48.3022      9.554      5.056      0.000      29.573      67.032\n",
      "location_Uttarahalli                   -16.6292      3.293     -5.049      0.000     -23.086     -10.173\n",
      "==============================================================================\n",
      "Omnibus:                     2403.185   Durbin-Watson:                   1.942\n",
      "Prob(Omnibus):                  0.000   Jarque-Bera (JB):            76975.002\n",
      "Skew:                           1.352   Prob(JB):                         0.00\n",
      "Kurtosis:                      20.663   Cond. No.                         54.2\n",
      "==============================================================================\n",
      "\n",
      "Notes:\n",
      "[1] Standard Errors assume that the covariance matrix of the errors is correctly specified.\n",
      "\n",
      "\n",
      "R squared of test data = 0.8205620736430227\n",
      "\n",
      "\n",
      "                                 Columns   VIF\n",
      "1                                   bath  4.24\n",
      "0                             total_sqft  4.16\n",
      "21                       location_Hebbal  1.02\n",
      "18     location_Electronic City Phase II  1.01\n",
      "41               location_Thigalarapalya  1.01\n",
      "38                 location_Rajaji Nagar  1.01\n",
      "37        location_Raja Rajeshwari Nagar  1.01\n",
      "34             location_Old Airport Road  1.01\n",
      "32                 location_Malleshwaram  1.01\n",
      "30                  location_Koramangala  1.01\n",
      "25                 location_Indira Nagar  1.01\n",
      "24                location_Iblur Village  1.01\n",
      "23                location_Hosakerehalli  1.01\n",
      "19                  location_Frazer Town  1.01\n",
      "43                  location_Uttarahalli  1.01\n",
      "15             location_Chikka Tirupathi  1.00\n",
      "7            location_Basaveshwara Nagar  1.00\n",
      "42                       location_Ulsoor  1.00\n",
      "2            location_1st Phase JP Nagar  1.00\n",
      "40    location_Sarjapura - Attibele Road  1.00\n",
      "39                     location_Sarjapur  1.00\n",
      "3          location_2nd Stage Nagarbhavi  1.00\n",
      "4                 location_BTM 2nd Stage  1.00\n",
      "36                   location_R.T. Nagar  1.00\n",
      "35              location_Padmanabhanagar  1.00\n",
      "5         location_Banashankari Stage II  1.00\n",
      "33                   location_Nagarbhavi  1.00\n",
      "6                   location_Basavangudi  1.00\n",
      "31                 location_Kundalahalli  1.00\n",
      "29                    location_Kodihalli  1.00\n",
      "16                   location_Cooke Town  1.00\n",
      "28                location_Kaggadasapura  1.00\n",
      "27                     location_KR Puram  1.00\n",
      "26              location_Judicial Layout  1.00\n",
      "8                    location_Begur Road  1.00\n",
      "9                   location_Benson Town  1.00\n",
      "10                   location_Binny Pete  1.00\n",
      "11  location_Bommasandra Industrial Area  1.00\n",
      "12                   location_Chamrajpet  1.00\n",
      "20                    location_Gottigere  1.00\n",
      "13                   location_Chandapura  1.00\n",
      "14                 location_Channasandra  1.00\n",
      "17                       location_Domlur  1.00\n",
      "22             location_Hebbal Kempapura  1.00\n",
      "\n",
      "\n",
      "\n",
      "Length of features ['total_sqft', 'bath', 'location_1st Phase JP Nagar', 'location_2nd Stage Nagarbhavi', 'location_BTM 2nd Stage', 'location_Banashankari Stage II', 'location_Basavangudi', 'location_Basaveshwara Nagar', 'location_Begur Road', 'location_Benson Town', 'location_Binny Pete', 'location_Bommasandra Industrial Area', 'location_Chamrajpet', 'location_Chandapura', 'location_Channasandra', 'location_Chikka Tirupathi', 'location_Cooke Town', 'location_Domlur', 'location_Electronic City Phase II', 'location_Frazer Town', 'location_Gottigere', 'location_Hebbal', 'location_Hebbal Kempapura', 'location_Hosakerehalli', 'location_Iblur Village', 'location_Indira Nagar', 'location_Judicial Layout', 'location_KR Puram', 'location_Kaggadasapura', 'location_Kodihalli', 'location_Koramangala', 'location_Kundalahalli', 'location_Malleshwaram', 'location_Nagarbhavi', 'location_Old Airport Road', 'location_Padmanabhanagar', 'location_R.T. Nagar', 'location_Raja Rajeshwari Nagar', 'location_Rajaji Nagar', 'location_Sarjapur', 'location_Sarjapura - Attibele Road', 'location_Thigalarapalya', 'location_Ulsoor', 'location_Uttarahalli'] is : 44\n"
     ]
    }
   ],
   "source": [
    "feats = [cols for cols in feats if cols not in insignificant_features]\n",
    "model_result, insignificant_features = model(feats)\n",
    "vif_mod(feats)\n",
    "print('\\n\\n')\n",
    "print(f'Length of features {feats} is : {len(feats)}')"
   ]
  },
  {
   "cell_type": "markdown",
   "id": "0d066a82",
   "metadata": {
    "papermill": {
     "duration": 0.025554,
     "end_time": "2025-03-07T10:43:06.170543",
     "exception": false,
     "start_time": "2025-03-07T10:43:06.144989",
     "status": "completed"
    },
    "tags": []
   },
   "source": [
    "## PCA (Principle Component Analysis)"
   ]
  },
  {
   "cell_type": "code",
   "execution_count": 71,
   "id": "a2b5bccb",
   "metadata": {
    "execution": {
     "iopub.execute_input": "2025-03-07T10:43:06.223775Z",
     "iopub.status.busy": "2025-03-07T10:43:06.223240Z",
     "iopub.status.idle": "2025-03-07T10:43:06.229414Z",
     "shell.execute_reply": "2025-03-07T10:43:06.228423Z"
    },
    "papermill": {
     "duration": 0.034864,
     "end_time": "2025-03-07T10:43:06.230903",
     "exception": false,
     "start_time": "2025-03-07T10:43:06.196039",
     "status": "completed"
    },
    "tags": []
   },
   "outputs": [
    {
     "data": {
      "text/plain": [
       "'\\nIn regression we are using pca for eliminating the features instead of using the feats \\n(on basis of vif and pvalue-->only for regression).\\n'"
      ]
     },
     "execution_count": 71,
     "metadata": {},
     "output_type": "execute_result"
    }
   ],
   "source": [
    "'''\n",
    "In regression we are using pca for eliminating the features instead of using the feats \n",
    "(on basis of vif and pvalue-->only for regression).\n",
    "'''"
   ]
  },
  {
   "cell_type": "code",
   "execution_count": 72,
   "id": "6781c53c",
   "metadata": {
    "execution": {
     "iopub.execute_input": "2025-03-07T10:43:06.291632Z",
     "iopub.status.busy": "2025-03-07T10:43:06.291254Z",
     "iopub.status.idle": "2025-03-07T10:43:06.731982Z",
     "shell.execute_reply": "2025-03-07T10:43:06.729481Z"
    },
    "papermill": {
     "duration": 0.484801,
     "end_time": "2025-03-07T10:43:06.741663",
     "exception": false,
     "start_time": "2025-03-07T10:43:06.256862",
     "status": "completed"
    },
    "tags": []
   },
   "outputs": [],
   "source": [
    "from sklearn.decomposition import PCA\n",
    "pca = PCA(n_components=0.80, random_state=42)\n",
    "x_train_pca = pca.fit_transform(x_train_rfe)\n",
    "x_test_pca = pca.transform(x_test_rfe)"
   ]
  },
  {
   "cell_type": "code",
   "execution_count": 73,
   "id": "678fa5ac",
   "metadata": {
    "execution": {
     "iopub.execute_input": "2025-03-07T10:43:06.880776Z",
     "iopub.status.busy": "2025-03-07T10:43:06.880244Z",
     "iopub.status.idle": "2025-03-07T10:43:06.885977Z",
     "shell.execute_reply": "2025-03-07T10:43:06.884709Z"
    },
    "papermill": {
     "duration": 0.035179,
     "end_time": "2025-03-07T10:43:06.887738",
     "exception": false,
     "start_time": "2025-03-07T10:43:06.852559",
     "status": "completed"
    },
    "tags": []
   },
   "outputs": [
    {
     "name": "stdout",
     "output_type": "stream",
     "text": [
      "0.8043893502071094\n"
     ]
    }
   ],
   "source": [
    "print(sum(pca.explained_variance_ratio_))"
   ]
  },
  {
   "cell_type": "code",
   "execution_count": 74,
   "id": "d888715f",
   "metadata": {
    "execution": {
     "iopub.execute_input": "2025-03-07T10:43:06.940666Z",
     "iopub.status.busy": "2025-03-07T10:43:06.940254Z",
     "iopub.status.idle": "2025-03-07T10:43:06.946589Z",
     "shell.execute_reply": "2025-03-07T10:43:06.945443Z"
    },
    "papermill": {
     "duration": 0.034718,
     "end_time": "2025-03-07T10:43:06.948527",
     "exception": false,
     "start_time": "2025-03-07T10:43:06.913809",
     "status": "completed"
    },
    "tags": []
   },
   "outputs": [
    {
     "data": {
      "text/plain": [
       "array(['pca0', 'pca1', 'pca2', 'pca3', 'pca4', 'pca5', 'pca6', 'pca7',\n",
       "       'pca8', 'pca9', 'pca10', 'pca11', 'pca12', 'pca13', 'pca14',\n",
       "       'pca15', 'pca16', 'pca17', 'pca18', 'pca19', 'pca20', 'pca21',\n",
       "       'pca22', 'pca23', 'pca24', 'pca25', 'pca26', 'pca27', 'pca28',\n",
       "       'pca29', 'pca30', 'pca31', 'pca32', 'pca33', 'pca34', 'pca35',\n",
       "       'pca36', 'pca37', 'pca38', 'pca39', 'pca40', 'pca41', 'pca42',\n",
       "       'pca43', 'pca44', 'pca45', 'pca46', 'pca47', 'pca48', 'pca49',\n",
       "       'pca50', 'pca51'], dtype=object)"
      ]
     },
     "execution_count": 74,
     "metadata": {},
     "output_type": "execute_result"
    }
   ],
   "source": [
    "pca.get_feature_names_out()"
   ]
  },
  {
   "cell_type": "markdown",
   "id": "a10cf792",
   "metadata": {
    "papermill": {
     "duration": 0.025782,
     "end_time": "2025-03-07T10:43:07.009657",
     "exception": false,
     "start_time": "2025-03-07T10:43:06.983875",
     "status": "completed"
    },
    "tags": []
   },
   "source": [
    "## Random Forest Regressor"
   ]
  },
  {
   "cell_type": "code",
   "execution_count": 75,
   "id": "f3e9e63b",
   "metadata": {
    "execution": {
     "iopub.execute_input": "2025-03-07T10:43:07.062689Z",
     "iopub.status.busy": "2025-03-07T10:43:07.062283Z",
     "iopub.status.idle": "2025-03-07T10:43:07.263424Z",
     "shell.execute_reply": "2025-03-07T10:43:07.262344Z"
    },
    "papermill": {
     "duration": 0.229809,
     "end_time": "2025-03-07T10:43:07.265344",
     "exception": false,
     "start_time": "2025-03-07T10:43:07.035535",
     "status": "completed"
    },
    "tags": []
   },
   "outputs": [],
   "source": [
    "\n",
    "from sklearn.ensemble import RandomForestRegressor\n",
    "from sklearn.metrics import r2_score"
   ]
  },
  {
   "cell_type": "code",
   "execution_count": 76,
   "id": "32c94e2f",
   "metadata": {
    "execution": {
     "iopub.execute_input": "2025-03-07T10:43:07.318462Z",
     "iopub.status.busy": "2025-03-07T10:43:07.318084Z",
     "iopub.status.idle": "2025-03-07T10:43:07.322483Z",
     "shell.execute_reply": "2025-03-07T10:43:07.321476Z"
    },
    "papermill": {
     "duration": 0.032335,
     "end_time": "2025-03-07T10:43:07.323952",
     "exception": false,
     "start_time": "2025-03-07T10:43:07.291617",
     "status": "completed"
    },
    "tags": []
   },
   "outputs": [],
   "source": [
    "rf=RandomForestRegressor()"
   ]
  },
  {
   "cell_type": "code",
   "execution_count": 77,
   "id": "930f51e0",
   "metadata": {
    "execution": {
     "iopub.execute_input": "2025-03-07T10:43:07.377800Z",
     "iopub.status.busy": "2025-03-07T10:43:07.377275Z",
     "iopub.status.idle": "2025-03-07T10:43:07.382070Z",
     "shell.execute_reply": "2025-03-07T10:43:07.381050Z"
    },
    "papermill": {
     "duration": 0.03361,
     "end_time": "2025-03-07T10:43:07.383822",
     "exception": false,
     "start_time": "2025-03-07T10:43:07.350212",
     "status": "completed"
    },
    "tags": []
   },
   "outputs": [],
   "source": [
    " from sklearn.model_selection import GridSearchCV"
   ]
  },
  {
   "cell_type": "code",
   "execution_count": 78,
   "id": "dbeb41bf",
   "metadata": {
    "execution": {
     "iopub.execute_input": "2025-03-07T10:43:07.436135Z",
     "iopub.status.busy": "2025-03-07T10:43:07.435684Z",
     "iopub.status.idle": "2025-03-07T10:43:29.018799Z",
     "shell.execute_reply": "2025-03-07T10:43:29.017423Z"
    },
    "papermill": {
     "duration": 21.611437,
     "end_time": "2025-03-07T10:43:29.020688",
     "exception": false,
     "start_time": "2025-03-07T10:43:07.409251",
     "status": "completed"
    },
    "tags": []
   },
   "outputs": [
    {
     "name": "stdout",
     "output_type": "stream",
     "text": [
      "Best Parameters using Grid search: \n",
      " {'criterion': 'squared_error', 'max_depth': 7, 'max_features': 'sqrt', 'n_estimators': 200}\n"
     ]
    }
   ],
   "source": [
    "np.random.seed(40)\n",
    "\n",
    "param_dist = {'n_estimators': [100,200],\n",
    "             'max_depth': [3,5,7],\n",
    "             'max_features': ['sqrt', 'log2'],\n",
    "             'criterion': ['squared_error']}\n",
    "\n",
    "cv_rf = GridSearchCV(rf,cv=3,param_grid=param_dist,n_jobs=-1)\n",
    "cv_rf.fit(x_train_pca,y_train)\n",
    "print('Best Parameters using Grid search: \\n',cv_rf.best_params_)"
   ]
  },
  {
   "cell_type": "code",
   "execution_count": 79,
   "id": "5f0dfa66",
   "metadata": {
    "execution": {
     "iopub.execute_input": "2025-03-07T10:43:29.073652Z",
     "iopub.status.busy": "2025-03-07T10:43:29.073196Z",
     "iopub.status.idle": "2025-03-07T10:43:29.188844Z",
     "shell.execute_reply": "2025-03-07T10:43:29.187672Z"
    },
    "papermill": {
     "duration": 0.144597,
     "end_time": "2025-03-07T10:43:29.191057",
     "exception": false,
     "start_time": "2025-03-07T10:43:29.046460",
     "status": "completed"
    },
    "tags": []
   },
   "outputs": [],
   "source": [
    "y_pred_train = cv_rf.predict(x_train_pca)\n",
    "y_pred_test= cv_rf.predict(x_test_pca)"
   ]
  },
  {
   "cell_type": "code",
   "execution_count": 80,
   "id": "05960ad6",
   "metadata": {
    "execution": {
     "iopub.execute_input": "2025-03-07T10:43:29.244921Z",
     "iopub.status.busy": "2025-03-07T10:43:29.244546Z",
     "iopub.status.idle": "2025-03-07T10:43:29.252739Z",
     "shell.execute_reply": "2025-03-07T10:43:29.251390Z"
    },
    "papermill": {
     "duration": 0.036683,
     "end_time": "2025-03-07T10:43:29.254424",
     "exception": false,
     "start_time": "2025-03-07T10:43:29.217741",
     "status": "completed"
    },
    "tags": []
   },
   "outputs": [
    {
     "name": "stdout",
     "output_type": "stream",
     "text": [
      "training accuracy 0.8832117930552257\n",
      "\n",
      "test accuracy 0.7852870123339672\n"
     ]
    }
   ],
   "source": [
    "print(\"training accuracy\", r2_score(y_train, y_pred_train))\n",
    "print()\n",
    "print(\"test accuracy\", r2_score(y_test, y_pred_test))"
   ]
  },
  {
   "cell_type": "markdown",
   "id": "72e9ff04",
   "metadata": {
    "papermill": {
     "duration": 0.025965,
     "end_time": "2025-03-07T10:43:29.308954",
     "exception": false,
     "start_time": "2025-03-07T10:43:29.282989",
     "status": "completed"
    },
    "tags": []
   },
   "source": [
    "## XGBoost Regressor"
   ]
  },
  {
   "cell_type": "code",
   "execution_count": 81,
   "id": "f43421bf",
   "metadata": {
    "execution": {
     "iopub.execute_input": "2025-03-07T10:43:29.361450Z",
     "iopub.status.busy": "2025-03-07T10:43:29.361067Z",
     "iopub.status.idle": "2025-03-07T10:43:31.299661Z",
     "shell.execute_reply": "2025-03-07T10:43:31.298602Z"
    },
    "papermill": {
     "duration": 1.967485,
     "end_time": "2025-03-07T10:43:31.301965",
     "exception": false,
     "start_time": "2025-03-07T10:43:29.334480",
     "status": "completed"
    },
    "tags": []
   },
   "outputs": [
    {
     "data": {
      "text/html": [
       "<style>#sk-container-id-2 {color: black;background-color: white;}#sk-container-id-2 pre{padding: 0;}#sk-container-id-2 div.sk-toggleable {background-color: white;}#sk-container-id-2 label.sk-toggleable__label {cursor: pointer;display: block;width: 100%;margin-bottom: 0;padding: 0.3em;box-sizing: border-box;text-align: center;}#sk-container-id-2 label.sk-toggleable__label-arrow:before {content: \"▸\";float: left;margin-right: 0.25em;color: #696969;}#sk-container-id-2 label.sk-toggleable__label-arrow:hover:before {color: black;}#sk-container-id-2 div.sk-estimator:hover label.sk-toggleable__label-arrow:before {color: black;}#sk-container-id-2 div.sk-toggleable__content {max-height: 0;max-width: 0;overflow: hidden;text-align: left;background-color: #f0f8ff;}#sk-container-id-2 div.sk-toggleable__content pre {margin: 0.2em;color: black;border-radius: 0.25em;background-color: #f0f8ff;}#sk-container-id-2 input.sk-toggleable__control:checked~div.sk-toggleable__content {max-height: 200px;max-width: 100%;overflow: auto;}#sk-container-id-2 input.sk-toggleable__control:checked~label.sk-toggleable__label-arrow:before {content: \"▾\";}#sk-container-id-2 div.sk-estimator input.sk-toggleable__control:checked~label.sk-toggleable__label {background-color: #d4ebff;}#sk-container-id-2 div.sk-label input.sk-toggleable__control:checked~label.sk-toggleable__label {background-color: #d4ebff;}#sk-container-id-2 input.sk-hidden--visually {border: 0;clip: rect(1px 1px 1px 1px);clip: rect(1px, 1px, 1px, 1px);height: 1px;margin: -1px;overflow: hidden;padding: 0;position: absolute;width: 1px;}#sk-container-id-2 div.sk-estimator {font-family: monospace;background-color: #f0f8ff;border: 1px dotted black;border-radius: 0.25em;box-sizing: border-box;margin-bottom: 0.5em;}#sk-container-id-2 div.sk-estimator:hover {background-color: #d4ebff;}#sk-container-id-2 div.sk-parallel-item::after {content: \"\";width: 100%;border-bottom: 1px solid gray;flex-grow: 1;}#sk-container-id-2 div.sk-label:hover label.sk-toggleable__label {background-color: #d4ebff;}#sk-container-id-2 div.sk-serial::before {content: \"\";position: absolute;border-left: 1px solid gray;box-sizing: border-box;top: 0;bottom: 0;left: 50%;z-index: 0;}#sk-container-id-2 div.sk-serial {display: flex;flex-direction: column;align-items: center;background-color: white;padding-right: 0.2em;padding-left: 0.2em;position: relative;}#sk-container-id-2 div.sk-item {position: relative;z-index: 1;}#sk-container-id-2 div.sk-parallel {display: flex;align-items: stretch;justify-content: center;background-color: white;position: relative;}#sk-container-id-2 div.sk-item::before, #sk-container-id-2 div.sk-parallel-item::before {content: \"\";position: absolute;border-left: 1px solid gray;box-sizing: border-box;top: 0;bottom: 0;left: 50%;z-index: -1;}#sk-container-id-2 div.sk-parallel-item {display: flex;flex-direction: column;z-index: 1;position: relative;background-color: white;}#sk-container-id-2 div.sk-parallel-item:first-child::after {align-self: flex-end;width: 50%;}#sk-container-id-2 div.sk-parallel-item:last-child::after {align-self: flex-start;width: 50%;}#sk-container-id-2 div.sk-parallel-item:only-child::after {width: 0;}#sk-container-id-2 div.sk-dashed-wrapped {border: 1px dashed gray;margin: 0 0.4em 0.5em 0.4em;box-sizing: border-box;padding-bottom: 0.4em;background-color: white;}#sk-container-id-2 div.sk-label label {font-family: monospace;font-weight: bold;display: inline-block;line-height: 1.2em;}#sk-container-id-2 div.sk-label-container {text-align: center;}#sk-container-id-2 div.sk-container {/* jupyter's `normalize.less` sets `[hidden] { display: none; }` but bootstrap.min.css set `[hidden] { display: none !important; }` so we also need the `!important` here to be able to override the default hidden behavior on the sphinx rendered scikit-learn.org. See: https://github.com/scikit-learn/scikit-learn/issues/21755 */display: inline-block !important;position: relative;}#sk-container-id-2 div.sk-text-repr-fallback {display: none;}</style><div id=\"sk-container-id-2\" class=\"sk-top-container\"><div class=\"sk-text-repr-fallback\"><pre>XGBRegressor(base_score=None, booster=None, callbacks=None,\n",
       "             colsample_bylevel=None, colsample_bynode=None,\n",
       "             colsample_bytree=None, device=None, early_stopping_rounds=None,\n",
       "             enable_categorical=False, eval_metric=None, feature_types=None,\n",
       "             gamma=None, grow_policy=None, importance_type=None,\n",
       "             interaction_constraints=None, learning_rate=0.01, max_bin=None,\n",
       "             max_cat_threshold=None, max_cat_to_onehot=None,\n",
       "             max_delta_step=None, max_depth=7, max_leaves=None,\n",
       "             min_child_weight=None, missing=nan, monotone_constraints=None,\n",
       "             multi_strategy=None, n_estimators=None, n_jobs=None,\n",
       "             num_parallel_tree=None, random_state=42, ...)</pre><b>In a Jupyter environment, please rerun this cell to show the HTML representation or trust the notebook. <br />On GitHub, the HTML representation is unable to render, please try loading this page with nbviewer.org.</b></div><div class=\"sk-container\" hidden><div class=\"sk-item\"><div class=\"sk-estimator sk-toggleable\"><input class=\"sk-toggleable__control sk-hidden--visually\" id=\"sk-estimator-id-4\" type=\"checkbox\" checked><label for=\"sk-estimator-id-4\" class=\"sk-toggleable__label sk-toggleable__label-arrow\">XGBRegressor</label><div class=\"sk-toggleable__content\"><pre>XGBRegressor(base_score=None, booster=None, callbacks=None,\n",
       "             colsample_bylevel=None, colsample_bynode=None,\n",
       "             colsample_bytree=None, device=None, early_stopping_rounds=None,\n",
       "             enable_categorical=False, eval_metric=None, feature_types=None,\n",
       "             gamma=None, grow_policy=None, importance_type=None,\n",
       "             interaction_constraints=None, learning_rate=0.01, max_bin=None,\n",
       "             max_cat_threshold=None, max_cat_to_onehot=None,\n",
       "             max_delta_step=None, max_depth=7, max_leaves=None,\n",
       "             min_child_weight=None, missing=nan, monotone_constraints=None,\n",
       "             multi_strategy=None, n_estimators=None, n_jobs=None,\n",
       "             num_parallel_tree=None, random_state=42, ...)</pre></div></div></div></div></div>"
      ],
      "text/plain": [
       "XGBRegressor(base_score=None, booster=None, callbacks=None,\n",
       "             colsample_bylevel=None, colsample_bynode=None,\n",
       "             colsample_bytree=None, device=None, early_stopping_rounds=None,\n",
       "             enable_categorical=False, eval_metric=None, feature_types=None,\n",
       "             gamma=None, grow_policy=None, importance_type=None,\n",
       "             interaction_constraints=None, learning_rate=0.01, max_bin=None,\n",
       "             max_cat_threshold=None, max_cat_to_onehot=None,\n",
       "             max_delta_step=None, max_depth=7, max_leaves=None,\n",
       "             min_child_weight=None, missing=nan, monotone_constraints=None,\n",
       "             multi_strategy=None, n_estimators=None, n_jobs=None,\n",
       "             num_parallel_tree=None, random_state=42, ...)"
      ]
     },
     "execution_count": 81,
     "metadata": {},
     "output_type": "execute_result"
    }
   ],
   "source": [
    "from xgboost import XGBRegressor\n",
    "xgb = XGBRegressor(random_state=42,learning_rate=0.01,max_depth=7)\n",
    "xgb.fit(x_train_pca,y_train)"
   ]
  },
  {
   "cell_type": "code",
   "execution_count": 82,
   "id": "fd07af5e",
   "metadata": {
    "execution": {
     "iopub.execute_input": "2025-03-07T10:43:31.357491Z",
     "iopub.status.busy": "2025-03-07T10:43:31.357087Z",
     "iopub.status.idle": "2025-03-07T10:43:31.377752Z",
     "shell.execute_reply": "2025-03-07T10:43:31.376780Z"
    },
    "papermill": {
     "duration": 0.050471,
     "end_time": "2025-03-07T10:43:31.379951",
     "exception": false,
     "start_time": "2025-03-07T10:43:31.329480",
     "status": "completed"
    },
    "tags": []
   },
   "outputs": [],
   "source": [
    "y_pred_train = xgb.predict(x_train_pca) \n",
    "y_pred_test = xgb.predict(x_test_pca) "
   ]
  },
  {
   "cell_type": "code",
   "execution_count": 83,
   "id": "ed25106e",
   "metadata": {
    "execution": {
     "iopub.execute_input": "2025-03-07T10:43:31.436740Z",
     "iopub.status.busy": "2025-03-07T10:43:31.436289Z",
     "iopub.status.idle": "2025-03-07T10:43:31.444132Z",
     "shell.execute_reply": "2025-03-07T10:43:31.442985Z"
    },
    "papermill": {
     "duration": 0.03673,
     "end_time": "2025-03-07T10:43:31.445966",
     "exception": false,
     "start_time": "2025-03-07T10:43:31.409236",
     "status": "completed"
    },
    "tags": []
   },
   "outputs": [
    {
     "name": "stdout",
     "output_type": "stream",
     "text": [
      "training accuracy 0.7407424893538991\n",
      "\n",
      "test accuracy 0.6463050769039811\n"
     ]
    }
   ],
   "source": [
    "print(\"training accuracy\", r2_score(y_train, y_pred_train))\n",
    "print()\n",
    "print(\"test accuracy\", r2_score(y_test, y_pred_test))"
   ]
  },
  {
   "cell_type": "markdown",
   "id": "51f2b210",
   "metadata": {
    "papermill": {
     "duration": 0.027003,
     "end_time": "2025-03-07T10:43:31.499438",
     "exception": false,
     "start_time": "2025-03-07T10:43:31.472435",
     "status": "completed"
    },
    "tags": []
   },
   "source": [
    "GOT 87% ACCURACY FOR TRAIN AND APPROX 83% FOR TEST DATA USING LINEAR REGRESSION ALGORITHM"
   ]
  }
 ],
 "metadata": {
  "kaggle": {
   "accelerator": "none",
   "dataSources": [
    {
     "datasetId": 1688599,
     "sourceId": 2767101,
     "sourceType": "datasetVersion"
    }
   ],
   "dockerImageVersionId": 30822,
   "isGpuEnabled": false,
   "isInternetEnabled": true,
   "language": "python",
   "sourceType": "notebook"
  },
  "kernelspec": {
   "display_name": "Python 3",
   "language": "python",
   "name": "python3"
  },
  "language_info": {
   "codemirror_mode": {
    "name": "ipython",
    "version": 3
   },
   "file_extension": ".py",
   "mimetype": "text/x-python",
   "name": "python",
   "nbconvert_exporter": "python",
   "pygments_lexer": "ipython3",
   "version": "3.10.12"
  },
  "papermill": {
   "default_parameters": {},
   "duration": 75.366829,
   "end_time": "2025-03-07T10:43:32.447282",
   "environment_variables": {},
   "exception": null,
   "input_path": "__notebook__.ipynb",
   "output_path": "__notebook__.ipynb",
   "parameters": {},
   "start_time": "2025-03-07T10:42:17.080453",
   "version": "2.6.0"
  }
 },
 "nbformat": 4,
 "nbformat_minor": 5
}
